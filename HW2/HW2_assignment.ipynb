{
 "cells": [
  {
   "cell_type": "markdown",
   "metadata": {},
   "source": [
    "# ORIE 5355/INFO 5370 HW 2: Recommendation systems"
   ]
  },
  {
   "cell_type": "markdown",
   "metadata": {},
   "source": [
    " - Name: Martin Sun\n",
    " - Net-id: ms2923\n",
    " - Date: 2021-10-2\n",
    " - Late days used for this assignment:\n",
    " - Total late days used (counting this assignment): 1\n",
    " - People with whom you discussed this assignment: "
   ]
  },
  {
   "cell_type": "markdown",
   "metadata": {},
   "source": [
    "After you finish the homework, please complete the following (short, anonymous) post-homework survey: https://forms.gle/5AG69LXM4yV3TL7o6 and include the survey completion code below."
   ]
  },
  {
   "cell_type": "markdown",
   "metadata": {},
   "source": [
    "### Question 0 [2 points]\n",
    "<font color='blue'> Survey completion code: "
   ]
  },
  {
   "cell_type": "markdown",
   "metadata": {},
   "source": [
    "We have marked questions in <font color='blue'> blue </font>. Please put answers in black (do not change colors). You'll want to write text answers in \"markdown\" mode instead of code. In Jupyter notebook, you can go to Cell > Cell Type > Markdown, from the menu. Please carefully read the late days policy and grading procedure [here](https://orie5355.github.io/Fall_2021/assignments/). "
   ]
  },
  {
   "cell_type": "markdown",
   "metadata": {},
   "source": [
    "# Conceptual component"
   ]
  },
  {
   "cell_type": "markdown",
   "metadata": {},
   "source": [
    "Go through the \"Algorithms tour\" [here](https://algorithms-tour.stitchfix.com/). It's a great view of the combination of algorithms used by a modern e-commerce company. "
   ]
  },
  {
   "cell_type": "markdown",
   "metadata": {},
   "source": [
    "<font color='blue'> 1) How do they use a combination of \"latent\" factors and explicit features to gain the benefits of collaborative filtering (matrix factorization) while not being susceptible to cold start issues?"
   ]
  },
  {
   "cell_type": "markdown",
   "metadata": {
    "pycharm": {
     "name": "#%% md\n"
    }
   },
   "source": [
    "StitchFix starts with a Style Profile for every customer.\n",
    "Warehouse assignment using cost optimization.\n",
    "Evaluate likelihood of liking item\n",
    "    Tag item with multiple scores from different algorithms, ranked\n",
    "    Collaborative filtering - people who liked similar things also liked other things to fill in sparse matrix\n",
    "Cold start combated\n",
    "    Lots of explicit data\n",
    "        Client preferences\n",
    "        Clothing attributes\n",
    "    Mixed effects modeling. Tracks client preferences over time.\n",
    "Latent features?\n",
    "    Unstated features. Can infer from other data.\n",
    "    Then further learn latent features through feedback and history.\n",
    "Other client data is further used.\n",
    "    Look at client Pinterest.\n",
    "        Neural networks to vector classify similar items\n",
    "    NLP to process textual information\n",
    "Multiple algorithm scores all accounted for\n",
    "\n",
    "StitchFix starts with a Style Profile that new customers must complete. This provides an excellent starting point\n",
    "of explicit user data. Their inventory is also comprehensively described with clothing attributes. This is explicit\n",
    "data, in combination with traditional collaborative filtering, is used to \"learn\" missing data from the matrix\n",
    "factorization cold-start. One method is mixed-effects-modeling, which combines fixed and random effects to learn\n",
    "client preferences over time. Latent features are further inferred from continuously updated client data and are used\n",
    "in combination with explicit client data to further improve the recommendation model by filling in. Some ways StitchFix does this\n",
    "include image recognition and NLP."
   ]
  },
  {
   "cell_type": "markdown",
   "metadata": {},
   "source": [
    "<font color='blue'> 2) How do they match clients with human stylists who make the final decision? Does it remind you of anything we learned in class?"
   ]
  },
  {
   "cell_type": "markdown",
   "metadata": {
    "pycharm": {
     "name": "#%% md\n"
    }
   },
   "source": [
    "Available stylists receive match scores to clients based on a number of data sets, including historical feedback and style\n",
    "profiles. Very similarly to matching clients with warehouses or items, a matrix can be formed of these match scores and\n",
    "optimized globally. The difference however, is that this is a two-sided-marketplace, combined with capacity constraints,\n",
    "as discussed in class. The stylist must select a client and the applicable tasks to perform. In this way, not only does\n",
    "each client get matched to suitable stylists, but every stylist must manually select their clients."
   ]
  },
  {
   "cell_type": "markdown",
   "metadata": {},
   "source": [
    "<font color='blue'> 3) How do they manage their inventory to ensure that they have enough items that future customers will want?"
   ]
  },
  {
   "cell_type": "markdown",
   "metadata": {
    "pycharm": {
     "name": "#%% md\n"
    }
   },
   "source": [
    "Algorithms are used to estimate future demand and appropriately allocate inventory to various warehouses.\n",
    "StitchFix uses Markov Chains to forecast demand accurately. A model of the system dynamics are built and fitted with\n",
    "historical data to forecast inventory requirements. Uncertainties are quantified and inputted to improve the reliability\n",
    "of supply."
   ]
  },
  {
   "cell_type": "markdown",
   "metadata": {},
   "source": [
    "# Programming component"
   ]
  },
  {
   "cell_type": "markdown",
   "metadata": {},
   "source": [
    "## Helper code"
   ]
  },
  {
   "cell_type": "code",
   "execution_count": 58,
   "metadata": {},
   "outputs": [],
   "source": [
    "import numpy as np\n",
    "import pandas as pd\n",
    "import os, sys, math\n",
    "import matplotlib.pyplot as plt\n",
    "import pickle\n",
    "import seaborn as sns\n",
    "import warnings\n",
    "warnings.filterwarnings('ignore')\n",
    "\n",
    "def load_pickle(filename):\n",
    "    with open(filename, \"rb\") as f:\n",
    "        data = pickle.load(f)\n",
    "    return data\n",
    "\n",
    "def load_ratings_and_factors(type_name = 'interaction'):\n",
    "    ratings = load_pickle('data/{}_ratings'.format(type_name))\n",
    "    book_vectors = load_pickle('data/{}_dict_book_factor'.format(type_name))\n",
    "    user_vectors = load_pickle('data/{}_dict_reader_factor'.format(type_name))\n",
    "    return ratings, book_vectors, user_vectors"
   ]
  },
  {
   "cell_type": "markdown",
   "metadata": {},
   "source": [
    "In this homework, we are giving you trained user and book item vectors using a GoodReads dataset. Goodreads is a social cataloging website that allows individuals to search its database of books, annotations, quotes, and reviews. There are multiple types of interactions that a user can have with a book: add books to a list of books they intend to read (\"short-list\" the book), indicate they have read books before, and review books they have read. \n",
    "\n",
    "Here, we work with multiple types of interactions as training data for a recommendation system. For each \"type\" of rating data, we give you the raw ratings data, as well as user and item vectors trained using a Python package (https://berkeley-reclab.github.io/) that implements matrix factorization in cases where there are missing entries in a matrix. The \"ratings\" data is in a \"sparse matrix\"/dictionary format, meaning that the dictionary keys are of the kind (user, item), and the dictionary value is the corresponding value. Not all pairs are in the matrix, indicating that that value is missing or at its default value. \n",
    "\n",
    "There are 4 types of rating/interaction data:\n",
    "\n",
    " - `Interaction`: a \"1\" indicates the user has interacted with the book at some point in the past, either by saying that they intend to read it, have read it, or have given it a rating. If it is missing, that means the user has not interacted with the book.\n",
    " \n",
    " - `Explicit Rating`: explicit ratings. Numeric values indicate the ratings given. If it is missing, that means the user has not rated the book.\n",
    "  \n",
    " - `Rating_all_zero`: explicit ratings. Numeric values more than 0 indicate the ratings given. Now, we replace missing values from above with \"zeros,\" so that there are no missing ratings.\n",
    " \n",
    " - `Rating_interaction_zero`: explicit ratings. Numeric values more than 0 indicate the ratings given. Now, we replace missing values from above with \"zeros,\" only if the user interacted with that book in the past."
   ]
  },
  {
   "cell_type": "code",
   "execution_count": 59,
   "metadata": {},
   "outputs": [],
   "source": [
    "ratings_interactions, book_vectors_interactions, user_vectors_interactions = load_ratings_and_factors(type_name = 'interaction')\n",
    "ratings_explicit, book_vectors_explicit, user_vectors_explicit = load_ratings_and_factors(type_name = 'rating')\n",
    "ratings_allmissing0, book_vectors_allmissing0, user_vectors_allmissing0 = load_ratings_and_factors(type_name = 'rating_all_zero')\n",
    "ratings_interact0, book_vectors_interact0, user_vectors_interact0 = load_ratings_and_factors(type_name = 'rating_interaction_zero')\n"
   ]
  },
  {
   "cell_type": "code",
   "execution_count": 60,
   "metadata": {},
   "outputs": [],
   "source": [
    "def get_shapes_and_ranges(ratings, book_vectors, item_vectors):\n",
    "    print(len(ratings), np.shape(book_vectors), np.shape(item_vectors), min(ratings.values()), max(ratings.values()))"
   ]
  },
  {
   "cell_type": "code",
   "execution_count": 61,
   "metadata": {},
   "outputs": [
    {
     "name": "stdout",
     "output_type": "stream",
     "text": [
      "12238 (200, 10) (1000, 10) 1 1\n",
      "8324 (200, 10) (1000, 10) 1 5\n",
      "200000 (200, 10) (1000, 10) 0 5\n",
      "12238 (200, 10) (1000, 10) 0 5\n"
     ]
    }
   ],
   "source": [
    "get_shapes_and_ranges(ratings_interactions, book_vectors_interactions, user_vectors_interactions)\n",
    "get_shapes_and_ranges(ratings_explicit, book_vectors_explicit, user_vectors_explicit)\n",
    "get_shapes_and_ranges(ratings_allmissing0, book_vectors_allmissing0, user_vectors_allmissing0)\n",
    "get_shapes_and_ranges(ratings_interact0, book_vectors_interact0, user_vectors_interact0)"
   ]
  },
  {
   "cell_type": "markdown",
   "metadata": {},
   "source": [
    "## Problem 1: Predictions and recommendations with different data types"
   ]
  },
  {
   "cell_type": "markdown",
   "metadata": {},
   "source": [
    "### 1a) What do different data types mean?"
   ]
  },
  {
   "cell_type": "markdown",
   "metadata": {},
   "source": [
    "<font color='blue'> What is `Rating_interaction_zero` trying to capture -- why would we fill in books that someone interacted with but did not rate as a 0? (Hint: connect to conceptual reading from HW1). Answer in no more than 3 sentences."
   ]
  },
  {
   "cell_type": "markdown",
   "metadata": {},
   "source": [
    "Determining which readers actually interacted with a book is critical to determining the true, underlying meaning of a rating.\n",
    "By tracking the unrated interactions of a book, we may begin to analyze the unobservable quality, as it is likely that\n",
    "many readers whose experience is bad or mediocre do not rate proactively. It is thus useful to know the propensity of positive\n",
    "feedback out of all interactions."
   ]
  },
  {
   "cell_type": "markdown",
   "metadata": {},
   "source": [
    "<font color='blue'> What are some potential problems you see with using `rating_all_zero` for recommendations? Answer in no more than 3 sentences.\n",
    "    \n",
    "    "
   ]
  },
  {
   "cell_type": "markdown",
   "metadata": {},
   "source": [
    "As mentioned before, this data set does not have any information of interaction, only ratings and non-ratings.\n",
    "We do not know if someone didn't rate because the book was unremarkable or whether they did not read the book. We need\n",
    "this critical information to make properly informed recommendations."
   ]
  },
  {
   "cell_type": "markdown",
   "metadata": {},
   "source": [
    "### 1b) Generating predictions"
   ]
  },
  {
   "cell_type": "markdown",
   "metadata": {},
   "source": [
    "<font color='blue'> Fill in the following function that takes in a user matrix (where each row is 1 user vector) and an item matrix (where each row is 1 item vector), and returns a matrix of predicted ratings for each user and item, where each entry is associated with the corresponding user (row number) and item (column number)"
   ]
  },
  {
   "cell_type": "code",
   "execution_count": 62,
   "metadata": {},
   "outputs": [],
   "source": [
    "def get_predictions(user_vectors, book_vectors):\n",
    "    return np.matmul(user_vectors,book_vectors.T)"
   ]
  },
  {
   "cell_type": "markdown",
   "metadata": {},
   "source": [
    "<font color='blue'> Output the predictions for first 10 items for the first user, using each of the 4 data types"
   ]
  },
  {
   "cell_type": "code",
   "execution_count": 63,
   "metadata": {},
   "outputs": [
    {
     "data": {
      "text/plain": "                      0         1         2         3         4         5  \\\nExplicit       0.072564  0.406747  0.076150 -0.075092  0.176365  0.959147   \nExplicit_0     0.080312  0.289754  0.063452  1.569530 -0.185672  0.055025   \nInteraction   -0.002687  0.010079  0.001735 -0.000984  0.002932  0.007338   \nInteraction_0 -1.008793  4.166630 -0.918569 -0.301948 -2.526068 -0.189057   \n\n                      6         7         8         9  \nExplicit      -0.238926 -0.002218 -0.912050  0.658399  \nExplicit_0     0.011077 -0.088223 -0.895036 -0.011752  \nInteraction   -0.010303  0.007220  0.001104  0.003352  \nInteraction_0 -3.081039 -0.537185 -1.186188 -1.218384  ",
      "text/html": "<div>\n<style scoped>\n    .dataframe tbody tr th:only-of-type {\n        vertical-align: middle;\n    }\n\n    .dataframe tbody tr th {\n        vertical-align: top;\n    }\n\n    .dataframe thead th {\n        text-align: right;\n    }\n</style>\n<table border=\"1\" class=\"dataframe\">\n  <thead>\n    <tr style=\"text-align: right;\">\n      <th></th>\n      <th>0</th>\n      <th>1</th>\n      <th>2</th>\n      <th>3</th>\n      <th>4</th>\n      <th>5</th>\n      <th>6</th>\n      <th>7</th>\n      <th>8</th>\n      <th>9</th>\n    </tr>\n  </thead>\n  <tbody>\n    <tr>\n      <th>Explicit</th>\n      <td>0.072564</td>\n      <td>0.406747</td>\n      <td>0.076150</td>\n      <td>-0.075092</td>\n      <td>0.176365</td>\n      <td>0.959147</td>\n      <td>-0.238926</td>\n      <td>-0.002218</td>\n      <td>-0.912050</td>\n      <td>0.658399</td>\n    </tr>\n    <tr>\n      <th>Explicit_0</th>\n      <td>0.080312</td>\n      <td>0.289754</td>\n      <td>0.063452</td>\n      <td>1.569530</td>\n      <td>-0.185672</td>\n      <td>0.055025</td>\n      <td>0.011077</td>\n      <td>-0.088223</td>\n      <td>-0.895036</td>\n      <td>-0.011752</td>\n    </tr>\n    <tr>\n      <th>Interaction</th>\n      <td>-0.002687</td>\n      <td>0.010079</td>\n      <td>0.001735</td>\n      <td>-0.000984</td>\n      <td>0.002932</td>\n      <td>0.007338</td>\n      <td>-0.010303</td>\n      <td>0.007220</td>\n      <td>0.001104</td>\n      <td>0.003352</td>\n    </tr>\n    <tr>\n      <th>Interaction_0</th>\n      <td>-1.008793</td>\n      <td>4.166630</td>\n      <td>-0.918569</td>\n      <td>-0.301948</td>\n      <td>-2.526068</td>\n      <td>-0.189057</td>\n      <td>-3.081039</td>\n      <td>-0.537185</td>\n      <td>-1.186188</td>\n      <td>-1.218384</td>\n    </tr>\n  </tbody>\n</table>\n</div>"
     },
     "execution_count": 63,
     "metadata": {},
     "output_type": "execute_result"
    }
   ],
   "source": [
    "exp_pred = get_predictions(user_vectors_explicit, book_vectors_explicit)\n",
    "exp0_pred = get_predictions(user_vectors_allmissing0, book_vectors_allmissing0)\n",
    "int_pred = get_predictions(user_vectors_interactions, book_vectors_interactions)\n",
    "int0_pred = get_predictions(user_vectors_interact0, book_vectors_interact0)\n",
    "\n",
    "pd.DataFrame({'Explicit': exp_pred[0, 0:10], 'Explicit_0': exp0_pred[0, 0:10], 'Interaction': int_pred[0, 0:10],\n",
    "             'Interaction_0': int0_pred[0, 0:10]}).transpose()"
   ]
  },
  {
   "cell_type": "markdown",
   "metadata": {},
   "source": [
    "<font color='blue'> Do a scatterplot of the predicted rating for the \"interaction\" and \"explicit ratings\" types. (Each dot represents one user and one book, with X axis being predicted ratings using interaction data and Y axis being predicted rating using explicit ratings). Describe what you see in no more than 2 sentences. "
   ]
  },
  {
   "cell_type": "code",
   "execution_count": 75,
   "metadata": {},
   "outputs": [
    {
     "data": {
      "text/plain": "<Figure size 432x288 with 1 Axes>",
      "image/png": "[encoded data removed]"
     },
     "metadata": {
      "needs_background": "light"
     },
     "output_type": "display_data"
    }
   ],
   "source": [
    "plt1 = sns.scatterplot(int_pred.flatten(), exp_pred.flatten())"
   ]
  },
  {
   "cell_type": "code",
   "execution_count": 74,
   "outputs": [
    {
     "data": {
      "text/plain": "<Figure size 432x288 with 1 Axes>",
      "image/png": "[encoded data removed]"
     },
     "metadata": {
      "needs_background": "light"
     },
     "output_type": "display_data"
    }
   ],
   "source": [
    "plt2 = sns.scatterplot(int0_pred.flatten(), exp0_pred.flatten())"
   ],
   "metadata": {
    "collapsed": false,
    "pycharm": {
     "name": "#%%\n"
    }
   }
  },
  {
   "cell_type": "markdown",
   "source": [
    "The non-zero-filled plot shows a slight positive correlation between interaction ratings and explicit ratings, meaning\n",
    "that they somewhat agree in predictions (although not in magnitude). The zero filled data does not appear to correlate,\n",
    "however this could be simply because of a high number of missing explicit ratings, which stretches the X range out."
   ],
   "metadata": {
    "collapsed": false,
    "pycharm": {
     "name": "#%% md\n"
    }
   }
  },
  {
   "cell_type": "markdown",
   "metadata": {},
   "source": [
    "### 1c) From predictions to recommendations (without capacity constraints)"
   ]
  },
  {
   "cell_type": "markdown",
   "metadata": {},
   "source": [
    "<font color='blue'> Fill in the following function that takes in the matrix predicted ratings for each user and item, returns a dictioanry where the keys are the user indices and the values are a list of length \"number_top_items\" indicating the recommendations given to that user"
   ]
  },
  {
   "cell_type": "code",
   "execution_count": 66,
   "metadata": {},
   "outputs": [],
   "source": [
    "def get_recommendations_for_each_user(predictions, number_top_items = 10):\n",
    "    pass"
   ]
  },
  {
   "cell_type": "markdown",
   "metadata": {},
   "source": [
    "<font color='blue'> Output the recommendations for the first user, using each of the 4 data types"
   ]
  },
  {
   "cell_type": "code",
   "execution_count": 66,
   "metadata": {},
   "outputs": [],
   "source": []
  },
  {
   "cell_type": "markdown",
   "metadata": {},
   "source": [
    "<font color='blue'> Fill in the following function that takes in the recommendations for each user and item, and outputs a histogram for how often each item is to be recommended. For example, if there are 18 items, and 10 of them were never recommended, 5 of them were recommended once each, and 3 of them were recommended five times each, then you would have bars at 0, 1, and 5, of height 10, 5, and 3, respectively."
   ]
  },
  {
   "cell_type": "code",
   "execution_count": 67,
   "metadata": {},
   "outputs": [],
   "source": [
    "def show_frequency_histograms(recommendations):\n",
    "    pass"
   ]
  },
  {
   "cell_type": "markdown",
   "metadata": {},
   "source": [
    "<font color='blue'> Show the histograms for the \"interact\" and \"explicit\" data types. Describe what you observe in no more than 3 sentences. For example, discuss how often is the most recommended item recommended, how that compares to the least recommended items, and what that could mean for recommendations in various contexts. "
   ]
  },
  {
   "cell_type": "markdown",
   "metadata": {},
   "source": [
    "# Problem 2: Cold start -- recommendations for new users"
   ]
  },
  {
   "cell_type": "markdown",
   "metadata": {},
   "source": [
    "In this part of the assignment, we are going to ask you to tackle the \"cold-start\" problem with matrix-factorization based recommendation systems. The above recommendation techniques worked when you had access to past data for reach user, such as interactions or explicit ratings. However, it doesn't work as well when a new user has just joined the platform and so the platform doesn't have any data.  \n",
    "\n",
    "You should also see a comma-separated values file (user_demographics.csv) that contains basic demographic information on each user. Each row describes one user, and have four attributes: 'User ID', 'Wealth', 'Age group' and 'Location'.\n",
    "\n",
    "User ID is the unique identifier associated with each user, and it is in the same order as the user_vectors, and in the same indexing as the ratings (be careful about 0 and 1 indexing in Python).\n",
    "\n",
    "Wealth is a non-negative, normalized value indicating the average wealth of the neighborhood in which the user is, where we normalized it such that each Location has similar wealth distributions. Age group describes the age of the user. Location describes the region that the user is from."
   ]
  },
  {
   "cell_type": "code",
   "execution_count": 68,
   "metadata": {},
   "outputs": [
    {
     "data": {
      "text/plain": "   User ID    Wealth Age group      Location\n0        1  1.833101  50 to 64       America\n1        2  2.194996  18 to 34       America\n2        3  2.216195  18 to 34        Europe\n3        4  0.838690  50 to 64  Asia Pacific\n4        5  2.109313  18 to 34       America",
      "text/html": "<div>\n<style scoped>\n    .dataframe tbody tr th:only-of-type {\n        vertical-align: middle;\n    }\n\n    .dataframe tbody tr th {\n        vertical-align: top;\n    }\n\n    .dataframe thead th {\n        text-align: right;\n    }\n</style>\n<table border=\"1\" class=\"dataframe\">\n  <thead>\n    <tr style=\"text-align: right;\">\n      <th></th>\n      <th>User ID</th>\n      <th>Wealth</th>\n      <th>Age group</th>\n      <th>Location</th>\n    </tr>\n  </thead>\n  <tbody>\n    <tr>\n      <th>0</th>\n      <td>1</td>\n      <td>1.833101</td>\n      <td>50 to 64</td>\n      <td>America</td>\n    </tr>\n    <tr>\n      <th>1</th>\n      <td>2</td>\n      <td>2.194996</td>\n      <td>18 to 34</td>\n      <td>America</td>\n    </tr>\n    <tr>\n      <th>2</th>\n      <td>3</td>\n      <td>2.216195</td>\n      <td>18 to 34</td>\n      <td>Europe</td>\n    </tr>\n    <tr>\n      <th>3</th>\n      <td>4</td>\n      <td>0.838690</td>\n      <td>50 to 64</td>\n      <td>Asia Pacific</td>\n    </tr>\n    <tr>\n      <th>4</th>\n      <td>5</td>\n      <td>2.109313</td>\n      <td>18 to 34</td>\n      <td>America</td>\n    </tr>\n  </tbody>\n</table>\n</div>"
     },
     "execution_count": 68,
     "metadata": {},
     "output_type": "execute_result"
    }
   ],
   "source": [
    "demographics = pd.read_csv(\"data/user_demographics.csv\")\n",
    "demographics.head()"
   ]
  },
  {
   "cell_type": "markdown",
   "metadata": {},
   "source": [
    "We are now going to pretend that we don't have the personalized ratings/interactions history for the last 100 users, and thus don't have their user vectors. Rather, let's pretend that these are new users to the platform, and you are able to get the above demographics from their browswer cookies/IP address. Now, we're going to try to recommend items for them anyway. For this part, we'll exclusively use the \"ratings with interaction0\" data."
   ]
  },
  {
   "cell_type": "code",
   "execution_count": 69,
   "metadata": {},
   "outputs": [],
   "source": [
    "existing_user_vectors = user_vectors_interact0[0:900,:]\n",
    "existing_user_demographics = demographics.iloc[0:900,:]\n",
    "new_user_demographics = demographics.iloc[900:,:]"
   ]
  },
  {
   "cell_type": "markdown",
   "metadata": {
    "tags": []
   },
   "source": [
    "### 2a) Predictions for new users [Simple]"
   ]
  },
  {
   "cell_type": "markdown",
   "metadata": {},
   "source": [
    "<font color='blue'> Fill in the following function that takes in: the demographics of a single new user, the demographics of all the existing users in your platform, and the user vectors of all the existing users, and outputs a 'predicted' user vector for the new user to use until we get enough data for that user. \n",
    "    \n",
    "<font color='blue'> For this question, we ask you to use the following simple method to construct the vector for the new user. Each user is classified as \"Low\" or \"High\" wealth based on whether their Wealth score is below or above the median of 1.70. Then, we simply construct a mean user vector for \"Low\" and \"High\" wealth, based on the 900 users (take the average vector among users with \"Low\" and \"High\" Wealth, respectively.). The correpsonding mean vector is then used for each new user. "
   ]
  },
  {
   "cell_type": "code",
   "execution_count": 70,
   "metadata": {},
   "outputs": [
    {
     "data": {
      "text/plain": "1.7026180771992308"
     },
     "execution_count": 70,
     "metadata": {},
     "output_type": "execute_result"
    }
   ],
   "source": [
    "existing_user_demographics.Wealth.median()"
   ]
  },
  {
   "cell_type": "code",
   "execution_count": 71,
   "metadata": {},
   "outputs": [],
   "source": [
    "def get_user_vector_for_new_user(new_user, existing_user_demographics, existing_user_vectors):\n",
    "    pass"
   ]
  },
  {
   "cell_type": "code",
   "execution_count": 71,
   "metadata": {},
   "outputs": [],
   "source": []
  },
  {
   "cell_type": "markdown",
   "metadata": {},
   "source": [
    "<font color='blue'> Output the mean vector predicted for the first user in `new_user_demographics`. "
   ]
  },
  {
   "cell_type": "code",
   "execution_count": 71,
   "metadata": {},
   "outputs": [],
   "source": []
  },
  {
   "cell_type": "markdown",
   "metadata": {
    "tags": []
   },
   "source": [
    "### 2b) [Bonus, 3 points] Predictions for new users [Using KNN or another model]"
   ]
  },
  {
   "cell_type": "markdown",
   "metadata": {},
   "source": [
    "<font color='blue'> Fill in the following function that takes in: the demographics of a single new user, the demographics of all the existing users in your platform, and the user vectors of all the existing users, and outputs a 'predicted' user vector for the new user to use until we get enough data for that user. \n",
    "    \n",
    "<font color='blue'> Now, use K nearest neighbors or some other machine learning method. \n",
    "    \n",
    "<font color='blue'> Feel free to prepare data/train a model outside this function, and then use your trained model within the function."
   ]
  },
  {
   "cell_type": "code",
   "execution_count": 72,
   "metadata": {},
   "outputs": [],
   "source": [
    "def get_user_vector_for_new_user_knn(new_user, existing_user_demographics, existing_user_vectors):\n",
    "    pass"
   ]
  },
  {
   "cell_type": "markdown",
   "metadata": {},
   "source": [
    "<font color='blue'> Output the mean vector predicted for the first user in `new_user_demographics`. "
   ]
  },
  {
   "cell_type": "code",
   "execution_count": 72,
   "metadata": {},
   "outputs": [],
   "source": []
  },
  {
   "cell_type": "markdown",
   "metadata": {},
   "source": [
    "<font color='blue'> Justify your choice of model. If you used K nearest neighbors, then how did you decide upon your distance function? If you used another model, how does that model weight the different demographics in importance (either implicitly or explicitly)?"
   ]
  },
  {
   "cell_type": "code",
   "execution_count": 72,
   "metadata": {},
   "outputs": [],
   "source": []
  },
  {
   "cell_type": "markdown",
   "metadata": {},
   "source": [
    "### 2c) Comparing predictions from from \"true\" user vector and from above"
   ]
  },
  {
   "cell_type": "markdown",
   "metadata": {},
   "source": [
    "<font color='blue'> For each of the 100 \"new\" users, use either your model from 2a or 2b (\"demographic model\") to retrieve a user vector for that user, and then your functions from Problem 1 to get predicted ratings and top-10 recommendations. First, plot a scatterplot between the ratings predicted by the demographic model and the ratings predicted by the full model from Problem 1. Each point in the scatter plot should correspond to one user and one item, and so your scatterplot should have 100*200 points.  "
   ]
  },
  {
   "cell_type": "code",
   "execution_count": 72,
   "metadata": {},
   "outputs": [],
   "source": []
  },
  {
   "cell_type": "markdown",
   "metadata": {},
   "source": [
    "<font color='blue'> Now for each user, calculate the mean rating (according to the \"full\" model in Problem 1) for the 10 items recommended to that user, by each of the demopgraphic and \"full\" models. Output a scatterplot for the two mean ratings, where each point correpsonds to 1 user. "
   ]
  },
  {
   "cell_type": "code",
   "execution_count": 72,
   "metadata": {},
   "outputs": [],
   "source": []
  },
  {
   "cell_type": "markdown",
   "metadata": {},
   "source": [
    "<font color='blue'> Comment on the above. What is the \"loss\" from using demogprahics since we do not have access to the full data?"
   ]
  },
  {
   "cell_type": "code",
   "execution_count": 72,
   "metadata": {},
   "outputs": [],
   "source": []
  },
  {
   "cell_type": "markdown",
   "metadata": {},
   "source": [
    "# Problem 3: Predictions under capacity constraints"
   ]
  },
  {
   "cell_type": "markdown",
   "metadata": {},
   "source": [
    "Above, you should have observed that if we just recommend the top items for each user, some items get recommended quite a bit, and many items do not get recommended at all. Here, we are going to ask you to implement recommendations under capacity constraints.\n",
    "\n",
    "Throughout this part, assume that you only have 5 copies of each item that you recommend, and that you will only recommend 1 item to each user. In other words, you cannot recommend the same item more than 5 times, and so there are exactly 1000 items in stock (representing 200 unique books) for your 1000 users. \n",
    "\n",
    "We'll continue exclusively using the \"ratings with interaction0\" data."
   ]
  },
  {
   "cell_type": "markdown",
   "metadata": {},
   "source": [
    "Now, let's assume that users are entering the platform sequentially in order of index. So the index 0 user comes first, index 1 user comes second, etc. "
   ]
  },
  {
   "cell_type": "markdown",
   "metadata": {},
   "source": [
    "### 3a) Naive recommendations under capacity constraints"
   ]
  },
  {
   "cell_type": "markdown",
   "metadata": {},
   "source": [
    "<font color='blue'> First, let's pretend that we were naively recommending the predicted favorite item to each user. Of course, with unlimited capacity, each user would be recommended their predicted favorite. With capacity constraints, the favorite items of the users who come in later might already have reached their capacity, and so they have to be recommended an item further down their list. \n",
    "    \n",
    "<font color='blue'> Do the following: simulate users coming in sequentially, in order of index. For each user, recommend to them their predicted favorite item that is still available. So the first user will get their favorite item, but the last few users will almost certainly not receive any of their top few predicted items. For each user, keep track of what the rank of the item that they were ultimately recommended was, according to the predicting ranking over items for that user.\n",
    "    \n",
    "<font color='blue'> Plot the resulting rankings in 2 ways: 1) A line plot, where the X axis is the user index and the Y axis is the rank of the item that they were recommended. and 2) A histogram of how often each rank shows up. (the X axis is the (binned) rank, and the Y axis is the count of that bin). "
   ]
  },
  {
   "cell_type": "code",
   "execution_count": 72,
   "metadata": {},
   "outputs": [],
   "source": []
  },
  {
   "cell_type": "markdown",
   "metadata": {},
   "source": [
    "### 3b) [Bonus -- 6 pts] Optimal recommendations under capacity constraints -- maximum weight matching"
   ]
  },
  {
   "cell_type": "markdown",
   "metadata": {},
   "source": [
    "[3 points] <font color='blue'> Now let's do \"optimal\" recommendations with capacity, using maximum weight matching. Create the same two plots as above. <font color='blue'> Describe what you observe compared to the naive recommendations above. \n",
    "    \n",
    "<font color='blue'>We suggest you use the `scipy.optimize.linear_sum_assignment` function. In that case, `np.tile` might also come in handy to create 5 copies of each items.  "
   ]
  },
  {
   "cell_type": "code",
   "execution_count": 72,
   "metadata": {},
   "outputs": [],
   "source": []
  },
  {
   "cell_type": "markdown",
   "metadata": {},
   "source": [
    "[3 points] <font color='blue'> Of course, in reality you don't observe all the users at the same time -- they come in one by one, and you need to create a recommendation for the first user before the 50th user shows up. Here's let's pretend that users show up in batches of 100. So the first 100 users at the same time, next 100, etc. In this case, you can do \"batched maximum weight matching,\" where you run maximum weight matching for the first 100 together to determine recommendations. Then, you do the same thing for the next 100 users with the items that are remaining, etc. \n",
    "    \n",
    "<font color='blue'> Implement the above, show the same two plots as above, and describe what you observe. Note that this part requires careful attention for how many of each item remain after each round. "
   ]
  },
  {
   "cell_type": "code",
   "execution_count": 72,
   "metadata": {},
   "outputs": [],
   "source": []
  },
  {
   "cell_type": "markdown",
   "metadata": {},
   "source": [
    "### 3c) Score functions for recommendations under capacity constraints"
   ]
  },
  {
   "cell_type": "markdown",
   "metadata": {},
   "source": [
    "<font color='blue'>Here, we are working with just 200 items and 1000 users, and so batched maximum weight matching is feasible to run. In practice, with millions of items, that  might not be an effective strategy. Now, we ask you to implement the score function approach from class.\n",
    "\n",
    "<font color='blue'> You should normalize the predicted ratings between 0 and 1 so that you are not dividing by a negative or close to 0 average rating before proceeding.\n",
    "    \n",
    "<font color='blue'> Implement the above and run the same simulation as part 3c, show the same two plots, and describe what you observe."
   ]
  },
  {
   "cell_type": "markdown",
   "metadata": {},
   "source": [
    "For this part, use the following score function:\n",
    "    \n",
    "$$\\frac{r_{ij}}{\\bar{r_{ij}}} \\sqrt{C_j} $$"
   ]
  },
  {
   "cell_type": "code",
   "execution_count": 72,
   "metadata": {},
   "outputs": [],
   "source": []
  },
  {
   "cell_type": "code",
   "execution_count": 72,
   "metadata": {},
   "outputs": [],
   "source": []
  },
  {
   "cell_type": "code",
   "execution_count": 72,
   "metadata": {},
   "outputs": [],
   "source": []
  },
  {
   "cell_type": "code",
   "execution_count": 72,
   "metadata": {},
   "outputs": [],
   "source": []
  },
  {
   "cell_type": "markdown",
   "metadata": {},
   "source": [
    "Comment for entire homework: In this homework, we haven't been careful with what is \"training\" data and what is \"test\" data. For example, in 3c, you're using average ratings from customers who haven't shown up yet in your simulation. In Problem 2, when training the user/book vectors we used data from customers that we are then pretending we haven't seen data from. In practice, and for the class project, you should be more careful. Such train/test/validation pipelines should be a core part of what you learn in machine learning classes. "
   ]
  }
 ],
 "metadata": {
  "interpreter": {
   "hash": "400ed83044f7563fd7639db7272bee8996ca0c865b5d449dcecadc3765d7cb7d"
  },
  "kernelspec": {
   "display_name": "Python 3 (ipykernel)",
   "language": "python",
   "name": "python3"
  },
  "language_info": {
   "codemirror_mode": {
    "name": "ipython",
    "version": 3
   },
   "file_extension": ".py",
   "mimetype": "text/x-python",
   "name": "python",
   "nbconvert_exporter": "python",
   "pygments_lexer": "ipython3",
   "version": "3.9.7"
  },
  "varInspector": {
   "cols": {
    "lenName": 16,
    "lenType": 16,
    "lenVar": 40
   },
   "kernels_config": {
    "python": {
     "delete_cmd_postfix": "",
     "delete_cmd_prefix": "del ",
     "library": "var_list.py",
     "varRefreshCmd": "print(var_dic_list())"
    },
    "r": {
     "delete_cmd_postfix": ") ",
     "delete_cmd_prefix": "rm(",
     "library": "var_list.r",
     "varRefreshCmd": "cat(var_dic_list()) "
    }
   },
   "types_to_exclude": [
    "module",
    "function",
    "builtin_function_or_method",
    "instance",
    "_Feature"
   ],
   "window_display": false
  }
 },
 "nbformat": 4,
 "nbformat_minor": 4
}