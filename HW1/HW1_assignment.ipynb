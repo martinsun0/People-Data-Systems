{
 "cells": [
  {
   "cell_type": "markdown",
   "metadata": {},
   "source": [
    "# ORIE 5355/INFO 5370 HW 1: Survey Weighting"
   ]
  },
  {
   "cell_type": "markdown",
   "metadata": {},
   "source": [
    " - Name: Martin Sun\n",
    " - Net-id: ms2923\n",
    " - Date: 2021-09-18\n",
    " - Late days used for this assignment: 1\n",
    " - Total late days used (counting this assignment): 1\n",
    " - People with whom you discussed this assignment: Ethan Glaser\n",
    " \n",
    " https://github.com/martinsun0/People-Data-Systems/blob/main/HW1/HW1_assignment.ipynb\n",
    " I don't know how to make a nice PDF yet. Sorry!"
   ]
  },
  {
   "cell_type": "markdown",
   "metadata": {
    "ExecuteTime": {
     "end_time": "2021-09-01T19:23:05.646804Z",
     "start_time": "2021-09-01T19:23:05.610804Z"
    }
   },
   "source": [
    "After you finish the homework, please complete the following (short, anonymous) post-homework survey: https://forms.gle/spVRAkxcqcDuxkuY6"
   ]
  },
  {
   "cell_type": "markdown",
   "metadata": {},
   "source": [
    "We have marked questions in <font color='blue'> blue </font>. Please put answers in black (do not change colors). You'll want to write text answers in \"markdown\" mode instead of code. In Jupyter notebook, you can go to Cell > Cell Type > Markdown, from the menu. Please carefully read the late days policy and grading procedure [here](https://orie5355.github.io/Fall_2021/assignments/). "
   ]
  },
  {
   "cell_type": "markdown",
   "metadata": {},
   "source": [
    "# Conceptual component"
   ]
  },
  {
   "cell_type": "markdown",
   "metadata": {},
   "source": [
    "### 1) Reading"
   ]
  },
  {
   "cell_type": "markdown",
   "metadata": {},
   "source": [
    "<font color='blue'> Please read Sections 3 and 4 (pages 6-13) here: https://www.nber.org/system/files/working_papers/w20830/w20830.pdf, and answer the following questions."
   ]
  },
  {
   "cell_type": "markdown",
   "metadata": {},
   "source": [
    "<font color='blue'> Please summarize the sections in no more than two sentences. "
   ]
  },
  {
   "cell_type": "markdown",
   "metadata": {
    "pycharm": {
     "name": "#%% md\n"
    }
   },
   "source": [
    "Section 3 discusses Ebay's seller metrics and asserts that the \"percent positive\" and \"feedback score\" measures are inadequate due to susceptibility to biases and highly skewed, non-differentiable data.\n",
    "The author suggests a new metric, EPP, to capture \"unobserved\" seller quality and to corroborate this, the purchasing behaviour of about a million buyers were sampled and analyzed."
   ]
  },
  {
   "cell_type": "markdown",
   "metadata": {},
   "source": [
    "<font color='blue'> Do you think it's a problem that most ratings are positive? If so, why? Answer in no more than three sentences. Please incorporate concepts discussed in class in your answer. "
   ]
  },
  {
   "cell_type": "markdown",
   "metadata": {
    "pycharm": {
     "name": "#%% md\n"
    }
   },
   "source": [
    "It becomes a problem when the fraction of highly positive ratings becomes very close to 100%, primarily because it detracts from the whole purpose of a seller rating - to differentiate good and bad sellers.\n",
    "It can also be a sign of measurement error caused by differential non-response because dissatisfied customers may be less inclined to comment at all on their experience, and simply select another seller the next time. Explicit and implicit pressure can also be reflected by highly skewed rating distributions."
   ]
  },
  {
   "cell_type": "markdown",
   "metadata": {},
   "source": [
    "### 2) Personal reflection"
   ]
  },
  {
   "cell_type": "markdown",
   "metadata": {},
   "source": [
    "<font color='blue'> Think back to a time that you trained a model on data from people or gathered opinions via a survey (an informal one is fine). If you have not done that before, you may answer these questions about an article in the news that reported on public opinions or a model that you think might be in deployment at a company or organization with which you interact (for example, Amazon, google maps, etc)"
   ]
  },
  {
   "cell_type": "markdown",
   "metadata": {},
   "source": [
    "<font color='blue'> Briefly summarize the scenario in no more than two sentences. "
   ]
  },
  {
   "cell_type": "markdown",
   "metadata": {
    "pycharm": {
     "name": "#%% md\n"
    }
   },
   "source": [
    "During undergrad, I surveyed fellow students about how they felt about their screen time and increased electronics usage especially during the pandemic."
   ]
  },
  {
   "cell_type": "markdown",
   "metadata": {},
   "source": [
    "<font color='blue'> What was the construct that you cared about/wanted to measure? What was the measurement (numerical data)? In what ways did the measurement not match the construct you cared about? Answer in no more than 4 sentences.  "
   ]
  },
  {
   "cell_type": "markdown",
   "metadata": {
    "pycharm": {
     "name": "#%% md\n"
    }
   },
   "source": [
    "I wanted to determine what a college student would do about their unhealthy screen time and lack of physical activity (when applicable).\n",
    "The numerical data was relative percentages of different response groups.\n",
    "I was looking to answer whether college students would be willing to purchase a product to help their situation. Unfortunately, I did not receive much useful insight at all because the large majority of responses answered \"not concerned\" about their habits.\n"
   ]
  },
  {
   "cell_type": "markdown",
   "metadata": {},
   "source": [
    "<font color='blue'> What selection biases/differential non-response issues occurred and how did it affect your measurement? (If your answer is \"None,\" explain exactly why you believe the assumptions discussed in class were met). Answer in no more than 3 sentences. "
   ]
  },
  {
   "cell_type": "markdown",
   "metadata": {
    "pycharm": {
     "name": "#%% md\n"
    }
   },
   "source": [
    "There is absolutely some social pressure, even though the survey was anonymous, to appear more sociable and less \"nerdy\" in a sense, which creates a bias in the measurement.\n",
    "On the other hand, those that are more busy with screen usage are more likely to see the survey and respond to it, creating a differential non-response issue.\n",
    "My data however, pointed towards to first effect."
   ]
  },
  {
   "cell_type": "markdown",
   "metadata": {},
   "source": [
    "<font color='blue'> Given what we have learned in class so far, what would you do differently if faced with the same scenario again? Answer in no more than 3 sentences. "
   ]
  },
  {
   "cell_type": "markdown",
   "metadata": {
    "pycharm": {
     "name": "#%% md\n"
    }
   },
   "source": [
    "I would ask for more quantitative information because it requires less judgement and thinking from the person being surveyed - to me, it appeared that my biggest problem was that the questions were too qualitative.\n",
    "To combat the selection biases I mentioned, I could survey different programs as separate groups, and conduct constant stratification sampling of the two main groups of students until I achieved parity.\n",
    "With that being said, it is difficult to know the actual population distribution of these two student groups and so I would need to perform a detailed estimate of the population and quantify the uncertainty."
   ]
  },
  {
   "cell_type": "markdown",
   "metadata": {},
   "source": [
    "# Programming component"
   ]
  },
  {
   "cell_type": "markdown",
   "metadata": {},
   "source": [
    "<font color='blue'> In this part of the homework, we provide you with data from a poll in Florida before the 2016 Presidential election in the United States. We also provide you with (one pollster's) estimates of who will vote in the 2016 election, made before the election. You will use this data and apply the weighting techniques covered in class."
   ]
  },
  {
   "cell_type": "markdown",
   "metadata": {},
   "source": [
    "## Preliminaries to load packages and data"
   ]
  },
  {
   "cell_type": "code",
   "execution_count": 1,
   "metadata": {
    "ExecuteTime": {
     "end_time": "2021-09-01T20:57:32.311779Z",
     "start_time": "2021-09-01T20:57:32.270775Z"
    }
   },
   "outputs": [],
   "source": [
    "import pandas as pd\n",
    "import numpy as np\n",
    "import seaborn as sns\n",
    "import matplotlib.pyplot as plt"
   ]
  },
  {
   "cell_type": "code",
   "execution_count": 2,
   "metadata": {
    "ExecuteTime": {
     "end_time": "2021-09-01T20:57:32.581776Z",
     "start_time": "2021-09-01T20:57:32.454782Z"
    }
   },
   "outputs": [
    {
     "data": {
      "text/html": [
       "<div>\n",
       "<style scoped>\n",
       "    .dataframe tbody tr th:only-of-type {\n",
       "        vertical-align: middle;\n",
       "    }\n",
       "\n",
       "    .dataframe tbody tr th {\n",
       "        vertical-align: top;\n",
       "    }\n",
       "\n",
       "    .dataframe thead th {\n",
       "        text-align: right;\n",
       "    }\n",
       "</style>\n",
       "<table border=\"1\" class=\"dataframe\">\n",
       "  <thead>\n",
       "    <tr style=\"text-align: right;\">\n",
       "      <th></th>\n",
       "      <th>candidate</th>\n",
       "      <th>age</th>\n",
       "      <th>gender</th>\n",
       "      <th>party</th>\n",
       "      <th>race</th>\n",
       "      <th>education</th>\n",
       "    </tr>\n",
       "  </thead>\n",
       "  <tbody>\n",
       "    <tr>\n",
       "      <th>0</th>\n",
       "      <td>Someone else</td>\n",
       "      <td>30-44</td>\n",
       "      <td>Male</td>\n",
       "      <td>Independent</td>\n",
       "      <td>White</td>\n",
       "      <td>College</td>\n",
       "    </tr>\n",
       "    <tr>\n",
       "      <th>1</th>\n",
       "      <td>Hillary Clinton</td>\n",
       "      <td>45-64</td>\n",
       "      <td>Male</td>\n",
       "      <td>Republican</td>\n",
       "      <td>Hispanic</td>\n",
       "      <td>College</td>\n",
       "    </tr>\n",
       "    <tr>\n",
       "      <th>2</th>\n",
       "      <td>Hillary Clinton</td>\n",
       "      <td>30-44</td>\n",
       "      <td>Male</td>\n",
       "      <td>Independent</td>\n",
       "      <td>Hispanic</td>\n",
       "      <td>College</td>\n",
       "    </tr>\n",
       "    <tr>\n",
       "      <th>3</th>\n",
       "      <td>Hillary Clinton</td>\n",
       "      <td>65+</td>\n",
       "      <td>Female</td>\n",
       "      <td>Democrat</td>\n",
       "      <td>White</td>\n",
       "      <td>College</td>\n",
       "    </tr>\n",
       "    <tr>\n",
       "      <th>4</th>\n",
       "      <td>Donald Trump</td>\n",
       "      <td>65+</td>\n",
       "      <td>Female</td>\n",
       "      <td>Republican</td>\n",
       "      <td>White</td>\n",
       "      <td>High School</td>\n",
       "    </tr>\n",
       "  </tbody>\n",
       "</table>\n",
       "</div>"
      ],
      "text/plain": [
       "         candidate    age  gender        party      race    education\n",
       "0     Someone else  30-44    Male  Independent     White      College\n",
       "1  Hillary Clinton  45-64    Male   Republican  Hispanic      College\n",
       "2  Hillary Clinton  30-44    Male  Independent  Hispanic      College\n",
       "3  Hillary Clinton    65+  Female     Democrat     White      College\n",
       "4     Donald Trump    65+  Female   Republican     White  High School"
      ]
     },
     "execution_count": 2,
     "metadata": {},
     "output_type": "execute_result"
    }
   ],
   "source": [
    "dfpoll = pd.read_csv('polling_data_hw1.csv') # raw polling data\n",
    "dfpoll.head()"
   ]
  },
  {
   "cell_type": "code",
   "execution_count": 3,
   "metadata": {
    "ExecuteTime": {
     "end_time": "2021-09-01T20:57:32.658773Z",
     "start_time": "2021-09-01T20:57:32.605777Z"
    }
   },
   "outputs": [
    {
     "data": {
      "text/html": [
       "<div>\n",
       "<style scoped>\n",
       "    .dataframe tbody tr th:only-of-type {\n",
       "        vertical-align: middle;\n",
       "    }\n",
       "\n",
       "    .dataframe tbody tr th {\n",
       "        vertical-align: top;\n",
       "    }\n",
       "\n",
       "    .dataframe thead th {\n",
       "        text-align: right;\n",
       "    }\n",
       "</style>\n",
       "<table border=\"1\" class=\"dataframe\">\n",
       "  <thead>\n",
       "    <tr style=\"text-align: right;\">\n",
       "      <th></th>\n",
       "      <th>Electoral_Proportion</th>\n",
       "      <th>Demographic_Type_1</th>\n",
       "      <th>Demographic_Type_2</th>\n",
       "      <th>Demographic_1</th>\n",
       "      <th>Demographic_2</th>\n",
       "    </tr>\n",
       "  </thead>\n",
       "  <tbody>\n",
       "    <tr>\n",
       "      <th>0</th>\n",
       "      <td>0.387927</td>\n",
       "      <td>party</td>\n",
       "      <td>NaN</td>\n",
       "      <td>Democrat</td>\n",
       "      <td>NaN</td>\n",
       "    </tr>\n",
       "    <tr>\n",
       "      <th>1</th>\n",
       "      <td>0.398788</td>\n",
       "      <td>party</td>\n",
       "      <td>NaN</td>\n",
       "      <td>Republican</td>\n",
       "      <td>NaN</td>\n",
       "    </tr>\n",
       "    <tr>\n",
       "      <th>2</th>\n",
       "      <td>0.213285</td>\n",
       "      <td>party</td>\n",
       "      <td>NaN</td>\n",
       "      <td>Independent</td>\n",
       "      <td>NaN</td>\n",
       "    </tr>\n",
       "    <tr>\n",
       "      <th>3</th>\n",
       "      <td>0.445928</td>\n",
       "      <td>gender</td>\n",
       "      <td>NaN</td>\n",
       "      <td>Male</td>\n",
       "      <td>NaN</td>\n",
       "    </tr>\n",
       "    <tr>\n",
       "      <th>4</th>\n",
       "      <td>0.554072</td>\n",
       "      <td>gender</td>\n",
       "      <td>NaN</td>\n",
       "      <td>Female</td>\n",
       "      <td>NaN</td>\n",
       "    </tr>\n",
       "  </tbody>\n",
       "</table>\n",
       "</div>"
      ],
      "text/plain": [
       "   Electoral_Proportion Demographic_Type_1 Demographic_Type_2 Demographic_1  \\\n",
       "0              0.387927              party                NaN      Democrat   \n",
       "1              0.398788              party                NaN    Republican   \n",
       "2              0.213285              party                NaN   Independent   \n",
       "3              0.445928             gender                NaN          Male   \n",
       "4              0.554072             gender                NaN        Female   \n",
       "\n",
       "  Demographic_2  \n",
       "0           NaN  \n",
       "1           NaN  \n",
       "2           NaN  \n",
       "3           NaN  \n",
       "4           NaN  "
      ]
     },
     "execution_count": 3,
     "metadata": {},
     "output_type": "execute_result"
    }
   ],
   "source": [
    "dfdemographic = pd.read_csv('florida_proportions_hw1.csv') # proportions of population\n",
    "dfdemographic.head()"
   ]
  },
  {
   "cell_type": "markdown",
   "metadata": {},
   "source": [
    "dfdemographic contains estimates of likely voters in Florida in 2016. When Demographic_Type_2 is NaN, the row refers to just the marginal population percentage of the group in Demographic_1 of type Demographic_Type_1. When it is not NaN, the row has the joint distribution of the corresponding demographic groups."
   ]
  },
  {
   "cell_type": "markdown",
   "metadata": {},
   "source": [
    "## Part A: Raw visualization"
   ]
  },
  {
   "cell_type": "markdown",
   "metadata": {},
   "source": [
    "<font color='blue'> Here, we'll visualize whether the respondents in the poll match the likely voter estimates. Create a scatter-plot where each point represents one Demographic group (for example, party-Independent), where the X axis is the Electoral_Proportion in dfdemographic, and the Y axis is the proportion in dfpoll. "
   ]
  },
  {
   "cell_type": "code",
   "execution_count": 4,
   "metadata": {},
   "outputs": [],
   "source": [
    "total = len(dfpoll)"
   ]
  },
  {
   "cell_type": "code",
   "execution_count": 5,
   "metadata": {
    "pycharm": {
     "name": "#%%\n"
    }
   },
   "outputs": [
    {
     "name": "stderr",
     "output_type": "stream",
     "text": [
      "<ipython-input-5-4c1a0b15f035>:10: SettingWithCopyWarning: \n",
      "A value is trying to be set on a copy of a slice from a DataFrame\n",
      "\n",
      "See the caveats in the documentation: https://pandas.pydata.org/pandas-docs/stable/user_guide/indexing.html#returning-a-view-versus-a-copy\n",
      "  dfdemographic.Poll_Proportion[index] = percentage\n",
      "<ipython-input-5-4c1a0b15f035>:16: SettingWithCopyWarning: \n",
      "A value is trying to be set on a copy of a slice from a DataFrame\n",
      "\n",
      "See the caveats in the documentation: https://pandas.pydata.org/pandas-docs/stable/user_guide/indexing.html#returning-a-view-versus-a-copy\n",
      "  dfdemographic.Poll_Proportion[index] = percentage\n"
     ]
    },
    {
     "data": {
      "text/html": [
       "<div>\n",
       "<style scoped>\n",
       "    .dataframe tbody tr th:only-of-type {\n",
       "        vertical-align: middle;\n",
       "    }\n",
       "\n",
       "    .dataframe tbody tr th {\n",
       "        vertical-align: top;\n",
       "    }\n",
       "\n",
       "    .dataframe thead th {\n",
       "        text-align: right;\n",
       "    }\n",
       "</style>\n",
       "<table border=\"1\" class=\"dataframe\">\n",
       "  <thead>\n",
       "    <tr style=\"text-align: right;\">\n",
       "      <th></th>\n",
       "      <th>Electoral_Proportion</th>\n",
       "      <th>Poll_Proportion</th>\n",
       "      <th>Demographic_Type_1</th>\n",
       "      <th>Demographic_Type_2</th>\n",
       "      <th>Demographic_1</th>\n",
       "      <th>Demographic_2</th>\n",
       "    </tr>\n",
       "  </thead>\n",
       "  <tbody>\n",
       "    <tr>\n",
       "      <th>0</th>\n",
       "      <td>0.387927</td>\n",
       "      <td>0.358708</td>\n",
       "      <td>party</td>\n",
       "      <td>NaN</td>\n",
       "      <td>Democrat</td>\n",
       "      <td>NaN</td>\n",
       "    </tr>\n",
       "    <tr>\n",
       "      <th>1</th>\n",
       "      <td>0.398788</td>\n",
       "      <td>0.272203</td>\n",
       "      <td>party</td>\n",
       "      <td>NaN</td>\n",
       "      <td>Republican</td>\n",
       "      <td>NaN</td>\n",
       "    </tr>\n",
       "    <tr>\n",
       "      <th>2</th>\n",
       "      <td>0.213285</td>\n",
       "      <td>0.348328</td>\n",
       "      <td>party</td>\n",
       "      <td>NaN</td>\n",
       "      <td>Independent</td>\n",
       "      <td>NaN</td>\n",
       "    </tr>\n",
       "    <tr>\n",
       "      <th>3</th>\n",
       "      <td>0.445928</td>\n",
       "      <td>0.491349</td>\n",
       "      <td>gender</td>\n",
       "      <td>NaN</td>\n",
       "      <td>Male</td>\n",
       "      <td>NaN</td>\n",
       "    </tr>\n",
       "    <tr>\n",
       "      <th>4</th>\n",
       "      <td>0.554072</td>\n",
       "      <td>0.508651</td>\n",
       "      <td>gender</td>\n",
       "      <td>NaN</td>\n",
       "      <td>Female</td>\n",
       "      <td>NaN</td>\n",
       "    </tr>\n",
       "    <tr>\n",
       "      <th>...</th>\n",
       "      <td>...</td>\n",
       "      <td>...</td>\n",
       "      <td>...</td>\n",
       "      <td>...</td>\n",
       "      <td>...</td>\n",
       "      <td>...</td>\n",
       "    </tr>\n",
       "    <tr>\n",
       "      <th>112</th>\n",
       "      <td>0.034216</td>\n",
       "      <td>0.068051</td>\n",
       "      <td>race</td>\n",
       "      <td>education</td>\n",
       "      <td>Hispanic</td>\n",
       "      <td>Some College</td>\n",
       "    </tr>\n",
       "    <tr>\n",
       "      <th>113</th>\n",
       "      <td>0.027588</td>\n",
       "      <td>0.084198</td>\n",
       "      <td>race</td>\n",
       "      <td>education</td>\n",
       "      <td>Hispanic</td>\n",
       "      <td>College</td>\n",
       "    </tr>\n",
       "    <tr>\n",
       "      <th>114</th>\n",
       "      <td>0.010929</td>\n",
       "      <td>0.00692</td>\n",
       "      <td>race</td>\n",
       "      <td>education</td>\n",
       "      <td>Other</td>\n",
       "      <td>High School</td>\n",
       "    </tr>\n",
       "    <tr>\n",
       "      <th>115</th>\n",
       "      <td>0.010570</td>\n",
       "      <td>0.014994</td>\n",
       "      <td>race</td>\n",
       "      <td>education</td>\n",
       "      <td>Other</td>\n",
       "      <td>Some College</td>\n",
       "    </tr>\n",
       "    <tr>\n",
       "      <th>116</th>\n",
       "      <td>0.015142</td>\n",
       "      <td>0.023068</td>\n",
       "      <td>race</td>\n",
       "      <td>education</td>\n",
       "      <td>Other</td>\n",
       "      <td>College</td>\n",
       "    </tr>\n",
       "  </tbody>\n",
       "</table>\n",
       "<p>117 rows × 6 columns</p>\n",
       "</div>"
      ],
      "text/plain": [
       "     Electoral_Proportion Poll_Proportion Demographic_Type_1  \\\n",
       "0                0.387927        0.358708              party   \n",
       "1                0.398788        0.272203              party   \n",
       "2                0.213285        0.348328              party   \n",
       "3                0.445928        0.491349             gender   \n",
       "4                0.554072        0.508651             gender   \n",
       "..                    ...             ...                ...   \n",
       "112              0.034216        0.068051               race   \n",
       "113              0.027588        0.084198               race   \n",
       "114              0.010929         0.00692               race   \n",
       "115              0.010570        0.014994               race   \n",
       "116              0.015142        0.023068               race   \n",
       "\n",
       "    Demographic_Type_2 Demographic_1 Demographic_2  \n",
       "0                  NaN      Democrat           NaN  \n",
       "1                  NaN    Republican           NaN  \n",
       "2                  NaN   Independent           NaN  \n",
       "3                  NaN          Male           NaN  \n",
       "4                  NaN        Female           NaN  \n",
       "..                 ...           ...           ...  \n",
       "112          education      Hispanic  Some College  \n",
       "113          education      Hispanic       College  \n",
       "114          education         Other   High School  \n",
       "115          education         Other  Some College  \n",
       "116          education         Other       College  \n",
       "\n",
       "[117 rows x 6 columns]"
      ]
     },
     "execution_count": 5,
     "metadata": {},
     "output_type": "execute_result"
    }
   ],
   "source": [
    "dfdemographic['Poll_Proportion'] = \"\"\n",
    "\n",
    "for index, row in dfdemographic.iterrows():\n",
    "    type_list = dfdemographic[['Demographic_Type_1', 'Demographic_Type_2']].iloc[index].values.tolist()\n",
    "    group_list = dfdemographic[['Demographic_1', 'Demographic_2']].iloc[index].values.tolist()\n",
    "    if pd.isna(type_list[1]):\n",
    "        df_group = dfpoll.groupby(type_list[0])[type_list[0]].count().reset_index(name ='count')\n",
    "        n = df_group[(df_group[type_list[0]] == group_list[0])]['count'].iloc[0]\n",
    "        percentage = n/total\n",
    "        dfdemographic.Poll_Proportion[index] = percentage\n",
    "    else:\n",
    "        df_group = dfpoll.groupby(type_list)[type_list[1]].count().reset_index(name ='count')\n",
    "        n = df_group[(df_group[type_list[0]] == group_list[0]) &\n",
    "                     (df_group[type_list[1]] == group_list[1])]['count'].iloc[0]\n",
    "        percentage = n/total\n",
    "        dfdemographic.Poll_Proportion[index] = percentage\n",
    "\n",
    "dfdemographic = dfdemographic.reindex(columns = ['Electoral_Proportion', 'Poll_Proportion',\n",
    "                                 'Demographic_Type_1', 'Demographic_Type_2',\n",
    "                                 'Demographic_1', 'Demographic_2'])\n",
    "dfdemographic"
   ]
  },
  {
   "cell_type": "code",
   "execution_count": 6,
   "metadata": {
    "pycharm": {
     "name": "#%%\n"
    }
   },
   "outputs": [
    {
     "name": "stderr",
     "output_type": "stream",
     "text": [
      "C:\\Users\\marti\\anaconda3\\lib\\site-packages\\seaborn\\_decorators.py:36: FutureWarning: Pass the following variables as keyword args: x, y. From version 0.12, the only valid positional argument will be `data`, and passing other arguments without an explicit keyword will result in an error or misinterpretation.\n",
      "  warnings.warn(\n"
     ]
    },
    {
     "data": {
      "image/png": "[encoded data removed]",
      "text/plain": [
       "<Figure size 432x288 with 1 Axes>"
      ]
     },
     "metadata": {
      "needs_background": "light"
     },
     "output_type": "display_data"
    }
   ],
   "source": [
    "plt1 = sns.scatterplot(dfdemographic.Electoral_Proportion,dfdemographic.Poll_Proportion)\n",
    "plt1.grid(True)\n",
    "plt1.set(xlim = [0, 0.8])\n",
    "plt1.set(ylim = [0, 0.7])\n",
    "plt1.set_aspect('equal')\n",
    "plt.plot([0, 10], [0, 10], ls=\"--\", c=\".3\")\n",
    "plt.savefig('PartA.svg')"
   ]
  },
  {
   "cell_type": "code",
   "execution_count": 7,
   "metadata": {
    "pycharm": {
     "name": "#%%\n"
    }
   },
   "outputs": [
    {
     "name": "stderr",
     "output_type": "stream",
     "text": [
      "C:\\Users\\marti\\anaconda3\\lib\\site-packages\\seaborn\\_decorators.py:36: FutureWarning: Pass the following variables as keyword args: x, y. From version 0.12, the only valid positional argument will be `data`, and passing other arguments without an explicit keyword will result in an error or misinterpretation.\n",
      "  warnings.warn(\n"
     ]
    },
    {
     "data": {
      "image/png": "[encoded data removed]",
      "text/plain": [
       "<Figure size 432x288 with 1 Axes>"
      ]
     },
     "metadata": {
      "needs_background": "light"
     },
     "output_type": "display_data"
    }
   ],
   "source": [
    "plt2 = sns.scatterplot(dfdemographic.Electoral_Proportion,dfdemographic.Poll_Proportion)\n",
    "plt2.grid(True)\n",
    "plt2.set(xlim = [0, 0.3])\n",
    "plt2.set(ylim = [0, 0.3])\n",
    "plt2.set_aspect('equal')\n",
    "plt.plot([0, 10], [0, 10], ls=\"--\", c=\".3\")\n",
    "plt.savefig('PartA-2.svg')"
   ]
  },
  {
   "cell_type": "markdown",
   "metadata": {},
   "source": [
    "<font color='blue'>Which group is most over-represented? Most under-represented?</font>"
   ]
  },
  {
   "cell_type": "code",
   "execution_count": 8,
   "metadata": {},
   "outputs": [
    {
     "data": {
      "text/html": [
       "<div>\n",
       "<style scoped>\n",
       "    .dataframe tbody tr th:only-of-type {\n",
       "        vertical-align: middle;\n",
       "    }\n",
       "\n",
       "    .dataframe tbody tr th {\n",
       "        vertical-align: top;\n",
       "    }\n",
       "\n",
       "    .dataframe thead th {\n",
       "        text-align: right;\n",
       "    }\n",
       "</style>\n",
       "<table border=\"1\" class=\"dataframe\">\n",
       "  <thead>\n",
       "    <tr style=\"text-align: right;\">\n",
       "      <th></th>\n",
       "      <th>Electoral_Proportion</th>\n",
       "      <th>Poll_Proportion</th>\n",
       "      <th>Demographic_Type_1</th>\n",
       "      <th>Demographic_Type_2</th>\n",
       "      <th>Demographic_1</th>\n",
       "      <th>Demographic_2</th>\n",
       "      <th>Representation</th>\n",
       "    </tr>\n",
       "  </thead>\n",
       "  <tbody>\n",
       "    <tr>\n",
       "      <th>102</th>\n",
       "      <td>0.153247</td>\n",
       "      <td>0.058824</td>\n",
       "      <td>age</td>\n",
       "      <td>education</td>\n",
       "      <td>65+</td>\n",
       "      <td>High School</td>\n",
       "      <td>2.605195</td>\n",
       "    </tr>\n",
       "    <tr>\n",
       "      <th>49</th>\n",
       "      <td>0.137253</td>\n",
       "      <td>0.055363</td>\n",
       "      <td>party</td>\n",
       "      <td>education</td>\n",
       "      <td>Republican</td>\n",
       "      <td>High School</td>\n",
       "      <td>2.479136</td>\n",
       "    </tr>\n",
       "    <tr>\n",
       "      <th>96</th>\n",
       "      <td>0.048088</td>\n",
       "      <td>0.019608</td>\n",
       "      <td>age</td>\n",
       "      <td>education</td>\n",
       "      <td>30-44</td>\n",
       "      <td>High School</td>\n",
       "      <td>2.452499</td>\n",
       "    </tr>\n",
       "    <tr>\n",
       "      <th>105</th>\n",
       "      <td>0.235884</td>\n",
       "      <td>0.100346</td>\n",
       "      <td>race</td>\n",
       "      <td>education</td>\n",
       "      <td>White</td>\n",
       "      <td>High School</td>\n",
       "      <td>2.350702</td>\n",
       "    </tr>\n",
       "    <tr>\n",
       "      <th>99</th>\n",
       "      <td>0.139230</td>\n",
       "      <td>0.065744</td>\n",
       "      <td>age</td>\n",
       "      <td>education</td>\n",
       "      <td>45-64</td>\n",
       "      <td>High School</td>\n",
       "      <td>2.117763</td>\n",
       "    </tr>\n",
       "    <tr>\n",
       "      <th>...</th>\n",
       "      <td>...</td>\n",
       "      <td>...</td>\n",
       "      <td>...</td>\n",
       "      <td>...</td>\n",
       "      <td>...</td>\n",
       "      <td>...</td>\n",
       "      <td>...</td>\n",
       "    </tr>\n",
       "    <tr>\n",
       "      <th>80</th>\n",
       "      <td>0.006011</td>\n",
       "      <td>0.014994</td>\n",
       "      <td>age</td>\n",
       "      <td>race</td>\n",
       "      <td>18-29</td>\n",
       "      <td>Other</td>\n",
       "      <td>0.400894</td>\n",
       "    </tr>\n",
       "    <tr>\n",
       "      <th>30</th>\n",
       "      <td>0.034919</td>\n",
       "      <td>0.098039</td>\n",
       "      <td>party</td>\n",
       "      <td>age</td>\n",
       "      <td>Independent</td>\n",
       "      <td>18-29</td>\n",
       "      <td>0.356171</td>\n",
       "    </tr>\n",
       "    <tr>\n",
       "      <th>113</th>\n",
       "      <td>0.027588</td>\n",
       "      <td>0.084198</td>\n",
       "      <td>race</td>\n",
       "      <td>education</td>\n",
       "      <td>Hispanic</td>\n",
       "      <td>College</td>\n",
       "      <td>0.327657</td>\n",
       "    </tr>\n",
       "    <tr>\n",
       "      <th>95</th>\n",
       "      <td>0.023934</td>\n",
       "      <td>0.080738</td>\n",
       "      <td>age</td>\n",
       "      <td>education</td>\n",
       "      <td>18-29</td>\n",
       "      <td>College</td>\n",
       "      <td>0.296438</td>\n",
       "    </tr>\n",
       "    <tr>\n",
       "      <th>79</th>\n",
       "      <td>0.020696</td>\n",
       "      <td>0.070358</td>\n",
       "      <td>age</td>\n",
       "      <td>race</td>\n",
       "      <td>18-29</td>\n",
       "      <td>Hispanic</td>\n",
       "      <td>0.294161</td>\n",
       "    </tr>\n",
       "  </tbody>\n",
       "</table>\n",
       "<p>117 rows × 7 columns</p>\n",
       "</div>"
      ],
      "text/plain": [
       "     Electoral_Proportion Poll_Proportion Demographic_Type_1  \\\n",
       "102              0.153247        0.058824                age   \n",
       "49               0.137253        0.055363              party   \n",
       "96               0.048088        0.019608                age   \n",
       "105              0.235884        0.100346               race   \n",
       "99               0.139230        0.065744                age   \n",
       "..                    ...             ...                ...   \n",
       "80               0.006011        0.014994                age   \n",
       "30               0.034919        0.098039              party   \n",
       "113              0.027588        0.084198               race   \n",
       "95               0.023934        0.080738                age   \n",
       "79               0.020696        0.070358                age   \n",
       "\n",
       "    Demographic_Type_2 Demographic_1 Demographic_2 Representation  \n",
       "102          education           65+   High School       2.605195  \n",
       "49           education    Republican   High School       2.479136  \n",
       "96           education         30-44   High School       2.452499  \n",
       "105          education         White   High School       2.350702  \n",
       "99           education         45-64   High School       2.117763  \n",
       "..                 ...           ...           ...            ...  \n",
       "80                race         18-29         Other       0.400894  \n",
       "30                 age   Independent         18-29       0.356171  \n",
       "113          education      Hispanic       College       0.327657  \n",
       "95           education         18-29       College       0.296438  \n",
       "79                race         18-29      Hispanic       0.294161  \n",
       "\n",
       "[117 rows x 7 columns]"
      ]
     },
     "execution_count": 8,
     "metadata": {},
     "output_type": "execute_result"
    }
   ],
   "source": [
    "dfdemographic['Representation'] = dfdemographic.Electoral_Proportion/dfdemographic.Poll_Proportion\n",
    "dfdemographic.sort_values(by=['Representation'], ascending = False)"
   ]
  },
  {
   "cell_type": "markdown",
   "metadata": {
    "pycharm": {
     "name": "#%% md\n"
    }
   },
   "source": [
    "We can see that the 65+ aged high school educated demographic was most underrepresented, with 2.6 times higher electoral estimates than polling numbers.\n",
    "The 18-29 aged Hispanic demographic was most overrepresented, with 0.29 times lower electoral estimates than polling results."
   ]
  },
  {
   "cell_type": "markdown",
   "metadata": {},
   "source": [
    "## Part B: Weighting"
   ]
  },
  {
   "cell_type": "markdown",
   "metadata": {},
   "source": [
    "### 1) Raw average"
   ]
  },
  {
   "cell_type": "markdown",
   "metadata": {},
   "source": [
    "<font color='blue'> For now, we'll ignore people who answered anything but \"Hillary Clinton\" or \"Donald Trump.\" Below, report the \"raw polling average,\" the percentage of people \"Hillary Clinton\" divided by the number who answered either Hillary or Trump."
   ]
  },
  {
   "cell_type": "code",
   "execution_count": 9,
   "metadata": {},
   "outputs": [
    {
     "data": {
      "text/html": [
       "<div>\n",
       "<style scoped>\n",
       "    .dataframe tbody tr th:only-of-type {\n",
       "        vertical-align: middle;\n",
       "    }\n",
       "\n",
       "    .dataframe tbody tr th {\n",
       "        vertical-align: top;\n",
       "    }\n",
       "\n",
       "    .dataframe thead th {\n",
       "        text-align: right;\n",
       "    }\n",
       "</style>\n",
       "<table border=\"1\" class=\"dataframe\">\n",
       "  <thead>\n",
       "    <tr style=\"text-align: right;\">\n",
       "      <th></th>\n",
       "      <th>candidate</th>\n",
       "      <th>count</th>\n",
       "    </tr>\n",
       "  </thead>\n",
       "  <tbody>\n",
       "    <tr>\n",
       "      <th>1</th>\n",
       "      <td>Donald Trump</td>\n",
       "      <td>327</td>\n",
       "    </tr>\n",
       "    <tr>\n",
       "      <th>2</th>\n",
       "      <td>Hillary Clinton</td>\n",
       "      <td>393</td>\n",
       "    </tr>\n",
       "  </tbody>\n",
       "</table>\n",
       "</div>"
      ],
      "text/plain": [
       "         candidate  count\n",
       "1     Donald Trump    327\n",
       "2  Hillary Clinton    393"
      ]
     },
     "execution_count": 9,
     "metadata": {},
     "output_type": "execute_result"
    }
   ],
   "source": [
    "poll_grouped = dfpoll.groupby('candidate')['candidate'].count().reset_index(name ='count')\n",
    "main_candidates = poll_grouped[(poll_grouped.candidate.isin(['Donald Trump', 'Hillary Clinton']))]\n",
    "main_candidates"
   ]
  },
  {
   "cell_type": "code",
   "execution_count": 10,
   "metadata": {
    "pycharm": {
     "name": "#%%\n"
    }
   },
   "outputs": [
    {
     "data": {
      "text/plain": [
       "0.5458333333333333"
      ]
     },
     "execution_count": 10,
     "metadata": {},
     "output_type": "execute_result"
    }
   ],
   "source": [
    "hillary_poll = main_candidates['count'].iloc[1]/main_candidates['count'].sum()\n",
    "hillary_poll"
   ]
  },
  {
   "cell_type": "markdown",
   "metadata": {
    "pycharm": {
     "name": "#%% md\n"
    }
   },
   "source": [
    "The raw polling average for Hillary Clinton is 0.54583"
   ]
  },
  {
   "cell_type": "markdown",
   "metadata": {},
   "source": [
    "### 2) Single dimensional marginal weighting (on just 1 demographic type)"
   ]
  },
  {
   "cell_type": "markdown",
   "metadata": {},
   "source": [
    "<font color='blue'> For each demographic type separately -- age, gender, party, race, and education -- weight the poll by just that demographic type, in accordance to the population proportions given. Report the resulting poll results, and briefly (at most 3 sentences) describe what you observe.\n",
    "\n",
    "You'll notice that some of the groups in the polling data (\"refused\") do not show up in the population percentages. For now, we'll ignore those respondents."
   ]
  },
  {
   "cell_type": "markdown",
   "metadata": {
    "pycharm": {
     "name": "#%% md\n"
    }
   },
   "source": [
    "Function that returns Hillary's weighted poll result out of the top two candidates for a selected demographic."
   ]
  },
  {
   "cell_type": "code",
   "execution_count": 11,
   "metadata": {
    "pycharm": {
     "name": "#%%\n"
    }
   },
   "outputs": [],
   "source": [
    "def weighted_hillary(demographic, indices):\n",
    "\n",
    "    proportions = dfdemographic[['Demographic_1', 'Electoral_Proportion']].iloc[indices[0]:indices[1]]\n",
    "    grouped = dfpoll.groupby(['candidate', demographic])[demographic].count().reset_index(name ='count')\n",
    "    grouped['count_weighted'] = \"\"\n",
    "\n",
    "    for i, r in grouped.iterrows():\n",
    "        if grouped[demographic].iloc[i] == 'Refused':\n",
    "            weight_factor = 0\n",
    "        else:\n",
    "            weight_factor = proportions[(proportions['Demographic_1'] ==\n",
    "                                 grouped[demographic].iloc[i])]['Electoral_Proportion'].iloc[0]\n",
    "\n",
    "        grouped['count_weighted'].iloc[i] = grouped['count'].iloc[i] * weight_factor\n",
    "\n",
    "    w_sum = grouped[(grouped['candidate'].isin(['Hillary Clinton', 'Donald Trump']))]['count_weighted'].sum()\n",
    "    w_result = grouped.groupby('candidate')['count_weighted'].sum().reset_index(name ='count')\n",
    "    w_hillary = w_result[(w_result['candidate'] == 'Hillary Clinton')]['count'].iloc[0]\n",
    "\n",
    "    return w_hillary/w_sum"
   ]
  },
  {
   "cell_type": "code",
   "execution_count": 12,
   "metadata": {
    "pycharm": {
     "name": "#%%\n"
    }
   },
   "outputs": [],
   "source": [
    "search = {'age': [5,9],\n",
    "        'gender': [3,5],\n",
    "        'party': [0,3],\n",
    "        'race': [9,13],\n",
    "        'education': [13,16]}\n",
    "one_d1_weighted = []"
   ]
  },
  {
   "cell_type": "code",
   "execution_count": 13,
   "metadata": {
    "pycharm": {
     "name": "#%% Age\n"
    }
   },
   "outputs": [
    {
     "name": "stderr",
     "output_type": "stream",
     "text": [
      "C:\\Users\\marti\\anaconda3\\lib\\site-packages\\pandas\\core\\indexing.py:1637: SettingWithCopyWarning: \n",
      "A value is trying to be set on a copy of a slice from a DataFrame\n",
      "\n",
      "See the caveats in the documentation: https://pandas.pydata.org/pandas-docs/stable/user_guide/indexing.html#returning-a-view-versus-a-copy\n",
      "  self._setitem_single_block(indexer, value, name)\n"
     ]
    },
    {
     "data": {
      "text/plain": [
       "0.518554407848732"
      ]
     },
     "execution_count": 13,
     "metadata": {},
     "output_type": "execute_result"
    }
   ],
   "source": [
    "one_d1_weighted.append(weighted_hillary('age',search['age']))\n",
    "one_d1_weighted[0]"
   ]
  },
  {
   "cell_type": "code",
   "execution_count": 14,
   "metadata": {
    "pycharm": {
     "name": "#%% Gender\n"
    }
   },
   "outputs": [
    {
     "data": {
      "text/plain": [
       "0.5513711899050441"
      ]
     },
     "execution_count": 14,
     "metadata": {},
     "output_type": "execute_result"
    }
   ],
   "source": [
    "one_d1_weighted.append(weighted_hillary('gender',search['gender']))\n",
    "one_d1_weighted[1]"
   ]
  },
  {
   "cell_type": "code",
   "execution_count": 15,
   "metadata": {
    "pycharm": {
     "name": "#%% Party\n"
    }
   },
   "outputs": [
    {
     "data": {
      "text/plain": [
       "0.5449174164088921"
      ]
     },
     "execution_count": 15,
     "metadata": {},
     "output_type": "execute_result"
    }
   ],
   "source": [
    "one_d1_weighted.append(weighted_hillary('party',search['party']))\n",
    "one_d1_weighted[2]"
   ]
  },
  {
   "cell_type": "code",
   "execution_count": 16,
   "metadata": {
    "pycharm": {
     "name": "#%% Race\n"
    }
   },
   "outputs": [
    {
     "data": {
      "text/plain": [
       "0.4378478975967778"
      ]
     },
     "execution_count": 16,
     "metadata": {},
     "output_type": "execute_result"
    }
   ],
   "source": [
    "one_d1_weighted.append(weighted_hillary('race',search['race']))\n",
    "one_d1_weighted[3]"
   ]
  },
  {
   "cell_type": "code",
   "execution_count": 17,
   "metadata": {
    "pycharm": {
     "name": "#%% Education\n"
    }
   },
   "outputs": [
    {
     "data": {
      "text/plain": [
       "0.5464682164873779"
      ]
     },
     "execution_count": 17,
     "metadata": {},
     "output_type": "execute_result"
    }
   ],
   "source": [
    "one_d1_weighted.append(weighted_hillary('education',search['education']))\n",
    "one_d1_weighted[4]"
   ]
  },
  {
   "cell_type": "markdown",
   "metadata": {
    "pycharm": {
     "name": "#%% md\n"
    }
   },
   "source": [
    "Compared to the raw polling average of 0.54583, gender, party, and education seem to be fairly well representative of the population.\n",
    "However, we see discrepancies in age and race.\n",
    "They both indicate that Hillary Clinton is slightly over-represented at polls by certain demographics in these demographic categories."
   ]
  },
  {
   "cell_type": "markdown",
   "metadata": {
    "pycharm": {
     "name": "#%% md\n"
    }
   },
   "source": [
    "### 2-dimensional joint distribution weighting"
   ]
  },
  {
   "cell_type": "markdown",
   "metadata": {},
   "source": [
    "<font color='blue'>Now, for each pair of demographic types in dfdemographic, do the same -- weight the poll by that pair of demographic types, in accordance to the given joint distributions, and briefly (at most 3 sentences) describe what you observe"
   ]
  },
  {
   "cell_type": "code",
   "execution_count": 18,
   "metadata": {},
   "outputs": [],
   "source": [
    "dfdemographic['Weighted_Result'] = \"\"\n",
    "dfdemographic['Hillary_Weighted'] = \"\"\n",
    "\n",
    "for index, row in dfdemographic.iterrows():\n",
    "    type_list = dfdemographic[['Demographic_Type_1', 'Demographic_Type_2']].iloc[index].values.tolist()\n",
    "    type_list.insert(0,'candidate')\n",
    "    group_list = dfdemographic[['Demographic_1', 'Demographic_2']].iloc[index].values.tolist()\n",
    "    if pd.isna(type_list[1]) or pd.isna(type_list[2]):\n",
    "        continue\n",
    "    else:\n",
    "        # print(type_list)\n",
    "        df_group = dfpoll.groupby(type_list)[type_list[1]].count().reset_index(name ='count')\n",
    "\n",
    "        if 'Refused' in df_group[(df_group[type_list[1]] == group_list[0]) &\n",
    "                     (df_group[type_list[2]] == group_list[1])][type_list[1:2]].iloc[0]:\n",
    "            weight_factor = 0\n",
    "        else:\n",
    "            weight_factor = dfdemographic['Electoral_Proportion'].iloc[index]\n",
    "\n",
    "        # df_group['weighted_count'] = df_group['count'].iloc[index] * weight_factor\n",
    "        dfdemographic['Weighted_Result'].iloc[index] = df_group[(df_group[type_list[1]] == group_list[0]) &\n",
    "                     (df_group[type_list[2]] == group_list[1]) & (df_group['candidate'].isin(['Hillary Clinton','Donald Trump']))]['count'].sum() \\\n",
    "                                                       * weight_factor\n",
    "\n",
    "        if (df_group[(df_group[type_list[1]] == group_list[0]) &\n",
    "                     (df_group[type_list[2]] == group_list[1]) &\n",
    "                     (df_group['candidate'] == 'Hillary Clinton')])['count'].empty:\n",
    "            dfdemographic['Hillary_Weighted'].iloc[index] = 0\n",
    "            # print(index)\n",
    "            # print(row)\n",
    "        else:\n",
    "            dfdemographic['Hillary_Weighted'].iloc[index] = (df_group.loc[(df_group[type_list[1]] == group_list[0]) &\n",
    "                     (df_group[type_list[2]] == group_list[1]) & (df_group['candidate'] == 'Hillary Clinton')])['count'].iloc[0] \\\n",
    "                                                            * weight_factor"
   ]
  },
  {
   "cell_type": "markdown",
   "metadata": {
    "pycharm": {
     "name": "#%% md\n"
    }
   },
   "source": [
    "Let's check that Hillary didn't get any votes for this demographic which we set to 0. It is indeed only Donald Trump."
   ]
  },
  {
   "cell_type": "code",
   "execution_count": 19,
   "metadata": {
    "pycharm": {
     "name": "#%%\n"
    }
   },
   "outputs": [
    {
     "data": {
      "text/html": [
       "<div>\n",
       "<style scoped>\n",
       "    .dataframe tbody tr th:only-of-type {\n",
       "        vertical-align: middle;\n",
       "    }\n",
       "\n",
       "    .dataframe tbody tr th {\n",
       "        vertical-align: top;\n",
       "    }\n",
       "\n",
       "    .dataframe thead th {\n",
       "        text-align: right;\n",
       "    }\n",
       "</style>\n",
       "<table border=\"1\" class=\"dataframe\">\n",
       "  <thead>\n",
       "    <tr style=\"text-align: right;\">\n",
       "      <th></th>\n",
       "      <th>candidate</th>\n",
       "      <th>party</th>\n",
       "      <th>race</th>\n",
       "      <th>count</th>\n",
       "    </tr>\n",
       "  </thead>\n",
       "  <tbody>\n",
       "    <tr>\n",
       "      <th>25</th>\n",
       "      <td>Donald Trump</td>\n",
       "      <td>Republican</td>\n",
       "      <td>Other</td>\n",
       "      <td>5</td>\n",
       "    </tr>\n",
       "  </tbody>\n",
       "</table>\n",
       "</div>"
      ],
      "text/plain": [
       "       candidate       party   race  count\n",
       "25  Donald Trump  Republican  Other      5"
      ]
     },
     "execution_count": 19,
     "metadata": {},
     "output_type": "execute_result"
    }
   ],
   "source": [
    "group_test = dfpoll.groupby(['candidate','party','race'])['race'].count().reset_index(name ='count')\n",
    "group_test.loc[(group_test['race'] == 'Other') &\n",
    "                (group_test['party'] == 'Republican')]"
   ]
  },
  {
   "cell_type": "code",
   "execution_count": 20,
   "metadata": {
    "pycharm": {
     "name": "#%%\n"
    }
   },
   "outputs": [
    {
     "data": {
      "text/html": [
       "<div>\n",
       "<style scoped>\n",
       "    .dataframe tbody tr th:only-of-type {\n",
       "        vertical-align: middle;\n",
       "    }\n",
       "\n",
       "    .dataframe tbody tr th {\n",
       "        vertical-align: top;\n",
       "    }\n",
       "\n",
       "    .dataframe thead th {\n",
       "        text-align: right;\n",
       "    }\n",
       "</style>\n",
       "<table border=\"1\" class=\"dataframe\">\n",
       "  <thead>\n",
       "    <tr style=\"text-align: right;\">\n",
       "      <th></th>\n",
       "      <th>Demographic_Type_1</th>\n",
       "      <th>Demographic_Type_2</th>\n",
       "      <th>sum</th>\n",
       "      <th>Hillary_sum</th>\n",
       "      <th>Hillary_proportion</th>\n",
       "    </tr>\n",
       "  </thead>\n",
       "  <tbody>\n",
       "    <tr>\n",
       "      <th>0</th>\n",
       "      <td>age</td>\n",
       "      <td>education</td>\n",
       "      <td>64.813978</td>\n",
       "      <td>33.788998</td>\n",
       "      <td>0.521323</td>\n",
       "    </tr>\n",
       "    <tr>\n",
       "      <th>1</th>\n",
       "      <td>age</td>\n",
       "      <td>race</td>\n",
       "      <td>102.951816</td>\n",
       "      <td>43.151167</td>\n",
       "      <td>0.419139</td>\n",
       "    </tr>\n",
       "    <tr>\n",
       "      <th>2</th>\n",
       "      <td>gender</td>\n",
       "      <td>age</td>\n",
       "      <td>99.658294</td>\n",
       "      <td>52.328942</td>\n",
       "      <td>0.525084</td>\n",
       "    </tr>\n",
       "    <tr>\n",
       "      <th>3</th>\n",
       "      <td>gender</td>\n",
       "      <td>education</td>\n",
       "      <td>117.313169</td>\n",
       "      <td>64.664553</td>\n",
       "      <td>0.551213</td>\n",
       "    </tr>\n",
       "    <tr>\n",
       "      <th>4</th>\n",
       "      <td>gender</td>\n",
       "      <td>race</td>\n",
       "      <td>172.696859</td>\n",
       "      <td>76.470081</td>\n",
       "      <td>0.442799</td>\n",
       "    </tr>\n",
       "    <tr>\n",
       "      <th>5</th>\n",
       "      <td>party</td>\n",
       "      <td>age</td>\n",
       "      <td>67.440461</td>\n",
       "      <td>34.705966</td>\n",
       "      <td>0.514616</td>\n",
       "    </tr>\n",
       "    <tr>\n",
       "      <th>6</th>\n",
       "      <td>party</td>\n",
       "      <td>education</td>\n",
       "      <td>77.922983</td>\n",
       "      <td>41.771368</td>\n",
       "      <td>0.536060</td>\n",
       "    </tr>\n",
       "    <tr>\n",
       "      <th>7</th>\n",
       "      <td>party</td>\n",
       "      <td>gender</td>\n",
       "      <td>121.598110</td>\n",
       "      <td>67.067441</td>\n",
       "      <td>0.551550</td>\n",
       "    </tr>\n",
       "    <tr>\n",
       "      <th>8</th>\n",
       "      <td>party</td>\n",
       "      <td>race</td>\n",
       "      <td>121.032888</td>\n",
       "      <td>46.543016</td>\n",
       "      <td>0.384549</td>\n",
       "    </tr>\n",
       "    <tr>\n",
       "      <th>9</th>\n",
       "      <td>race</td>\n",
       "      <td>education</td>\n",
       "      <td>114.629296</td>\n",
       "      <td>50.250286</td>\n",
       "      <td>0.438372</td>\n",
       "    </tr>\n",
       "  </tbody>\n",
       "</table>\n",
       "</div>"
      ],
      "text/plain": [
       "  Demographic_Type_1 Demographic_Type_2         sum  Hillary_sum  \\\n",
       "0                age          education   64.813978    33.788998   \n",
       "1                age               race  102.951816    43.151167   \n",
       "2             gender                age   99.658294    52.328942   \n",
       "3             gender          education  117.313169    64.664553   \n",
       "4             gender               race  172.696859    76.470081   \n",
       "5              party                age   67.440461    34.705966   \n",
       "6              party          education   77.922983    41.771368   \n",
       "7              party             gender  121.598110    67.067441   \n",
       "8              party               race  121.032888    46.543016   \n",
       "9               race          education  114.629296    50.250286   \n",
       "\n",
       "   Hillary_proportion  \n",
       "0            0.521323  \n",
       "1            0.419139  \n",
       "2            0.525084  \n",
       "3            0.551213  \n",
       "4            0.442799  \n",
       "5            0.514616  \n",
       "6            0.536060  \n",
       "7            0.551550  \n",
       "8            0.384549  \n",
       "9            0.438372  "
      ]
     },
     "execution_count": 20,
     "metadata": {},
     "output_type": "execute_result"
    }
   ],
   "source": [
    "weighted_2d_grouped = dfdemographic.groupby(['Demographic_Type_1', 'Demographic_Type_2'])['Weighted_Result'].sum().reset_index(name ='sum')\n",
    "weighted_2d_grouped['Hillary_sum'] = \"\"\n",
    "weighted_2d_grouped['Hillary_sum'] = dfdemographic.groupby(['Demographic_Type_1', 'Demographic_Type_2'])['Hillary_Weighted'].sum().reset_index(name ='sum')['sum']\n",
    "weighted_2d_grouped['Hillary_proportion'] = \"\"\n",
    "weighted_2d_grouped['Hillary_proportion'] = weighted_2d_grouped['Hillary_sum']/weighted_2d_grouped['sum']\n",
    "weighted_2d_grouped"
   ]
  },
  {
   "cell_type": "markdown",
   "metadata": {
    "pycharm": {
     "name": "#%% md\n"
    }
   },
   "source": [
    "It is obvious to us from the above grouped table that Hillary's numbers were overrepresented at polling - I also tried doing it for Trump, and his numbers increased substantially.\n",
    "Weighting by the pairs of demographic types yields quite a bit lower numbers - 5-10% lower than the raw polling result.\n",
    "This tells us that the joint distributions, most significantly with party and race - had an over-representation in their demographic groups during polling for Hillary Clinton -\n",
    "in fact, the party = republican and race = other demographic consisted of no Hillary responses."
   ]
  },
  {
   "cell_type": "markdown",
   "metadata": {},
   "source": [
    "### 3) 2-dimensional marginal "
   ]
  },
  {
   "cell_type": "markdown",
   "metadata": {
    "ExecuteTime": {
     "end_time": "2021-09-01T18:25:18.040978Z",
     "start_time": "2021-09-01T18:25:18.016981Z"
    }
   },
   "source": [
    "<font color='blue'>We don't always have access to joint distributions across the population -- for example, it may be hard to estimate from past exit polls (surveys done as people are leaving the polling station) what the joint distribution of education and gender is, for example. However, access to marginal distributions are often available. \n",
    "\n",
    "As discussed in class, one strategy when you don't have access to joint distributions -- only marginals -- is to _multiply_ the marginal distributions. For example, if 50% of your population is Democratic and 50% is a woman, then pretend that 50% times 50% = 25% of your population is a Democratic women. Clearly this technique is not perfect, but it is sometimes a useful heuristic.   \n",
    "\n",
    "For the following pairs of Demographic types, report the weighting results if you use the joint distributions in dfdemographic versus if you approximate the joint distribution using the marginals. Briefly (at most 3 sentences) describe what you observe.\n",
    "\n",
    "(party, gender)\n",
    "\n",
    "(race, gender)"
   ]
  },
  {
   "cell_type": "code",
   "execution_count": 21,
   "metadata": {
    "pycharm": {
     "name": "#%%\n"
    }
   },
   "outputs": [
    {
     "name": "stderr",
     "output_type": "stream",
     "text": [
      "C:\\Users\\marti\\anaconda3\\lib\\site-packages\\pandas\\core\\indexing.py:1637: SettingWithCopyWarning: \n",
      "A value is trying to be set on a copy of a slice from a DataFrame\n",
      "\n",
      "See the caveats in the documentation: https://pandas.pydata.org/pandas-docs/stable/user_guide/indexing.html#returning-a-view-versus-a-copy\n",
      "  self._setitem_single_block(indexer, value, name)\n"
     ]
    }
   ],
   "source": [
    "dfdemographic[\"Marginal_Estimate\"] = \"\"\n",
    "dfdemographic[\"Marginal_Error\"] = \"\"\n",
    "\n",
    "for i, rows in dfdemographic.iterrows():\n",
    "    if pd.isna(dfdemographic['Demographic_Type_2'].iloc[i]):\n",
    "        continue\n",
    "    else:\n",
    "        d1 = dfdemographic['Demographic_1'].iloc[i]\n",
    "        d2 = dfdemographic['Demographic_2'].iloc[i]\n",
    "        estimate1 = dfdemographic[(dfdemographic['Demographic_1'] == d1) & (pd.isnull(dfdemographic['Demographic_2']))]['Electoral_Proportion'].iloc[0]\n",
    "        estimate2 = dfdemographic[(dfdemographic['Demographic_1'] == d2) & (pd.isnull(dfdemographic['Demographic_2']))]['Electoral_Proportion'].iloc[0]\n",
    "        product = estimate1 * estimate2\n",
    "        dfdemographic[\"Marginal_Estimate\"].iloc[i] = product\n",
    "        error = abs(product-dfdemographic['Electoral_Proportion'].iloc[i])/dfdemographic['Electoral_Proportion'].iloc[i]\n",
    "        dfdemographic[\"Marginal_Error\"].iloc[i] = error"
   ]
  },
  {
   "cell_type": "code",
   "execution_count": 22,
   "metadata": {
    "pycharm": {
     "name": "#%%\n"
    }
   },
   "outputs": [],
   "source": [
    "dfdemographic['Marginal_Sum'] = \"\"\n",
    "dfdemographic['Marginal_Hillary'] = \"\"\n",
    "\n",
    "for index, row in dfdemographic.iterrows():\n",
    "    type_list = dfdemographic[['Demographic_Type_1', 'Demographic_Type_2']].iloc[index].values.tolist()\n",
    "    type_list.insert(0,'candidate')\n",
    "    group_list = dfdemographic[['Demographic_1', 'Demographic_2']].iloc[index].values.tolist()\n",
    "    if pd.isna(type_list[1]) or pd.isna(type_list[2]):\n",
    "        continue\n",
    "    else:\n",
    "        # print(type_list)\n",
    "        df_group = dfpoll.groupby(type_list)[type_list[1]].count().reset_index(name ='count')\n",
    "\n",
    "        if 'Refused' in df_group[(df_group[type_list[1]] == group_list[0]) &\n",
    "                     (df_group[type_list[2]] == group_list[1])][type_list[1:2]].iloc[0]:\n",
    "            weight_factor = 0\n",
    "        else:\n",
    "            weight_factor = dfdemographic['Marginal_Estimate'].iloc[index]\n",
    "\n",
    "        # df_group['weighted_count'] = df_group['count'].iloc[index] * weight_factor\n",
    "        dfdemographic['Marginal_Sum'].iloc[index] = df_group[(df_group[type_list[1]] == group_list[0]) &\n",
    "                     (df_group[type_list[2]] == group_list[1]) & (df_group['candidate'].isin(['Hillary Clinton','Donald Trump']))]['count'].sum() \\\n",
    "                                                       * weight_factor\n",
    "\n",
    "        if (df_group[(df_group[type_list[1]] == group_list[0]) &\n",
    "                     (df_group[type_list[2]] == group_list[1]) &\n",
    "                     (df_group['candidate'] == 'Hillary Clinton')])['count'].empty:\n",
    "            dfdemographic['Marginal_Hillary'].iloc[index] = 0\n",
    "            # print(index)\n",
    "            # print(row)\n",
    "        else:\n",
    "            dfdemographic['Marginal_Hillary'].iloc[index] = (df_group.loc[(df_group[type_list[1]] == group_list[0]) &\n",
    "                     (df_group[type_list[2]] == group_list[1]) & (df_group['candidate'] == 'Hillary Clinton')])['count'].iloc[0] \\\n",
    "                                                            * weight_factor\n"
   ]
  },
  {
   "cell_type": "code",
   "execution_count": 23,
   "metadata": {
    "pycharm": {
     "name": "#%%\n"
    }
   },
   "outputs": [
    {
     "data": {
      "text/html": [
       "<div>\n",
       "<style scoped>\n",
       "    .dataframe tbody tr th:only-of-type {\n",
       "        vertical-align: middle;\n",
       "    }\n",
       "\n",
       "    .dataframe tbody tr th {\n",
       "        vertical-align: top;\n",
       "    }\n",
       "\n",
       "    .dataframe thead th {\n",
       "        text-align: right;\n",
       "    }\n",
       "</style>\n",
       "<table border=\"1\" class=\"dataframe\">\n",
       "  <thead>\n",
       "    <tr style=\"text-align: right;\">\n",
       "      <th></th>\n",
       "      <th>Demographic_Type_1</th>\n",
       "      <th>Demographic_Type_2</th>\n",
       "      <th>M_Hillary</th>\n",
       "      <th>Compare_given</th>\n",
       "    </tr>\n",
       "  </thead>\n",
       "  <tbody>\n",
       "    <tr>\n",
       "      <th>0</th>\n",
       "      <td>age</td>\n",
       "      <td>education</td>\n",
       "      <td>0.518844</td>\n",
       "      <td>0.521323</td>\n",
       "    </tr>\n",
       "    <tr>\n",
       "      <th>1</th>\n",
       "      <td>age</td>\n",
       "      <td>race</td>\n",
       "      <td>0.420640</td>\n",
       "      <td>0.419139</td>\n",
       "    </tr>\n",
       "    <tr>\n",
       "      <th>2</th>\n",
       "      <td>gender</td>\n",
       "      <td>age</td>\n",
       "      <td>0.525515</td>\n",
       "      <td>0.525084</td>\n",
       "    </tr>\n",
       "    <tr>\n",
       "      <th>3</th>\n",
       "      <td>gender</td>\n",
       "      <td>education</td>\n",
       "      <td>0.551905</td>\n",
       "      <td>0.551213</td>\n",
       "    </tr>\n",
       "    <tr>\n",
       "      <th>4</th>\n",
       "      <td>gender</td>\n",
       "      <td>race</td>\n",
       "      <td>0.444312</td>\n",
       "      <td>0.442799</td>\n",
       "    </tr>\n",
       "    <tr>\n",
       "      <th>5</th>\n",
       "      <td>party</td>\n",
       "      <td>age</td>\n",
       "      <td>0.520710</td>\n",
       "      <td>0.514616</td>\n",
       "    </tr>\n",
       "    <tr>\n",
       "      <th>6</th>\n",
       "      <td>party</td>\n",
       "      <td>education</td>\n",
       "      <td>0.544903</td>\n",
       "      <td>0.536060</td>\n",
       "    </tr>\n",
       "    <tr>\n",
       "      <th>7</th>\n",
       "      <td>party</td>\n",
       "      <td>gender</td>\n",
       "      <td>0.549290</td>\n",
       "      <td>0.551550</td>\n",
       "    </tr>\n",
       "    <tr>\n",
       "      <th>8</th>\n",
       "      <td>party</td>\n",
       "      <td>race</td>\n",
       "      <td>0.429003</td>\n",
       "      <td>0.384549</td>\n",
       "    </tr>\n",
       "    <tr>\n",
       "      <th>9</th>\n",
       "      <td>race</td>\n",
       "      <td>education</td>\n",
       "      <td>0.435564</td>\n",
       "      <td>0.438372</td>\n",
       "    </tr>\n",
       "  </tbody>\n",
       "</table>\n",
       "</div>"
      ],
      "text/plain": [
       "  Demographic_Type_1 Demographic_Type_2  M_Hillary  Compare_given\n",
       "0                age          education   0.518844       0.521323\n",
       "1                age               race   0.420640       0.419139\n",
       "2             gender                age   0.525515       0.525084\n",
       "3             gender          education   0.551905       0.551213\n",
       "4             gender               race   0.444312       0.442799\n",
       "5              party                age   0.520710       0.514616\n",
       "6              party          education   0.544903       0.536060\n",
       "7              party             gender   0.549290       0.551550\n",
       "8              party               race   0.429003       0.384549\n",
       "9               race          education   0.435564       0.438372"
      ]
     },
     "execution_count": 23,
     "metadata": {},
     "output_type": "execute_result"
    }
   ],
   "source": [
    "weighted_marginal_grouped = dfdemographic.groupby(['Demographic_Type_1', 'Demographic_Type_2'])['Marginal_Sum'].sum().reset_index(name ='sum')\n",
    "weighted_marginal_grouped['Marginal_Hillary'] = \"\"\n",
    "weighted_marginal_grouped['Marginal_Hillary'] = dfdemographic.groupby(['Demographic_Type_1', 'Demographic_Type_2'])['Marginal_Hillary'].sum().reset_index(name ='sum')['sum']\n",
    "weighted_marginal_grouped['M_Hillary'] = \"\"\n",
    "weighted_marginal_grouped['M_Hillary'] = weighted_marginal_grouped['Marginal_Hillary']/weighted_marginal_grouped['sum']\n",
    "weighted_marginal_grouped['Compare_given'] = weighted_2d_grouped['Hillary_proportion']\n",
    "weighted_marginal_grouped.drop(['sum','Marginal_Hillary'], axis=1)\n"
   ]
  },
  {
   "cell_type": "markdown",
   "metadata": {
    "pycharm": {
     "name": "#%% md\n"
    }
   },
   "source": [
    "Party and gender are quite close - our marginal approximation is accurate, and the race and gender are even closer.\n",
    "On the other hand, the approximation of party - race correlations is poor. This means that there are likely some external, higher order covariates or dynamics that\n",
    "changes this demographic's response rate."
   ]
  },
  {
   "cell_type": "markdown",
   "metadata": {},
   "source": [
    "### 4) Bonus points (up to 6 points): Implement a \"cheap\" version of the MRP technique mentioned in class.\n",
    "\n",
    "<font color='blue'> The above techniques use the mean answer among people who share a demographic as the estimate for that demographic. But that wastes information _across_ demographics. For example, maybe people who only have \"Some College\" are similar enough to people who have \"High School\" as to provide some useful information. \n",
    "\n",
    "First, do the following: use a logistic regression (or your favorite prediction tool) to predict candidate choice, using the demographics. You might want to convert some demographics (like education) to ordered numeric (e.g., 1, 2, 3) as opposed to using discrete categories. \n",
    "\n",
    "Here, you will earn partial bonus points by just reporting the predictions and comparing them to the means of each covariate group in the raw polling data. Give a scatter-plot, where each point is one combination of full demographics (age, gender, party, race/ethnicity, education), the X axis is the raw polling average for that combination, and the Y axis is your regression prediction for that combination.   \n",
    "\n",
    "Then, once you have predictions for each set of covariates, \"post-stratify\" to get a single population estimate by plugging them into the above weighting techniques, where you use the predictions instead of the raw averages in that cell. Report the resulting estimates if you do the 2-dimensional joint weighting (on every pair)."
   ]
  },
  {
   "cell_type": "code",
   "execution_count": 24,
   "metadata": {
    "pycharm": {
     "name": "#%%\n"
    }
   },
   "outputs": [],
   "source": [
    "from sklearn.linear_model import LogisticRegression"
   ]
  },
  {
   "cell_type": "code",
   "execution_count": 25,
   "metadata": {
    "pycharm": {
     "name": "#%% One hot encoding\n"
    }
   },
   "outputs": [
    {
     "data": {
      "text/plain": [
       "0      0.000000\n",
       "1      1.000000\n",
       "2      1.000000\n",
       "3      0.714286\n",
       "4      0.333333\n",
       "         ...   \n",
       "230    0.000000\n",
       "231    0.000000\n",
       "232    0.000000\n",
       "233    0.000000\n",
       "234    0.000000\n",
       "Name: predicted, Length: 235, dtype: float64"
      ]
     },
     "execution_count": 25,
     "metadata": {},
     "output_type": "execute_result"
    }
   ],
   "source": [
    "df_log = pd.get_dummies(dfpoll)\n",
    "# encoded = df_log.drop(['candidate_Do not know', 'candidate_Donald Trump', 'candidate_Someone else', 'candidate_Will not vote'], axis = 1)\n",
    "X_train = df_log.drop(['candidate_Hillary Clinton'], axis=1)\n",
    "Y_train = df_log['candidate_Hillary Clinton']\n",
    "\n",
    "model = LogisticRegression()\n",
    "model.fit(X_train, Y_train)\n",
    "\n",
    "Y_predict = model.predict(X_train)\n",
    "df_predicted = dfpoll.drop(['candidate'], axis = 1)\n",
    "df_predicted['Hillary?'] = Y_predict\n",
    "predicted_raw = df_predicted.groupby(['age', 'gender', 'party', 'race', 'education'])['Hillary?'].sum().reset_index(name ='predicted')['predicted']/df_predicted.groupby(['age', 'gender', 'party', 'race', 'education'])['Hillary?'].count().reset_index(name ='predicted')['predicted']\n",
    "predicted_raw"
   ]
  },
  {
   "cell_type": "code",
   "execution_count": 26,
   "metadata": {
    "pycharm": {
     "name": "#%%\n"
    }
   },
   "outputs": [
    {
     "data": {
      "text/plain": [
       "0      0.000000\n",
       "1      1.000000\n",
       "2      1.000000\n",
       "3      0.714286\n",
       "4      0.333333\n",
       "         ...   \n",
       "230    0.000000\n",
       "231    0.000000\n",
       "232    0.000000\n",
       "233    0.000000\n",
       "234    0.000000\n",
       "Name: poll, Length: 235, dtype: float64"
      ]
     },
     "execution_count": 26,
     "metadata": {},
     "output_type": "execute_result"
    }
   ],
   "source": [
    "encoded = pd.get_dummies(dfpoll, columns=['candidate'])\n",
    "encoded = encoded.drop(['candidate_Do not know', 'candidate_Donald Trump', 'candidate_Someone else', 'candidate_Will not vote'], axis = 1)\n",
    "poll_raw = encoded.groupby(['age', 'gender', 'party', 'race', 'education'])['candidate_Hillary Clinton'].sum().reset_index(name ='poll')['poll']/encoded.groupby(['age', 'gender', 'party', 'race', 'education'])['candidate_Hillary Clinton'].count().reset_index(name ='poll')['poll']\n",
    "poll_raw"
   ]
  },
  {
   "cell_type": "code",
   "execution_count": 27,
   "metadata": {
    "pycharm": {
     "name": "#%%\n"
    },
    "scrolled": true
   },
   "outputs": [
    {
     "name": "stderr",
     "output_type": "stream",
     "text": [
      "C:\\Users\\marti\\anaconda3\\lib\\site-packages\\seaborn\\_decorators.py:36: FutureWarning: Pass the following variables as keyword args: x, y. From version 0.12, the only valid positional argument will be `data`, and passing other arguments without an explicit keyword will result in an error or misinterpretation.\n",
      "  warnings.warn(\n"
     ]
    },
    {
     "data": {
      "image/png": "[encoded data removed]",
      "text/plain": [
       "<Figure size 432x288 with 1 Axes>"
      ]
     },
     "metadata": {
      "needs_background": "light"
     },
     "output_type": "display_data"
    }
   ],
   "source": [
    "sns.scatterplot(poll_raw, predicted_raw);"
   ]
  },
  {
   "cell_type": "markdown",
   "metadata": {
    "pycharm": {
     "name": "#%% md\n"
    }
   },
   "source": [
    "It's basically a perfect prediction because the testing data is the training data. We see some slight jitter here and there but this is expected."
   ]
  },
  {
   "cell_type": "code",
   "execution_count": null,
   "metadata": {
    "pycharm": {
     "name": "#%%\n"
    }
   },
   "outputs": [],
   "source": []
  },
  {
   "cell_type": "markdown",
   "metadata": {},
   "source": [
    "### 5) Bonus points (up to 3 points): Implement full \"raking\" using all the demographic covariates, i.e., match all the marginals without assuming independence, as opposed to just one or two marginal distributions.\n",
    "\n",
    "<font color='blue'> You may use existing python packages, such as [here](https://quantipy.readthedocs.io/en/staging-develop/sites/lib_doc/weights/01_background.html#the-statistical-problem). Another approach would be to use [rpy2](https://rpy2.github.io/doc/latest/html/introduction.html) to call `R`, as there are many well-maintained packages in `R` to analyze polling data. One example is [here](https://www.rdocumentation.org/packages/survey/versions/4.1-1/topics/rake). "
   ]
  },
  {
   "cell_type": "code",
   "execution_count": null,
   "metadata": {},
   "outputs": [],
   "source": []
  },
  {
   "cell_type": "markdown",
   "metadata": {},
   "source": [
    "## Part C: Uncertainty analysis and choices"
   ]
  },
  {
   "cell_type": "markdown",
   "metadata": {},
   "source": [
    "### 1) Education weighting analysis and \"refused\" answers"
   ]
  },
  {
   "cell_type": "markdown",
   "metadata": {},
   "source": [
    "<font color='blue'> i. In Part B, you should notice a discrepancy from what we said in class and the data -- weighting by education does _not_ seem to help much in reducing the polling average from being pro-Clinton. Dig into the data to see why the methods we tried above might not be perfect, and what data you would want (such as demographic joint distribution) to do better. Discuss in 5 sentences or less. Especially convincing would be plots/calculations on what would happen under hypothetical data. \n",
    "\n",
    "Hint: Look at polling average broken up by just education, and then broken up by education and other covariates. Especially helpful may be the following pandas command:\n",
    "\n",
    "`dfpoll.groupby(['education', ...])['candidate'].value_counts(normalize = True)`\n",
    "\n",
    "where ... is replaced by other columns"
   ]
  },
  {
   "cell_type": "code",
   "execution_count": 28,
   "metadata": {
    "pycharm": {
     "name": "#%%\n"
    }
   },
   "outputs": [
    {
     "data": {
      "text/html": [
       "<div>\n",
       "<style scoped>\n",
       "    .dataframe tbody tr th:only-of-type {\n",
       "        vertical-align: middle;\n",
       "    }\n",
       "\n",
       "    .dataframe tbody tr th {\n",
       "        vertical-align: top;\n",
       "    }\n",
       "\n",
       "    .dataframe thead th {\n",
       "        text-align: right;\n",
       "    }\n",
       "</style>\n",
       "<table border=\"1\" class=\"dataframe\">\n",
       "  <thead>\n",
       "    <tr style=\"text-align: right;\">\n",
       "      <th></th>\n",
       "      <th>education</th>\n",
       "      <th>candidate</th>\n",
       "      <th>proportion</th>\n",
       "    </tr>\n",
       "  </thead>\n",
       "  <tbody>\n",
       "    <tr>\n",
       "      <th>0</th>\n",
       "      <td>College</td>\n",
       "      <td>Hillary Clinton</td>\n",
       "      <td>0.460317</td>\n",
       "    </tr>\n",
       "    <tr>\n",
       "      <th>1</th>\n",
       "      <td>College</td>\n",
       "      <td>Donald Trump</td>\n",
       "      <td>0.373016</td>\n",
       "    </tr>\n",
       "    <tr>\n",
       "      <th>2</th>\n",
       "      <td>College</td>\n",
       "      <td>Do not know</td>\n",
       "      <td>0.071429</td>\n",
       "    </tr>\n",
       "    <tr>\n",
       "      <th>3</th>\n",
       "      <td>College</td>\n",
       "      <td>Will not vote</td>\n",
       "      <td>0.060847</td>\n",
       "    </tr>\n",
       "    <tr>\n",
       "      <th>4</th>\n",
       "      <td>College</td>\n",
       "      <td>Someone else</td>\n",
       "      <td>0.034392</td>\n",
       "    </tr>\n",
       "    <tr>\n",
       "      <th>5</th>\n",
       "      <td>High School</td>\n",
       "      <td>Hillary Clinton</td>\n",
       "      <td>0.456140</td>\n",
       "    </tr>\n",
       "    <tr>\n",
       "      <th>6</th>\n",
       "      <td>High School</td>\n",
       "      <td>Donald Trump</td>\n",
       "      <td>0.397661</td>\n",
       "    </tr>\n",
       "    <tr>\n",
       "      <th>7</th>\n",
       "      <td>High School</td>\n",
       "      <td>Do not know</td>\n",
       "      <td>0.105263</td>\n",
       "    </tr>\n",
       "    <tr>\n",
       "      <th>8</th>\n",
       "      <td>High School</td>\n",
       "      <td>Will not vote</td>\n",
       "      <td>0.023392</td>\n",
       "    </tr>\n",
       "    <tr>\n",
       "      <th>9</th>\n",
       "      <td>High School</td>\n",
       "      <td>Someone else</td>\n",
       "      <td>0.017544</td>\n",
       "    </tr>\n",
       "    <tr>\n",
       "      <th>10</th>\n",
       "      <td>Refused</td>\n",
       "      <td>Do not know</td>\n",
       "      <td>0.416667</td>\n",
       "    </tr>\n",
       "    <tr>\n",
       "      <th>11</th>\n",
       "      <td>Refused</td>\n",
       "      <td>Donald Trump</td>\n",
       "      <td>0.250000</td>\n",
       "    </tr>\n",
       "    <tr>\n",
       "      <th>12</th>\n",
       "      <td>Refused</td>\n",
       "      <td>Hillary Clinton</td>\n",
       "      <td>0.166667</td>\n",
       "    </tr>\n",
       "    <tr>\n",
       "      <th>13</th>\n",
       "      <td>Refused</td>\n",
       "      <td>Someone else</td>\n",
       "      <td>0.083333</td>\n",
       "    </tr>\n",
       "    <tr>\n",
       "      <th>14</th>\n",
       "      <td>Refused</td>\n",
       "      <td>Will not vote</td>\n",
       "      <td>0.083333</td>\n",
       "    </tr>\n",
       "    <tr>\n",
       "      <th>15</th>\n",
       "      <td>Some College</td>\n",
       "      <td>Hillary Clinton</td>\n",
       "      <td>0.454248</td>\n",
       "    </tr>\n",
       "    <tr>\n",
       "      <th>16</th>\n",
       "      <td>Some College</td>\n",
       "      <td>Donald Trump</td>\n",
       "      <td>0.375817</td>\n",
       "    </tr>\n",
       "    <tr>\n",
       "      <th>17</th>\n",
       "      <td>Some College</td>\n",
       "      <td>Do not know</td>\n",
       "      <td>0.091503</td>\n",
       "    </tr>\n",
       "    <tr>\n",
       "      <th>18</th>\n",
       "      <td>Some College</td>\n",
       "      <td>Someone else</td>\n",
       "      <td>0.042484</td>\n",
       "    </tr>\n",
       "    <tr>\n",
       "      <th>19</th>\n",
       "      <td>Some College</td>\n",
       "      <td>Will not vote</td>\n",
       "      <td>0.035948</td>\n",
       "    </tr>\n",
       "  </tbody>\n",
       "</table>\n",
       "</div>"
      ],
      "text/plain": [
       "       education        candidate  proportion\n",
       "0        College  Hillary Clinton    0.460317\n",
       "1        College     Donald Trump    0.373016\n",
       "2        College      Do not know    0.071429\n",
       "3        College    Will not vote    0.060847\n",
       "4        College     Someone else    0.034392\n",
       "5    High School  Hillary Clinton    0.456140\n",
       "6    High School     Donald Trump    0.397661\n",
       "7    High School      Do not know    0.105263\n",
       "8    High School    Will not vote    0.023392\n",
       "9    High School     Someone else    0.017544\n",
       "10       Refused      Do not know    0.416667\n",
       "11       Refused     Donald Trump    0.250000\n",
       "12       Refused  Hillary Clinton    0.166667\n",
       "13       Refused     Someone else    0.083333\n",
       "14       Refused    Will not vote    0.083333\n",
       "15  Some College  Hillary Clinton    0.454248\n",
       "16  Some College     Donald Trump    0.375817\n",
       "17  Some College      Do not know    0.091503\n",
       "18  Some College     Someone else    0.042484\n",
       "19  Some College    Will not vote    0.035948"
      ]
     },
     "execution_count": 28,
     "metadata": {},
     "output_type": "execute_result"
    }
   ],
   "source": [
    "dfpoll.groupby(['education'])['candidate'].value_counts(normalize = True).reset_index(name ='proportion')"
   ]
  },
  {
   "cell_type": "code",
   "execution_count": 29,
   "metadata": {
    "pycharm": {
     "name": "#%%\n"
    }
   },
   "outputs": [],
   "source": [
    "race_edu_cov = dfpoll.groupby(['education', 'race'])['candidate'].value_counts(normalize = True).reset_index(name ='proportion')\n",
    "gender_edu_cov = dfpoll.groupby(['education', 'gender'])['candidate'].value_counts(normalize = True).reset_index(name ='proportion')\n",
    "party_edu_cov = dfpoll.groupby(['education', 'party'])['candidate'].value_counts(normalize = True).reset_index(name ='proportion')\n",
    "age_edu_cov = dfpoll.groupby(['education', 'age'])['candidate'].value_counts(normalize = True).reset_index(name ='proportion')"
   ]
  },
  {
   "cell_type": "code",
   "execution_count": 30,
   "metadata": {
    "pycharm": {
     "name": "#%%\n"
    }
   },
   "outputs": [
    {
     "name": "stderr",
     "output_type": "stream",
     "text": [
      "C:\\Users\\marti\\anaconda3\\lib\\site-packages\\seaborn\\_decorators.py:36: FutureWarning: Pass the following variables as keyword args: x, y. From version 0.12, the only valid positional argument will be `data`, and passing other arguments without an explicit keyword will result in an error or misinterpretation.\n",
      "  warnings.warn(\n"
     ]
    },
    {
     "data": {
      "image/png": "[encoded data removed]",
      "text/plain": [
       "<Figure size 432x288 with 1 Axes>"
      ]
     },
     "metadata": {
      "needs_background": "light"
     },
     "output_type": "display_data"
    }
   ],
   "source": [
    "sns.barplot(race_edu_cov[race_edu_cov['candidate'] == 'Hillary Clinton']['race'],\n",
    "            race_edu_cov[race_edu_cov['candidate'] == 'Hillary Clinton']['proportion'],\n",
    "            hue = race_edu_cov['education']);\n"
   ]
  },
  {
   "cell_type": "code",
   "execution_count": 31,
   "metadata": {
    "pycharm": {
     "name": "#%%\n"
    }
   },
   "outputs": [
    {
     "name": "stderr",
     "output_type": "stream",
     "text": [
      "C:\\Users\\marti\\anaconda3\\lib\\site-packages\\seaborn\\_decorators.py:36: FutureWarning: Pass the following variables as keyword args: x, y. From version 0.12, the only valid positional argument will be `data`, and passing other arguments without an explicit keyword will result in an error or misinterpretation.\n",
      "  warnings.warn(\n"
     ]
    },
    {
     "data": {
      "image/png": "[encoded data removed]",
      "text/plain": [
       "<Figure size 432x288 with 1 Axes>"
      ]
     },
     "metadata": {
      "needs_background": "light"
     },
     "output_type": "display_data"
    }
   ],
   "source": [
    "sns.barplot(gender_edu_cov[gender_edu_cov['candidate'] == 'Hillary Clinton']['gender'],\n",
    "            gender_edu_cov[gender_edu_cov['candidate'] == 'Hillary Clinton']['proportion'],\n",
    "            hue = gender_edu_cov['education']);"
   ]
  },
  {
   "cell_type": "code",
   "execution_count": 32,
   "metadata": {
    "pycharm": {
     "name": "#%%\n"
    }
   },
   "outputs": [
    {
     "name": "stderr",
     "output_type": "stream",
     "text": [
      "C:\\Users\\marti\\anaconda3\\lib\\site-packages\\seaborn\\_decorators.py:36: FutureWarning: Pass the following variables as keyword args: x, y. From version 0.12, the only valid positional argument will be `data`, and passing other arguments without an explicit keyword will result in an error or misinterpretation.\n",
      "  warnings.warn(\n"
     ]
    },
    {
     "data": {
      "image/png": "[encoded data removed]",
      "text/plain": [
       "<Figure size 432x288 with 1 Axes>"
      ]
     },
     "metadata": {
      "needs_background": "light"
     },
     "output_type": "display_data"
    }
   ],
   "source": [
    "sns.barplot(party_edu_cov[party_edu_cov['candidate'] == 'Hillary Clinton']['party'],\n",
    "            party_edu_cov[party_edu_cov['candidate'] == 'Hillary Clinton']['proportion'],\n",
    "            hue = party_edu_cov['education']);"
   ]
  },
  {
   "cell_type": "code",
   "execution_count": 33,
   "metadata": {
    "pycharm": {
     "name": "#%%\n"
    }
   },
   "outputs": [
    {
     "name": "stderr",
     "output_type": "stream",
     "text": [
      "C:\\Users\\marti\\anaconda3\\lib\\site-packages\\seaborn\\_decorators.py:36: FutureWarning: Pass the following variables as keyword args: x, y. From version 0.12, the only valid positional argument will be `data`, and passing other arguments without an explicit keyword will result in an error or misinterpretation.\n",
      "  warnings.warn(\n"
     ]
    },
    {
     "data": {
      "image/png": "[encoded data removed]",
      "text/plain": [
       "<Figure size 432x288 with 1 Axes>"
      ]
     },
     "metadata": {
      "needs_background": "light"
     },
     "output_type": "display_data"
    }
   ],
   "source": [
    "sns.barplot(age_edu_cov[age_edu_cov['candidate'] == 'Hillary Clinton']['age'],\n",
    "            age_edu_cov[age_edu_cov['candidate'] == 'Hillary Clinton']['proportion'],\n",
    "            hue = age_edu_cov['education']);\n"
   ]
  },
  {
   "cell_type": "code",
   "execution_count": 34,
   "metadata": {
    "pycharm": {
     "name": "#%%\n"
    }
   },
   "outputs": [
    {
     "data": {
      "text/html": [
       "<div>\n",
       "<style scoped>\n",
       "    .dataframe tbody tr th:only-of-type {\n",
       "        vertical-align: middle;\n",
       "    }\n",
       "\n",
       "    .dataframe tbody tr th {\n",
       "        vertical-align: top;\n",
       "    }\n",
       "\n",
       "    .dataframe thead th {\n",
       "        text-align: right;\n",
       "    }\n",
       "</style>\n",
       "<table border=\"1\" class=\"dataframe\">\n",
       "  <thead>\n",
       "    <tr style=\"text-align: right;\">\n",
       "      <th></th>\n",
       "      <th>education</th>\n",
       "      <th>age</th>\n",
       "      <th>count</th>\n",
       "    </tr>\n",
       "  </thead>\n",
       "  <tbody>\n",
       "    <tr>\n",
       "      <th>0</th>\n",
       "      <td>College</td>\n",
       "      <td>18-29</td>\n",
       "      <td>70</td>\n",
       "    </tr>\n",
       "    <tr>\n",
       "      <th>1</th>\n",
       "      <td>College</td>\n",
       "      <td>30-44</td>\n",
       "      <td>89</td>\n",
       "    </tr>\n",
       "    <tr>\n",
       "      <th>2</th>\n",
       "      <td>College</td>\n",
       "      <td>45-64</td>\n",
       "      <td>114</td>\n",
       "    </tr>\n",
       "    <tr>\n",
       "      <th>3</th>\n",
       "      <td>College</td>\n",
       "      <td>65+</td>\n",
       "      <td>105</td>\n",
       "    </tr>\n",
       "    <tr>\n",
       "      <th>4</th>\n",
       "      <td>High School</td>\n",
       "      <td>18-29</td>\n",
       "      <td>46</td>\n",
       "    </tr>\n",
       "    <tr>\n",
       "      <th>5</th>\n",
       "      <td>High School</td>\n",
       "      <td>30-44</td>\n",
       "      <td>17</td>\n",
       "    </tr>\n",
       "    <tr>\n",
       "      <th>6</th>\n",
       "      <td>High School</td>\n",
       "      <td>45-64</td>\n",
       "      <td>57</td>\n",
       "    </tr>\n",
       "    <tr>\n",
       "      <th>7</th>\n",
       "      <td>High School</td>\n",
       "      <td>65+</td>\n",
       "      <td>51</td>\n",
       "    </tr>\n",
       "    <tr>\n",
       "      <th>8</th>\n",
       "      <td>Refused</td>\n",
       "      <td>30-44</td>\n",
       "      <td>4</td>\n",
       "    </tr>\n",
       "    <tr>\n",
       "      <th>9</th>\n",
       "      <td>Refused</td>\n",
       "      <td>45-64</td>\n",
       "      <td>6</td>\n",
       "    </tr>\n",
       "    <tr>\n",
       "      <th>10</th>\n",
       "      <td>Refused</td>\n",
       "      <td>65+</td>\n",
       "      <td>2</td>\n",
       "    </tr>\n",
       "    <tr>\n",
       "      <th>11</th>\n",
       "      <td>Some College</td>\n",
       "      <td>18-29</td>\n",
       "      <td>77</td>\n",
       "    </tr>\n",
       "    <tr>\n",
       "      <th>12</th>\n",
       "      <td>Some College</td>\n",
       "      <td>30-44</td>\n",
       "      <td>58</td>\n",
       "    </tr>\n",
       "    <tr>\n",
       "      <th>13</th>\n",
       "      <td>Some College</td>\n",
       "      <td>45-64</td>\n",
       "      <td>86</td>\n",
       "    </tr>\n",
       "    <tr>\n",
       "      <th>14</th>\n",
       "      <td>Some College</td>\n",
       "      <td>65+</td>\n",
       "      <td>85</td>\n",
       "    </tr>\n",
       "  </tbody>\n",
       "</table>\n",
       "</div>"
      ],
      "text/plain": [
       "       education    age  count\n",
       "0        College  18-29     70\n",
       "1        College  30-44     89\n",
       "2        College  45-64    114\n",
       "3        College    65+    105\n",
       "4    High School  18-29     46\n",
       "5    High School  30-44     17\n",
       "6    High School  45-64     57\n",
       "7    High School    65+     51\n",
       "8        Refused  30-44      4\n",
       "9        Refused  45-64      6\n",
       "10       Refused    65+      2\n",
       "11  Some College  18-29     77\n",
       "12  Some College  30-44     58\n",
       "13  Some College  45-64     86\n",
       "14  Some College    65+     85"
      ]
     },
     "execution_count": 34,
     "metadata": {},
     "output_type": "execute_result"
    }
   ],
   "source": [
    "dfpoll.groupby(['education','age'])['education'].count().reset_index(name ='count')"
   ]
  },
  {
   "cell_type": "markdown",
   "metadata": {},
   "source": [
    "We can see that there are strong covariates with the join distributions in relation to education representing the shifting bar height per colour.\n",
    "For each education class, the covariate category shifts the poll results massively, meaning that education is a poor sole variable conditional.\n",
    "Ideally, we want to perform weighting on a joint distribution that is not too broad - thus breaking the cardinal rule - or too specific, in which\n",
    "sparse data could give us extremely irregular results.\n",
    "We also want to weight a joint distribution that is strongly misrepresented at polling - thus, we can perform an effective adjustment.\n",
    "A good selection could be age and education."
   ]
  },
  {
   "cell_type": "markdown",
   "metadata": {},
   "source": [
    "<font color='blue'> ii. You'll notice that there are many responses with \"refused,\" and that those people in particular are Trump-leaning. The weighting techniques we used above would ignore these people. How would you adjust your procedures/estimates above to take them into account? Especially convincing would be plots/calculations on what would happen under hypothetical data. Answer in at most 3 sentences."
   ]
  },
  {
   "cell_type": "markdown",
   "metadata": {
    "pycharm": {
     "name": "#%% md\n"
    }
   },
   "source": [
    "Instead of filtering out the \"refused\" responses by weighting them as 0 as I did earlier, we should create a weight dependent on which metric was refused because people will refuse metrics for different reasons.\n",
    "(I filtered the data and found that people only refused party, race, or education)."
   ]
  },
  {
   "cell_type": "code",
   "execution_count": 35,
   "metadata": {
    "pycharm": {
     "name": "#%%\n"
    }
   },
   "outputs": [
    {
     "data": {
      "text/html": [
       "<div>\n",
       "<style scoped>\n",
       "    .dataframe tbody tr th:only-of-type {\n",
       "        vertical-align: middle;\n",
       "    }\n",
       "\n",
       "    .dataframe tbody tr th {\n",
       "        vertical-align: top;\n",
       "    }\n",
       "\n",
       "    .dataframe thead th {\n",
       "        text-align: right;\n",
       "    }\n",
       "</style>\n",
       "<table border=\"1\" class=\"dataframe\">\n",
       "  <thead>\n",
       "    <tr style=\"text-align: right;\">\n",
       "      <th></th>\n",
       "      <th>education</th>\n",
       "      <th>age</th>\n",
       "      <th>count</th>\n",
       "    </tr>\n",
       "  </thead>\n",
       "  <tbody>\n",
       "    <tr>\n",
       "      <th>0</th>\n",
       "      <td>College</td>\n",
       "      <td>18-29</td>\n",
       "      <td>70</td>\n",
       "    </tr>\n",
       "    <tr>\n",
       "      <th>1</th>\n",
       "      <td>College</td>\n",
       "      <td>30-44</td>\n",
       "      <td>89</td>\n",
       "    </tr>\n",
       "    <tr>\n",
       "      <th>2</th>\n",
       "      <td>College</td>\n",
       "      <td>45-64</td>\n",
       "      <td>114</td>\n",
       "    </tr>\n",
       "    <tr>\n",
       "      <th>3</th>\n",
       "      <td>College</td>\n",
       "      <td>65+</td>\n",
       "      <td>105</td>\n",
       "    </tr>\n",
       "    <tr>\n",
       "      <th>4</th>\n",
       "      <td>High School</td>\n",
       "      <td>18-29</td>\n",
       "      <td>46</td>\n",
       "    </tr>\n",
       "    <tr>\n",
       "      <th>5</th>\n",
       "      <td>High School</td>\n",
       "      <td>30-44</td>\n",
       "      <td>17</td>\n",
       "    </tr>\n",
       "    <tr>\n",
       "      <th>6</th>\n",
       "      <td>High School</td>\n",
       "      <td>45-64</td>\n",
       "      <td>57</td>\n",
       "    </tr>\n",
       "    <tr>\n",
       "      <th>7</th>\n",
       "      <td>High School</td>\n",
       "      <td>65+</td>\n",
       "      <td>51</td>\n",
       "    </tr>\n",
       "    <tr>\n",
       "      <th>8</th>\n",
       "      <td>Refused</td>\n",
       "      <td>30-44</td>\n",
       "      <td>4</td>\n",
       "    </tr>\n",
       "    <tr>\n",
       "      <th>9</th>\n",
       "      <td>Refused</td>\n",
       "      <td>45-64</td>\n",
       "      <td>6</td>\n",
       "    </tr>\n",
       "    <tr>\n",
       "      <th>10</th>\n",
       "      <td>Refused</td>\n",
       "      <td>65+</td>\n",
       "      <td>2</td>\n",
       "    </tr>\n",
       "    <tr>\n",
       "      <th>11</th>\n",
       "      <td>Some College</td>\n",
       "      <td>18-29</td>\n",
       "      <td>77</td>\n",
       "    </tr>\n",
       "    <tr>\n",
       "      <th>12</th>\n",
       "      <td>Some College</td>\n",
       "      <td>30-44</td>\n",
       "      <td>58</td>\n",
       "    </tr>\n",
       "    <tr>\n",
       "      <th>13</th>\n",
       "      <td>Some College</td>\n",
       "      <td>45-64</td>\n",
       "      <td>86</td>\n",
       "    </tr>\n",
       "    <tr>\n",
       "      <th>14</th>\n",
       "      <td>Some College</td>\n",
       "      <td>65+</td>\n",
       "      <td>85</td>\n",
       "    </tr>\n",
       "  </tbody>\n",
       "</table>\n",
       "</div>"
      ],
      "text/plain": [
       "       education    age  count\n",
       "0        College  18-29     70\n",
       "1        College  30-44     89\n",
       "2        College  45-64    114\n",
       "3        College    65+    105\n",
       "4    High School  18-29     46\n",
       "5    High School  30-44     17\n",
       "6    High School  45-64     57\n",
       "7    High School    65+     51\n",
       "8        Refused  30-44      4\n",
       "9        Refused  45-64      6\n",
       "10       Refused    65+      2\n",
       "11  Some College  18-29     77\n",
       "12  Some College  30-44     58\n",
       "13  Some College  45-64     86\n",
       "14  Some College    65+     85"
      ]
     },
     "execution_count": 35,
     "metadata": {},
     "output_type": "execute_result"
    }
   ],
   "source": [
    "dfpoll.groupby(['education','age'])['education'].count().reset_index(name ='count')"
   ]
  },
  {
   "cell_type": "code",
   "execution_count": 36,
   "metadata": {
    "pycharm": {
     "name": "#%%\n"
    }
   },
   "outputs": [
    {
     "data": {
      "text/html": [
       "<div>\n",
       "<style scoped>\n",
       "    .dataframe tbody tr th:only-of-type {\n",
       "        vertical-align: middle;\n",
       "    }\n",
       "\n",
       "    .dataframe tbody tr th {\n",
       "        vertical-align: top;\n",
       "    }\n",
       "\n",
       "    .dataframe thead th {\n",
       "        text-align: right;\n",
       "    }\n",
       "</style>\n",
       "<table border=\"1\" class=\"dataframe\">\n",
       "  <thead>\n",
       "    <tr style=\"text-align: right;\">\n",
       "      <th></th>\n",
       "      <th>candidate</th>\n",
       "      <th>party_refused</th>\n",
       "    </tr>\n",
       "  </thead>\n",
       "  <tbody>\n",
       "    <tr>\n",
       "      <th>0</th>\n",
       "      <td>Do not know</td>\n",
       "      <td>7</td>\n",
       "    </tr>\n",
       "    <tr>\n",
       "      <th>1</th>\n",
       "      <td>Donald Trump</td>\n",
       "      <td>1</td>\n",
       "    </tr>\n",
       "    <tr>\n",
       "      <th>2</th>\n",
       "      <td>Hillary Clinton</td>\n",
       "      <td>8</td>\n",
       "    </tr>\n",
       "    <tr>\n",
       "      <th>3</th>\n",
       "      <td>Will not vote</td>\n",
       "      <td>2</td>\n",
       "    </tr>\n",
       "  </tbody>\n",
       "</table>\n",
       "</div>"
      ],
      "text/plain": [
       "         candidate  party_refused\n",
       "0      Do not know              7\n",
       "1     Donald Trump              1\n",
       "2  Hillary Clinton              8\n",
       "3    Will not vote              2"
      ]
     },
     "execution_count": 36,
     "metadata": {},
     "output_type": "execute_result"
    }
   ],
   "source": [
    "dfpoll[dfpoll['party'] == 'Refused'].groupby(['candidate'])['candidate'].count().reset_index(name ='party_refused')"
   ]
  },
  {
   "cell_type": "code",
   "execution_count": 37,
   "metadata": {
    "pycharm": {
     "name": "#%%\n"
    }
   },
   "outputs": [
    {
     "data": {
      "text/html": [
       "<div>\n",
       "<style scoped>\n",
       "    .dataframe tbody tr th:only-of-type {\n",
       "        vertical-align: middle;\n",
       "    }\n",
       "\n",
       "    .dataframe tbody tr th {\n",
       "        vertical-align: top;\n",
       "    }\n",
       "\n",
       "    .dataframe thead th {\n",
       "        text-align: right;\n",
       "    }\n",
       "</style>\n",
       "<table border=\"1\" class=\"dataframe\">\n",
       "  <thead>\n",
       "    <tr style=\"text-align: right;\">\n",
       "      <th></th>\n",
       "      <th>candidate</th>\n",
       "      <th>race_refused</th>\n",
       "    </tr>\n",
       "  </thead>\n",
       "  <tbody>\n",
       "    <tr>\n",
       "      <th>0</th>\n",
       "      <td>Do not know</td>\n",
       "      <td>7</td>\n",
       "    </tr>\n",
       "    <tr>\n",
       "      <th>1</th>\n",
       "      <td>Donald Trump</td>\n",
       "      <td>10</td>\n",
       "    </tr>\n",
       "    <tr>\n",
       "      <th>2</th>\n",
       "      <td>Hillary Clinton</td>\n",
       "      <td>7</td>\n",
       "    </tr>\n",
       "    <tr>\n",
       "      <th>3</th>\n",
       "      <td>Someone else</td>\n",
       "      <td>1</td>\n",
       "    </tr>\n",
       "    <tr>\n",
       "      <th>4</th>\n",
       "      <td>Will not vote</td>\n",
       "      <td>3</td>\n",
       "    </tr>\n",
       "  </tbody>\n",
       "</table>\n",
       "</div>"
      ],
      "text/plain": [
       "         candidate  race_refused\n",
       "0      Do not know             7\n",
       "1     Donald Trump            10\n",
       "2  Hillary Clinton             7\n",
       "3     Someone else             1\n",
       "4    Will not vote             3"
      ]
     },
     "execution_count": 37,
     "metadata": {},
     "output_type": "execute_result"
    }
   ],
   "source": [
    "dfpoll[dfpoll['race'] == 'Refused'].groupby(['candidate'])['candidate'].count().reset_index(name ='race_refused')"
   ]
  },
  {
   "cell_type": "code",
   "execution_count": 38,
   "metadata": {
    "pycharm": {
     "name": "#%%\n"
    }
   },
   "outputs": [
    {
     "data": {
      "text/html": [
       "<div>\n",
       "<style scoped>\n",
       "    .dataframe tbody tr th:only-of-type {\n",
       "        vertical-align: middle;\n",
       "    }\n",
       "\n",
       "    .dataframe tbody tr th {\n",
       "        vertical-align: top;\n",
       "    }\n",
       "\n",
       "    .dataframe thead th {\n",
       "        text-align: right;\n",
       "    }\n",
       "</style>\n",
       "<table border=\"1\" class=\"dataframe\">\n",
       "  <thead>\n",
       "    <tr style=\"text-align: right;\">\n",
       "      <th></th>\n",
       "      <th>candidate</th>\n",
       "      <th>edu_refused</th>\n",
       "    </tr>\n",
       "  </thead>\n",
       "  <tbody>\n",
       "    <tr>\n",
       "      <th>0</th>\n",
       "      <td>Do not know</td>\n",
       "      <td>5</td>\n",
       "    </tr>\n",
       "    <tr>\n",
       "      <th>1</th>\n",
       "      <td>Donald Trump</td>\n",
       "      <td>3</td>\n",
       "    </tr>\n",
       "    <tr>\n",
       "      <th>2</th>\n",
       "      <td>Hillary Clinton</td>\n",
       "      <td>2</td>\n",
       "    </tr>\n",
       "    <tr>\n",
       "      <th>3</th>\n",
       "      <td>Someone else</td>\n",
       "      <td>1</td>\n",
       "    </tr>\n",
       "    <tr>\n",
       "      <th>4</th>\n",
       "      <td>Will not vote</td>\n",
       "      <td>1</td>\n",
       "    </tr>\n",
       "  </tbody>\n",
       "</table>\n",
       "</div>"
      ],
      "text/plain": [
       "         candidate  edu_refused\n",
       "0      Do not know            5\n",
       "1     Donald Trump            3\n",
       "2  Hillary Clinton            2\n",
       "3     Someone else            1\n",
       "4    Will not vote            1"
      ]
     },
     "execution_count": 38,
     "metadata": {},
     "output_type": "execute_result"
    }
   ],
   "source": [
    "dfpoll[dfpoll['education'] == 'Refused'].groupby(['candidate'])['candidate'].count().reset_index(name ='edu_refused')"
   ]
  },
  {
   "cell_type": "markdown",
   "metadata": {
    "pycharm": {
     "name": "#%% md\n"
    }
   },
   "source": [
    "We see that those that refused party have a much higher tendency to vote Hillary -\n",
    "those that refused race have a high tendency to vote Trump, but also are quite unsure -\n",
    "those that refused education are more likely are very unsure.\n",
    "I can also postulate that people that write \"refused\" on a poll have a differential non-response rate -\n",
    "thus, I would propose to increase the weighting of each \"refused section\" until the demographic type matches the demographic information we have."
   ]
  },
  {
   "cell_type": "markdown",
   "metadata": {},
   "source": [
    "<font color='blue'> None of the above techniques deal with selection biases/non-response on _un-measured_ covariates. Do you think that may be an important concern in this dataset? Why or why not? Respond in 3 or fewer sentences."
   ]
  },
  {
   "cell_type": "markdown",
   "metadata": {
    "pycharm": {
     "name": "#%% md\n"
    }
   },
   "source": [
    "There is absolutely some concern for unobserved variables because of the complexity of national elections.\n",
    "A number of variables, not necessarily related to demographics, could be critical and are not measured in this data set.\n",
    "Things like where and when the survey was posted, or even the type of questions asked, could all influence differential response rates."
   ]
  },
  {
   "cell_type": "markdown",
   "metadata": {},
   "source": [
    "### 2) Final estimates"
   ]
  },
  {
   "cell_type": "markdown",
   "metadata": {},
   "source": [
    "<font color='blue'> Throughout this homework, you made many estimates of the same quantity -- the fraction of people who will vote for Clinton in Florida. Below, plot a histogram of all your estimates."
   ]
  },
  {
   "cell_type": "code",
   "execution_count": 39,
   "metadata": {},
   "outputs": [],
   "source": [
    "series = pd.melt(weighted_marginal_grouped[['M_Hillary','Compare_given']])['value'].tolist()"
   ]
  },
  {
   "cell_type": "code",
   "execution_count": 40,
   "metadata": {
    "pycharm": {
     "name": "#%%\n"
    }
   },
   "outputs": [],
   "source": [
    "series.extend(one_d1_weighted)"
   ]
  },
  {
   "cell_type": "code",
   "execution_count": 41,
   "metadata": {
    "pycharm": {
     "name": "#%%\n"
    }
   },
   "outputs": [
    {
     "data": {
      "text/plain": [
       "[0.5188439806182912,\n",
       " 0.42063970842870785,\n",
       " 0.525514772314327,\n",
       " 0.5519046932616885,\n",
       " 0.4443122877636387,\n",
       " 0.5207096063610529,\n",
       " 0.5449027920893634,\n",
       " 0.5492896058862125,\n",
       " 0.4290033722095565,\n",
       " 0.4355644439145237,\n",
       " 0.5213227060036337,\n",
       " 0.41913944623294813,\n",
       " 0.5250836641084956,\n",
       " 0.5512130790515796,\n",
       " 0.44279948617279574,\n",
       " 0.5146163883971423,\n",
       " 0.536059664685837,\n",
       " 0.5515500294636898,\n",
       " 0.38454850400471596,\n",
       " 0.43837210597362736,\n",
       " 0.518554407848732,\n",
       " 0.5513711899050441,\n",
       " 0.5449174164088921,\n",
       " 0.4378478975967778,\n",
       " 0.5464682164873779,\n",
       " 0.5458333333333333]"
      ]
     },
     "execution_count": 41,
     "metadata": {},
     "output_type": "execute_result"
    }
   ],
   "source": [
    "series.append(hillary_poll)\n",
    "series"
   ]
  },
  {
   "cell_type": "code",
   "execution_count": 42,
   "metadata": {
    "pycharm": {
     "name": "#%%\n"
    }
   },
   "outputs": [
    {
     "data": {
      "text/plain": [
       "<AxesSubplot:ylabel='Count'>"
      ]
     },
     "execution_count": 42,
     "metadata": {},
     "output_type": "execute_result"
    },
    {
     "data": {
      "image/png": "[encoded data removed]",
      "text/plain": [
       "<Figure size 432x288 with 1 Axes>"
      ]
     },
     "metadata": {
      "needs_background": "light"
     },
     "output_type": "display_data"
    }
   ],
   "source": [
    "sns.histplot(series, bins = 30)"
   ]
  },
  {
   "cell_type": "markdown",
   "metadata": {},
   "source": [
    "<font color='blue'> Given all your above analysis, if you were a pollster what would you report as your single estimate? "
   ]
  },
  {
   "cell_type": "markdown",
   "metadata": {
    "pycharm": {
     "name": "#%% md\n"
    }
   },
   "source": [
    "I would use some average or weighted average of the joint weighted poll results."
   ]
  },
  {
   "cell_type": "code",
   "execution_count": 43,
   "metadata": {
    "pycharm": {
     "name": "#%%\n"
    }
   },
   "outputs": [
    {
     "data": {
      "text/plain": [
       "0.48847050740944653"
      ]
     },
     "execution_count": 43,
     "metadata": {},
     "output_type": "execute_result"
    }
   ],
   "source": [
    "weighted_marginal_grouped['Compare_given'].mean()"
   ]
  },
  {
   "cell_type": "markdown",
   "metadata": {},
   "source": [
    "<font color='blue'> Justify your choice, in at most 3 sentences"
   ]
  },
  {
   "cell_type": "markdown",
   "metadata": {
    "pycharm": {
     "name": "#%% md\n"
    }
   },
   "source": [
    "We know from our analysis that single variable weighting is quite insufficient and does not show the true story.\n",
    "This seems like the most accurate method we have at the moment of weighting, thus there is no need to mix in other methods.\n",
    "It's also extremely close to the actual Florida 2016 results of 49% Hillary proportion out of the top 2 candidates."
   ]
  },
  {
   "cell_type": "markdown",
   "metadata": {},
   "source": [
    "<font color='blue'> Though we did not discuss how to calculate margin of error or standard errors with weighting in this course, what would you say if someone asked you how confident you are in your estimate? You may either qualitatively answer, or try to come up with a margin of error.  "
   ]
  },
  {
   "cell_type": "markdown",
   "metadata": {
    "pycharm": {
     "name": "#%% md\n"
    }
   },
   "source": [
    "I don't think it's extremely accurate (certainly not to the nearest percent) because of how small the sample size was with less than 1000 pieces of data.\n",
    "Out of about a 10,000,000 real world turnout, this is a very small number that can be drastically affected by \"rogue covariates\" that we can't account for such as regionality, seasonality, or the news.\n",
    "The uncertainty would be more on the range of 2-3%."
   ]
  },
  {
   "cell_type": "code",
   "execution_count": 44,
   "metadata": {
    "pycharm": {
     "name": "#%%\n"
    }
   },
   "outputs": [
    {
     "data": {
      "text/plain": [
       "<module 'nbconvert' from 'C:\\\\Users\\\\marti\\\\anaconda3\\\\lib\\\\site-packages\\\\nbconvert\\\\__init__.py'>"
      ]
     },
     "execution_count": 44,
     "metadata": {},
     "output_type": "execute_result"
    }
   ],
   "source": [
    "import nbconvert\n",
    "nbconvert"
   ]
  }
 ],
 "metadata": {
  "kernelspec": {
   "display_name": "Python 3",
   "language": "python",
   "name": "python3"
  },
  "language_info": {
   "codemirror_mode": {
    "name": "ipython",
    "version": 3
   },
   "file_extension": ".py",
   "mimetype": "text/x-python",
   "name": "python",
   "nbconvert_exporter": "python",
   "pygments_lexer": "ipython3",
   "version": "3.8.8"
  },
  "varInspector": {
   "cols": {
    "lenName": 16,
    "lenType": 16,
    "lenVar": 40
   },
   "kernels_config": {
    "python": {
     "delete_cmd_postfix": "",
     "delete_cmd_prefix": "del ",
     "library": "var_list.py",
     "varRefreshCmd": "print(var_dic_list())"
    },
    "r": {
     "delete_cmd_postfix": ") ",
     "delete_cmd_prefix": "rm(",
     "library": "var_list.r",
     "varRefreshCmd": "cat(var_dic_list()) "
    }
   },
   "types_to_exclude": [
    "module",
    "function",
    "builtin_function_or_method",
    "instance",
    "_Feature"
   ],
   "window_display": false
  }
 },
 "nbformat": 4,
 "nbformat_minor": 2
}