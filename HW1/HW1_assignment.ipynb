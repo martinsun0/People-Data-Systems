{
 "cells": [
  {
   "cell_type": "markdown",
   "metadata": {},
   "source": [
    "# ORIE 5355/INFO 5370 HW 1: Survey Weighting"
   ]
  },
  {
   "cell_type": "markdown",
   "metadata": {},
   "source": [
    " - Name: Martin Sun\n",
    " - Net-id: ms2923\n",
    " - Date: 2021-09-18\n",
    " - Late days used for this assignment:\n",
    " - Total late days used (counting this assignment):\n",
    " - People with whom you discussed this assignment: "
   ]
  },
  {
   "cell_type": "markdown",
   "metadata": {
    "ExecuteTime": {
     "end_time": "2021-09-01T19:23:05.646804Z",
     "start_time": "2021-09-01T19:23:05.610804Z"
    }
   },
   "source": [
    "After you finish the homework, please complete the following (short, anonymous) post-homework survey: https://forms.gle/spVRAkxcqcDuxkuY6"
   ]
  },
  {
   "cell_type": "markdown",
   "metadata": {},
   "source": [
    "We have marked questions in <font color='blue'> blue </font>. Please put answers in black (do not change colors). You'll want to write text answers in \"markdown\" mode instead of code. In Jupyter notebook, you can go to Cell > Cell Type > Markdown, from the menu. Please carefully read the late days policy and grading procedure [here](https://orie5355.github.io/Fall_2021/assignments/). "
   ]
  },
  {
   "cell_type": "markdown",
   "metadata": {},
   "source": [
    "# Conceptual component"
   ]
  },
  {
   "cell_type": "markdown",
   "metadata": {},
   "source": [
    "### 1) Reading"
   ]
  },
  {
   "cell_type": "markdown",
   "metadata": {},
   "source": [
    "<font color='blue'> Please read Sections 3 and 4 (pages 6-13) here: https://www.nber.org/system/files/working_papers/w20830/w20830.pdf, and answer the following questions."
   ]
  },
  {
   "cell_type": "markdown",
   "metadata": {},
   "source": [
    "<font color='blue'> Please summarize the sections in no more than two sentences. "
   ]
  },
  {
   "cell_type": "markdown",
   "metadata": {
    "pycharm": {
     "name": "#%% md\n"
    }
   },
   "source": [
    "Section 3 discusses Ebay's seller metrics and asserts that the \"percent positive\" and \"feedback score\" measures are inadequate due to susceptibility to biases and highly skewed, non-differentiable data.\n",
    "The author suggests a new metric, EPP, to capture \"unobserved\" seller quality and to corroborate this, the purchasing behaviour of about a million buyers were sampled and analyzed."
   ]
  },
  {
   "cell_type": "markdown",
   "metadata": {},
   "source": [
    "<font color='blue'> Do you think it's a problem that most ratings are positive? If so, why? Answer in no more than three sentences. Please incorporate concepts discussed in class in your answer. "
   ]
  },
  {
   "cell_type": "markdown",
   "metadata": {
    "pycharm": {
     "name": "#%% md\n"
    }
   },
   "source": [
    "It becomes a problem when the fraction of highly positive ratings becomes very close to 100%, primarily because it detracts from the whole purpose of a seller rating - to differentiate good and bad sellers.\n",
    "It can also be a sign of measurement error caused by differential non-response because dissatisfied customers may be less inclined to comment at all on their experience, and simply select another seller the next time. Explicit and implicit pressure can also be reflected by highly skewed rating distributions."
   ]
  },
  {
   "cell_type": "markdown",
   "metadata": {},
   "source": [
    "### 2) Personal reflection"
   ]
  },
  {
   "cell_type": "markdown",
   "metadata": {},
   "source": [
    "<font color='blue'> Think back to a time that you trained a model on data from people or gathered opinions via a survey (an informal one is fine). If you have not done that before, you may answer these questions about an article in the news that reported on public opinions or a model that you think might be in deployment at a company or organization with which you interact (for example, Amazon, google maps, etc)"
   ]
  },
  {
   "cell_type": "markdown",
   "metadata": {},
   "source": [
    "<font color='blue'> Briefly summarize the scenario in no more than two sentences. "
   ]
  },
  {
   "cell_type": "markdown",
   "metadata": {
    "pycharm": {
     "name": "#%% md\n"
    }
   },
   "source": [
    "During undergrad, I surveyed fellow students about how they felt about their screen time and increased electronics usage especially during the pandemic."
   ]
  },
  {
   "cell_type": "markdown",
   "metadata": {},
   "source": [
    "<font color='blue'> What was the construct that you cared about/wanted to measure? What was the measurement (numerical data)? In what ways did the measurement not match the construct you cared about? Answer in no more than 4 sentences.  "
   ]
  },
  {
   "cell_type": "markdown",
   "metadata": {
    "pycharm": {
     "name": "#%% md\n"
    }
   },
   "source": [
    "I wanted to determine what a college student would do about their unhealthy screen time and lack of physical activity (when applicable).\n",
    "The numerical data was relative percentages of different response groups.\n",
    "I was looking to answer whether college students would be willing to purchase a product to help their situation. Unfortunately, I did not receive much useful insight at all because the large majority of responses answered \"not concerned\" about their habits.\n"
   ]
  },
  {
   "cell_type": "markdown",
   "metadata": {},
   "source": [
    "<font color='blue'> What selection biases/differential non-response issues occurred and how did it affect your measurement? (If your answer is \"None,\" explain exactly why you believe the assumptions discussed in class were met). Answer in no more than 3 sentences. "
   ]
  },
  {
   "cell_type": "markdown",
   "metadata": {
    "pycharm": {
     "name": "#%% md\n"
    }
   },
   "source": [
    "There is absolutely some social pressure, even though the survey was anonymous, to appear more sociable and less \"nerdy\" in a sense, which creates a bias in the measurement.\n",
    "On the other hand, those that are more busy with screen usage are more likely to see the survey and respond to it, creating a differential non-response issue.\n",
    "My data however, pointed towards to first effect."
   ]
  },
  {
   "cell_type": "markdown",
   "metadata": {},
   "source": [
    "<font color='blue'> Given what we have learned in class so far, what would you do differently if faced with the same scenario again? Answer in no more than 3 sentences. "
   ]
  },
  {
   "cell_type": "markdown",
   "metadata": {
    "pycharm": {
     "name": "#%% md\n"
    }
   },
   "source": [
    "I would ask for more quantitative information because it requires less judgement and thinking from the person being surveyed - to me, it appeared that my biggest problem was that the questions were too qualitative.\n",
    "To combat the selection biases I mentioned, I could survey different programs as separate groups, and conduct constant stratification sampling of the two main groups of students until I achieved parity.\n",
    "With that being said, it is difficult to know the actual population distribution of these two student groups and so I would need to perform a detailed estimate of the population and quantify the uncertainty."
   ]
  },
  {
   "cell_type": "markdown",
   "metadata": {},
   "source": [
    "# Programming component"
   ]
  },
  {
   "cell_type": "markdown",
   "metadata": {},
   "source": [
    "<font color='blue'> In this part of the homework, we provide you with data from a poll in Florida before the 2016 Presidential election in the United States. We also provide you with (one pollster's) estimates of who will vote in the 2016 election, made before the election. You will use this data and apply the weighting techniques covered in class."
   ]
  },
  {
   "cell_type": "markdown",
   "metadata": {},
   "source": [
    "## Preliminaries to load packages and data"
   ]
  },
  {
   "cell_type": "code",
   "execution_count": 531,
   "metadata": {
    "ExecuteTime": {
     "end_time": "2021-09-01T20:57:32.311779Z",
     "start_time": "2021-09-01T20:57:32.270775Z"
    }
   },
   "outputs": [],
   "source": [
    "import pandas as pd\n",
    "import numpy as np\n",
    "import seaborn as sns\n",
    "import matplotlib.pyplot as plt"
   ]
  },
  {
   "cell_type": "code",
   "execution_count": 532,
   "metadata": {
    "ExecuteTime": {
     "end_time": "2021-09-01T20:57:32.581776Z",
     "start_time": "2021-09-01T20:57:32.454782Z"
    }
   },
   "outputs": [
    {
     "data": {
      "text/plain": "         candidate    age  gender        party      race    education\n0     Someone else  30-44    Male  Independent     White      College\n1  Hillary Clinton  45-64    Male   Republican  Hispanic      College\n2  Hillary Clinton  30-44    Male  Independent  Hispanic      College\n3  Hillary Clinton    65+  Female     Democrat     White      College\n4     Donald Trump    65+  Female   Republican     White  High School",
      "text/html": "<div>\n<style scoped>\n    .dataframe tbody tr th:only-of-type {\n        vertical-align: middle;\n    }\n\n    .dataframe tbody tr th {\n        vertical-align: top;\n    }\n\n    .dataframe thead th {\n        text-align: right;\n    }\n</style>\n<table border=\"1\" class=\"dataframe\">\n  <thead>\n    <tr style=\"text-align: right;\">\n      <th></th>\n      <th>candidate</th>\n      <th>age</th>\n      <th>gender</th>\n      <th>party</th>\n      <th>race</th>\n      <th>education</th>\n    </tr>\n  </thead>\n  <tbody>\n    <tr>\n      <th>0</th>\n      <td>Someone else</td>\n      <td>30-44</td>\n      <td>Male</td>\n      <td>Independent</td>\n      <td>White</td>\n      <td>College</td>\n    </tr>\n    <tr>\n      <th>1</th>\n      <td>Hillary Clinton</td>\n      <td>45-64</td>\n      <td>Male</td>\n      <td>Republican</td>\n      <td>Hispanic</td>\n      <td>College</td>\n    </tr>\n    <tr>\n      <th>2</th>\n      <td>Hillary Clinton</td>\n      <td>30-44</td>\n      <td>Male</td>\n      <td>Independent</td>\n      <td>Hispanic</td>\n      <td>College</td>\n    </tr>\n    <tr>\n      <th>3</th>\n      <td>Hillary Clinton</td>\n      <td>65+</td>\n      <td>Female</td>\n      <td>Democrat</td>\n      <td>White</td>\n      <td>College</td>\n    </tr>\n    <tr>\n      <th>4</th>\n      <td>Donald Trump</td>\n      <td>65+</td>\n      <td>Female</td>\n      <td>Republican</td>\n      <td>White</td>\n      <td>High School</td>\n    </tr>\n  </tbody>\n</table>\n</div>"
     },
     "execution_count": 532,
     "metadata": {},
     "output_type": "execute_result"
    }
   ],
   "source": [
    "dfpoll = pd.read_csv('polling_data_hw1.csv') # raw polling data\n",
    "dfpoll.head()"
   ]
  },
  {
   "cell_type": "code",
   "execution_count": 533,
   "metadata": {
    "ExecuteTime": {
     "end_time": "2021-09-01T20:57:32.658773Z",
     "start_time": "2021-09-01T20:57:32.605777Z"
    }
   },
   "outputs": [
    {
     "data": {
      "text/plain": "   Electoral_Proportion Demographic_Type_1 Demographic_Type_2 Demographic_1  \\\n0              0.387927              party                NaN      Democrat   \n1              0.398788              party                NaN    Republican   \n2              0.213285              party                NaN   Independent   \n3              0.445928             gender                NaN          Male   \n4              0.554072             gender                NaN        Female   \n\n  Demographic_2  \n0           NaN  \n1           NaN  \n2           NaN  \n3           NaN  \n4           NaN  ",
      "text/html": "<div>\n<style scoped>\n    .dataframe tbody tr th:only-of-type {\n        vertical-align: middle;\n    }\n\n    .dataframe tbody tr th {\n        vertical-align: top;\n    }\n\n    .dataframe thead th {\n        text-align: right;\n    }\n</style>\n<table border=\"1\" class=\"dataframe\">\n  <thead>\n    <tr style=\"text-align: right;\">\n      <th></th>\n      <th>Electoral_Proportion</th>\n      <th>Demographic_Type_1</th>\n      <th>Demographic_Type_2</th>\n      <th>Demographic_1</th>\n      <th>Demographic_2</th>\n    </tr>\n  </thead>\n  <tbody>\n    <tr>\n      <th>0</th>\n      <td>0.387927</td>\n      <td>party</td>\n      <td>NaN</td>\n      <td>Democrat</td>\n      <td>NaN</td>\n    </tr>\n    <tr>\n      <th>1</th>\n      <td>0.398788</td>\n      <td>party</td>\n      <td>NaN</td>\n      <td>Republican</td>\n      <td>NaN</td>\n    </tr>\n    <tr>\n      <th>2</th>\n      <td>0.213285</td>\n      <td>party</td>\n      <td>NaN</td>\n      <td>Independent</td>\n      <td>NaN</td>\n    </tr>\n    <tr>\n      <th>3</th>\n      <td>0.445928</td>\n      <td>gender</td>\n      <td>NaN</td>\n      <td>Male</td>\n      <td>NaN</td>\n    </tr>\n    <tr>\n      <th>4</th>\n      <td>0.554072</td>\n      <td>gender</td>\n      <td>NaN</td>\n      <td>Female</td>\n      <td>NaN</td>\n    </tr>\n  </tbody>\n</table>\n</div>"
     },
     "execution_count": 533,
     "metadata": {},
     "output_type": "execute_result"
    }
   ],
   "source": [
    "dfdemographic = pd.read_csv('florida_proportions_hw1.csv') # proportions of population\n",
    "dfdemographic.head()"
   ]
  },
  {
   "cell_type": "markdown",
   "metadata": {},
   "source": [
    "dfdemographic contains estimates of likely voters in Florida in 2016. When Demographic_Type_2 is NaN, the row refers to just the marginal population percentage of the group in Demographic_1 of type Demographic_Type_1. When it is not NaN, the row has the joint distribution of the corresponding demographic groups."
   ]
  },
  {
   "cell_type": "markdown",
   "metadata": {},
   "source": [
    "## Part A: Raw visualization"
   ]
  },
  {
   "cell_type": "markdown",
   "metadata": {},
   "source": [
    "<font color='blue'> Here, we'll visualize whether the respondents in the poll match the likely voter estimates. Create a scatter-plot where each point represents one Demographic group (for example, party-Independent), where the X axis is the Electoral_Proportion in dfdemographic, and the Y axis is the proportion in dfpoll. "
   ]
  },
  {
   "cell_type": "code",
   "execution_count": 534,
   "metadata": {},
   "outputs": [],
   "source": [
    "total = len(dfpoll)"
   ]
  },
  {
   "cell_type": "code",
   "execution_count": 535,
   "outputs": [
    {
     "name": "stderr",
     "output_type": "stream",
     "text": [
      "C:\\Users\\marti\\AppData\\Local\\Temp/ipykernel_34992/1053968560.py:10: SettingWithCopyWarning: \n",
      "A value is trying to be set on a copy of a slice from a DataFrame\n",
      "\n",
      "See the caveats in the documentation: https://pandas.pydata.org/pandas-docs/stable/user_guide/indexing.html#returning-a-view-versus-a-copy\n",
      "  dfdemographic.Poll_Proportion[index] = percentage\n",
      "C:\\Users\\marti\\AppData\\Local\\Temp/ipykernel_34992/1053968560.py:16: SettingWithCopyWarning: \n",
      "A value is trying to be set on a copy of a slice from a DataFrame\n",
      "\n",
      "See the caveats in the documentation: https://pandas.pydata.org/pandas-docs/stable/user_guide/indexing.html#returning-a-view-versus-a-copy\n",
      "  dfdemographic.Poll_Proportion[index] = percentage\n"
     ]
    },
    {
     "data": {
      "text/plain": "     Electoral_Proportion Poll_Proportion Demographic_Type_1  \\\n0                0.387927        0.358708              party   \n1                0.398788        0.272203              party   \n2                0.213285        0.348328              party   \n3                0.445928        0.491349             gender   \n4                0.554072        0.508651             gender   \n..                    ...             ...                ...   \n112              0.034216        0.068051               race   \n113              0.027588        0.084198               race   \n114              0.010929         0.00692               race   \n115              0.010570        0.014994               race   \n116              0.015142        0.023068               race   \n\n    Demographic_Type_2 Demographic_1 Demographic_2  \n0                  NaN      Democrat           NaN  \n1                  NaN    Republican           NaN  \n2                  NaN   Independent           NaN  \n3                  NaN          Male           NaN  \n4                  NaN        Female           NaN  \n..                 ...           ...           ...  \n112          education      Hispanic  Some College  \n113          education      Hispanic       College  \n114          education         Other   High School  \n115          education         Other  Some College  \n116          education         Other       College  \n\n[117 rows x 6 columns]",
      "text/html": "<div>\n<style scoped>\n    .dataframe tbody tr th:only-of-type {\n        vertical-align: middle;\n    }\n\n    .dataframe tbody tr th {\n        vertical-align: top;\n    }\n\n    .dataframe thead th {\n        text-align: right;\n    }\n</style>\n<table border=\"1\" class=\"dataframe\">\n  <thead>\n    <tr style=\"text-align: right;\">\n      <th></th>\n      <th>Electoral_Proportion</th>\n      <th>Poll_Proportion</th>\n      <th>Demographic_Type_1</th>\n      <th>Demographic_Type_2</th>\n      <th>Demographic_1</th>\n      <th>Demographic_2</th>\n    </tr>\n  </thead>\n  <tbody>\n    <tr>\n      <th>0</th>\n      <td>0.387927</td>\n      <td>0.358708</td>\n      <td>party</td>\n      <td>NaN</td>\n      <td>Democrat</td>\n      <td>NaN</td>\n    </tr>\n    <tr>\n      <th>1</th>\n      <td>0.398788</td>\n      <td>0.272203</td>\n      <td>party</td>\n      <td>NaN</td>\n      <td>Republican</td>\n      <td>NaN</td>\n    </tr>\n    <tr>\n      <th>2</th>\n      <td>0.213285</td>\n      <td>0.348328</td>\n      <td>party</td>\n      <td>NaN</td>\n      <td>Independent</td>\n      <td>NaN</td>\n    </tr>\n    <tr>\n      <th>3</th>\n      <td>0.445928</td>\n      <td>0.491349</td>\n      <td>gender</td>\n      <td>NaN</td>\n      <td>Male</td>\n      <td>NaN</td>\n    </tr>\n    <tr>\n      <th>4</th>\n      <td>0.554072</td>\n      <td>0.508651</td>\n      <td>gender</td>\n      <td>NaN</td>\n      <td>Female</td>\n      <td>NaN</td>\n    </tr>\n    <tr>\n      <th>...</th>\n      <td>...</td>\n      <td>...</td>\n      <td>...</td>\n      <td>...</td>\n      <td>...</td>\n      <td>...</td>\n    </tr>\n    <tr>\n      <th>112</th>\n      <td>0.034216</td>\n      <td>0.068051</td>\n      <td>race</td>\n      <td>education</td>\n      <td>Hispanic</td>\n      <td>Some College</td>\n    </tr>\n    <tr>\n      <th>113</th>\n      <td>0.027588</td>\n      <td>0.084198</td>\n      <td>race</td>\n      <td>education</td>\n      <td>Hispanic</td>\n      <td>College</td>\n    </tr>\n    <tr>\n      <th>114</th>\n      <td>0.010929</td>\n      <td>0.00692</td>\n      <td>race</td>\n      <td>education</td>\n      <td>Other</td>\n      <td>High School</td>\n    </tr>\n    <tr>\n      <th>115</th>\n      <td>0.010570</td>\n      <td>0.014994</td>\n      <td>race</td>\n      <td>education</td>\n      <td>Other</td>\n      <td>Some College</td>\n    </tr>\n    <tr>\n      <th>116</th>\n      <td>0.015142</td>\n      <td>0.023068</td>\n      <td>race</td>\n      <td>education</td>\n      <td>Other</td>\n      <td>College</td>\n    </tr>\n  </tbody>\n</table>\n<p>117 rows × 6 columns</p>\n</div>"
     },
     "execution_count": 535,
     "metadata": {},
     "output_type": "execute_result"
    }
   ],
   "source": [
    "dfdemographic['Poll_Proportion'] = \"\"\n",
    "\n",
    "for index, row in dfdemographic.iterrows():\n",
    "    type_list = dfdemographic[['Demographic_Type_1', 'Demographic_Type_2']].iloc[index].values.tolist()\n",
    "    group_list = dfdemographic[['Demographic_1', 'Demographic_2']].iloc[index].values.tolist()\n",
    "    if pd.isna(type_list[1]):\n",
    "        df_group = dfpoll.groupby(type_list[0])[type_list[0]].count().reset_index(name ='count')\n",
    "        n = df_group[(df_group[type_list[0]] == group_list[0])]['count'].iloc[0]\n",
    "        percentage = n/total\n",
    "        dfdemographic.Poll_Proportion[index] = percentage\n",
    "    else:\n",
    "        df_group = dfpoll.groupby(type_list)[type_list[1]].count().reset_index(name ='count')\n",
    "        n = df_group[(df_group[type_list[0]] == group_list[0]) &\n",
    "                     (df_group[type_list[1]] == group_list[1])]['count'].iloc[0]\n",
    "        percentage = n/total\n",
    "        dfdemographic.Poll_Proportion[index] = percentage\n",
    "\n",
    "dfdemographic = dfdemographic.reindex(columns = ['Electoral_Proportion', 'Poll_Proportion',\n",
    "                                 'Demographic_Type_1', 'Demographic_Type_2',\n",
    "                                 'Demographic_1', 'Demographic_2'])\n",
    "dfdemographic"
   ],
   "metadata": {
    "collapsed": false,
    "pycharm": {
     "name": "#%%\n"
    }
   }
  },
  {
   "cell_type": "code",
   "execution_count": 536,
   "outputs": [
    {
     "name": "stderr",
     "output_type": "stream",
     "text": [
      "c:\\users\\marti\\pycharmprojects\\uncertainty-projects\\venv\\lib\\site-packages\\seaborn\\_decorators.py:36: FutureWarning: Pass the following variables as keyword args: x, y. From version 0.12, the only valid positional argument will be `data`, and passing other arguments without an explicit keyword will result in an error or misinterpretation.\n",
      "  warnings.warn(\n"
     ]
    },
    {
     "data": {
      "text/plain": "<Figure size 432x288 with 1 Axes>",
      "image/png": "[encoded data removed]"
     },
     "metadata": {
      "needs_background": "light"
     },
     "output_type": "display_data"
    }
   ],
   "source": [
    "plt1 = sns.scatterplot(dfdemographic.Electoral_Proportion,dfdemographic.Poll_Proportion)\n",
    "plt1.grid(True)\n",
    "plt1.set(xlim = [0, 0.8])\n",
    "plt1.set(ylim = [0, 0.7])\n",
    "plt1.set_aspect('equal')\n",
    "plt.plot([0, 10], [0, 10], ls=\"--\", c=\".3\")\n",
    "plt.savefig('PartA.svg')"
   ],
   "metadata": {
    "collapsed": false,
    "pycharm": {
     "name": "#%%\n"
    }
   }
  },
  {
   "cell_type": "code",
   "execution_count": 537,
   "outputs": [
    {
     "name": "stderr",
     "output_type": "stream",
     "text": [
      "c:\\users\\marti\\pycharmprojects\\uncertainty-projects\\venv\\lib\\site-packages\\seaborn\\_decorators.py:36: FutureWarning: Pass the following variables as keyword args: x, y. From version 0.12, the only valid positional argument will be `data`, and passing other arguments without an explicit keyword will result in an error or misinterpretation.\n",
      "  warnings.warn(\n"
     ]
    },
    {
     "data": {
      "text/plain": "<Figure size 432x288 with 1 Axes>",
      "image/png": "[encoded data removed]"
     },
     "metadata": {
      "needs_background": "light"
     },
     "output_type": "display_data"
    }
   ],
   "source": [
    "plt2 = sns.scatterplot(dfdemographic.Electoral_Proportion,dfdemographic.Poll_Proportion)\n",
    "plt2.grid(True)\n",
    "plt2.set(xlim = [0, 0.3])\n",
    "plt2.set(ylim = [0, 0.3])\n",
    "plt2.set_aspect('equal')\n",
    "plt.plot([0, 10], [0, 10], ls=\"--\", c=\".3\")\n",
    "plt.savefig('PartA-2.svg')"
   ],
   "metadata": {
    "collapsed": false,
    "pycharm": {
     "name": "#%%\n"
    }
   }
  },
  {
   "cell_type": "markdown",
   "source": [
    "<font color='blue'>Which group is most over-represented? Most under-represented?</font>"
   ],
   "metadata": {
    "collapsed": false
   }
  },
  {
   "cell_type": "code",
   "execution_count": 538,
   "metadata": {},
   "outputs": [
    {
     "data": {
      "text/plain": "     Electoral_Proportion Poll_Proportion Demographic_Type_1  \\\n102              0.153247        0.058824                age   \n49               0.137253        0.055363              party   \n96               0.048088        0.019608                age   \n105              0.235884        0.100346               race   \n99               0.139230        0.065744                age   \n..                    ...             ...                ...   \n80               0.006011        0.014994                age   \n30               0.034919        0.098039              party   \n113              0.027588        0.084198               race   \n95               0.023934        0.080738                age   \n79               0.020696        0.070358                age   \n\n    Demographic_Type_2 Demographic_1 Demographic_2 Representation  \n102          education           65+   High School       2.605195  \n49           education    Republican   High School       2.479136  \n96           education         30-44   High School       2.452499  \n105          education         White   High School       2.350702  \n99           education         45-64   High School       2.117763  \n..                 ...           ...           ...            ...  \n80                race         18-29         Other       0.400894  \n30                 age   Independent         18-29       0.356171  \n113          education      Hispanic       College       0.327657  \n95           education         18-29       College       0.296438  \n79                race         18-29      Hispanic       0.294161  \n\n[117 rows x 7 columns]",
      "text/html": "<div>\n<style scoped>\n    .dataframe tbody tr th:only-of-type {\n        vertical-align: middle;\n    }\n\n    .dataframe tbody tr th {\n        vertical-align: top;\n    }\n\n    .dataframe thead th {\n        text-align: right;\n    }\n</style>\n<table border=\"1\" class=\"dataframe\">\n  <thead>\n    <tr style=\"text-align: right;\">\n      <th></th>\n      <th>Electoral_Proportion</th>\n      <th>Poll_Proportion</th>\n      <th>Demographic_Type_1</th>\n      <th>Demographic_Type_2</th>\n      <th>Demographic_1</th>\n      <th>Demographic_2</th>\n      <th>Representation</th>\n    </tr>\n  </thead>\n  <tbody>\n    <tr>\n      <th>102</th>\n      <td>0.153247</td>\n      <td>0.058824</td>\n      <td>age</td>\n      <td>education</td>\n      <td>65+</td>\n      <td>High School</td>\n      <td>2.605195</td>\n    </tr>\n    <tr>\n      <th>49</th>\n      <td>0.137253</td>\n      <td>0.055363</td>\n      <td>party</td>\n      <td>education</td>\n      <td>Republican</td>\n      <td>High School</td>\n      <td>2.479136</td>\n    </tr>\n    <tr>\n      <th>96</th>\n      <td>0.048088</td>\n      <td>0.019608</td>\n      <td>age</td>\n      <td>education</td>\n      <td>30-44</td>\n      <td>High School</td>\n      <td>2.452499</td>\n    </tr>\n    <tr>\n      <th>105</th>\n      <td>0.235884</td>\n      <td>0.100346</td>\n      <td>race</td>\n      <td>education</td>\n      <td>White</td>\n      <td>High School</td>\n      <td>2.350702</td>\n    </tr>\n    <tr>\n      <th>99</th>\n      <td>0.139230</td>\n      <td>0.065744</td>\n      <td>age</td>\n      <td>education</td>\n      <td>45-64</td>\n      <td>High School</td>\n      <td>2.117763</td>\n    </tr>\n    <tr>\n      <th>...</th>\n      <td>...</td>\n      <td>...</td>\n      <td>...</td>\n      <td>...</td>\n      <td>...</td>\n      <td>...</td>\n      <td>...</td>\n    </tr>\n    <tr>\n      <th>80</th>\n      <td>0.006011</td>\n      <td>0.014994</td>\n      <td>age</td>\n      <td>race</td>\n      <td>18-29</td>\n      <td>Other</td>\n      <td>0.400894</td>\n    </tr>\n    <tr>\n      <th>30</th>\n      <td>0.034919</td>\n      <td>0.098039</td>\n      <td>party</td>\n      <td>age</td>\n      <td>Independent</td>\n      <td>18-29</td>\n      <td>0.356171</td>\n    </tr>\n    <tr>\n      <th>113</th>\n      <td>0.027588</td>\n      <td>0.084198</td>\n      <td>race</td>\n      <td>education</td>\n      <td>Hispanic</td>\n      <td>College</td>\n      <td>0.327657</td>\n    </tr>\n    <tr>\n      <th>95</th>\n      <td>0.023934</td>\n      <td>0.080738</td>\n      <td>age</td>\n      <td>education</td>\n      <td>18-29</td>\n      <td>College</td>\n      <td>0.296438</td>\n    </tr>\n    <tr>\n      <th>79</th>\n      <td>0.020696</td>\n      <td>0.070358</td>\n      <td>age</td>\n      <td>race</td>\n      <td>18-29</td>\n      <td>Hispanic</td>\n      <td>0.294161</td>\n    </tr>\n  </tbody>\n</table>\n<p>117 rows × 7 columns</p>\n</div>"
     },
     "execution_count": 538,
     "metadata": {},
     "output_type": "execute_result"
    }
   ],
   "source": [
    "dfdemographic['Representation'] = dfdemographic.Electoral_Proportion/dfdemographic.Poll_Proportion\n",
    "dfdemographic.sort_values(by=['Representation'], ascending = False)"
   ]
  },
  {
   "cell_type": "markdown",
   "source": [
    "We can see that the 65+ aged high school educated demographic was most overrepresented, with 2.6 times higher electoral estimates than polling numbers.\n",
    "The 18-29 aged Hispanic demographic was most underrepresented, with 0.29 times lower electoral estimates than polling results."
   ],
   "metadata": {
    "collapsed": false,
    "pycharm": {
     "name": "#%% md\n"
    }
   }
  },
  {
   "cell_type": "markdown",
   "metadata": {},
   "source": [
    "## Part B: Weighting"
   ]
  },
  {
   "cell_type": "markdown",
   "metadata": {},
   "source": [
    "### 1) Raw average"
   ]
  },
  {
   "cell_type": "markdown",
   "metadata": {},
   "source": [
    "<font color='blue'> For now, we'll ignore people who answered anything but \"Hillary Clinton\" or \"Donald Trump.\" Below, report the \"raw polling average,\" the percentage of people \"Hillary Clinton\" divided by the number who answered either Hillary or Trump."
   ]
  },
  {
   "cell_type": "code",
   "execution_count": 539,
   "metadata": {},
   "outputs": [
    {
     "data": {
      "text/plain": "         candidate  count\n1     Donald Trump    327\n2  Hillary Clinton    393",
      "text/html": "<div>\n<style scoped>\n    .dataframe tbody tr th:only-of-type {\n        vertical-align: middle;\n    }\n\n    .dataframe tbody tr th {\n        vertical-align: top;\n    }\n\n    .dataframe thead th {\n        text-align: right;\n    }\n</style>\n<table border=\"1\" class=\"dataframe\">\n  <thead>\n    <tr style=\"text-align: right;\">\n      <th></th>\n      <th>candidate</th>\n      <th>count</th>\n    </tr>\n  </thead>\n  <tbody>\n    <tr>\n      <th>1</th>\n      <td>Donald Trump</td>\n      <td>327</td>\n    </tr>\n    <tr>\n      <th>2</th>\n      <td>Hillary Clinton</td>\n      <td>393</td>\n    </tr>\n  </tbody>\n</table>\n</div>"
     },
     "execution_count": 539,
     "metadata": {},
     "output_type": "execute_result"
    }
   ],
   "source": [
    "poll_grouped = dfpoll.groupby('candidate')['candidate'].count().reset_index(name ='count')\n",
    "main_candidates = poll_grouped[(poll_grouped.candidate.isin(['Donald Trump', 'Hillary Clinton']))]\n",
    "main_candidates"
   ]
  },
  {
   "cell_type": "code",
   "execution_count": 540,
   "outputs": [
    {
     "data": {
      "text/plain": "0.5458333333333333"
     },
     "execution_count": 540,
     "metadata": {},
     "output_type": "execute_result"
    }
   ],
   "source": [
    "main_candidates['count'].iloc[1]/main_candidates['count'].sum()"
   ],
   "metadata": {
    "collapsed": false,
    "pycharm": {
     "name": "#%%\n"
    }
   }
  },
  {
   "cell_type": "markdown",
   "source": [
    "The raw polling average for Hillary Clinton is 0.54583"
   ],
   "metadata": {
    "collapsed": false,
    "pycharm": {
     "name": "#%% md\n"
    }
   }
  },
  {
   "cell_type": "markdown",
   "metadata": {},
   "source": [
    "### 2) Single dimensional marginal weighting (on just 1 demographic type)"
   ]
  },
  {
   "cell_type": "markdown",
   "metadata": {},
   "source": [
    "<font color='blue'> For each demographic type separately -- age, gender, party, race, and education -- weight the poll by just that demographic type, in accordance to the population proportions given. Report the resulting poll results, and briefly (at most 3 sentences) describe what you observe.\n",
    "\n",
    "You'll notice that some of the groups in the polling data (\"refused\") do not show up in the population percentages. For now, we'll ignore those respondents."
   ]
  },
  {
   "cell_type": "markdown",
   "source": [
    "Function that returns Hillary's weighted poll result out of the top two candidates."
   ],
   "metadata": {
    "collapsed": false,
    "pycharm": {
     "name": "#%% md\n"
    }
   }
  },
  {
   "cell_type": "code",
   "execution_count": 541,
   "outputs": [],
   "source": [
    "def weighted_hillary(demographic, indices):\n",
    "\n",
    "    proportions = dfdemographic[['Demographic_1', 'Electoral_Proportion']].iloc[indices[0]:indices[1]]\n",
    "    grouped = dfpoll.groupby(['candidate', demographic])[demographic].count().reset_index(name ='count')\n",
    "    grouped['count_weighted'] = \"\"\n",
    "\n",
    "    for i, r in grouped.iterrows():\n",
    "        if grouped[demographic].iloc[i] == 'Refused':\n",
    "            weight_factor = 0\n",
    "        else:\n",
    "            weight_factor = proportions[(proportions['Demographic_1'] ==\n",
    "                                 grouped[demographic].iloc[i])]['Electoral_Proportion'].iloc[0]\n",
    "\n",
    "        grouped['count_weighted'].iloc[i] = grouped['count'].iloc[i] * weight_factor\n",
    "\n",
    "    w_sum = grouped[(grouped['candidate'].isin(['Hillary Clinton', 'Donald Trump']))]['count_weighted'].sum()\n",
    "    w_result = grouped.groupby('candidate')['count_weighted'].sum().reset_index(name ='count')\n",
    "    w_hillary = w_result[(w_result['candidate'] == 'Hillary Clinton')]['count'].iloc[0]\n",
    "\n",
    "    return w_hillary/w_sum"
   ],
   "metadata": {
    "collapsed": false,
    "pycharm": {
     "name": "#%%\n"
    }
   }
  },
  {
   "cell_type": "code",
   "execution_count": 542,
   "outputs": [],
   "source": [
    "search = {'age': [5,9],\n",
    "        'gender': [3,5],\n",
    "        'party': [0,3],\n",
    "        'race': [9,13],\n",
    "        'education': [13,16]}"
   ],
   "metadata": {
    "collapsed": false,
    "pycharm": {
     "name": "#%%\n"
    }
   }
  },
  {
   "cell_type": "code",
   "source": [
    "weighted_hillary('age',search['age'])"
   ],
   "metadata": {
    "collapsed": false,
    "pycharm": {
     "name": "#%% Age\n"
    }
   },
   "execution_count": 543,
   "outputs": [
    {
     "name": "stderr",
     "output_type": "stream",
     "text": [
      "c:\\users\\marti\\pycharmprojects\\uncertainty-projects\\venv\\lib\\site-packages\\pandas\\core\\indexing.py:1732: SettingWithCopyWarning: \n",
      "A value is trying to be set on a copy of a slice from a DataFrame\n",
      "\n",
      "See the caveats in the documentation: https://pandas.pydata.org/pandas-docs/stable/user_guide/indexing.html#returning-a-view-versus-a-copy\n",
      "  self._setitem_single_block(indexer, value, name)\n"
     ]
    },
    {
     "data": {
      "text/plain": "0.518554407848732"
     },
     "execution_count": 543,
     "metadata": {},
     "output_type": "execute_result"
    }
   ]
  },
  {
   "cell_type": "code",
   "source": [
    "weighted_hillary('gender',search['gender'])"
   ],
   "metadata": {
    "collapsed": false,
    "pycharm": {
     "name": "#%% Gender\n"
    }
   },
   "execution_count": 544,
   "outputs": [
    {
     "data": {
      "text/plain": "0.5513711899050441"
     },
     "execution_count": 544,
     "metadata": {},
     "output_type": "execute_result"
    }
   ]
  },
  {
   "cell_type": "code",
   "execution_count": 545,
   "outputs": [
    {
     "data": {
      "text/plain": "0.5449174164088921"
     },
     "execution_count": 545,
     "metadata": {},
     "output_type": "execute_result"
    }
   ],
   "source": [
    "weighted_hillary('party',search['party'])"
   ],
   "metadata": {
    "collapsed": false,
    "pycharm": {
     "name": "#%% Party\n"
    }
   }
  },
  {
   "cell_type": "code",
   "execution_count": 546,
   "outputs": [
    {
     "data": {
      "text/plain": "0.4378478975967778"
     },
     "execution_count": 546,
     "metadata": {},
     "output_type": "execute_result"
    }
   ],
   "source": [
    "weighted_hillary('race',search['race'])"
   ],
   "metadata": {
    "collapsed": false,
    "pycharm": {
     "name": "#%% Race\n"
    }
   }
  },
  {
   "cell_type": "code",
   "execution_count": 547,
   "outputs": [
    {
     "data": {
      "text/plain": "0.5464682164873779"
     },
     "execution_count": 547,
     "metadata": {},
     "output_type": "execute_result"
    }
   ],
   "source": [
    "weighted_hillary('education',search['education'])"
   ],
   "metadata": {
    "collapsed": false,
    "pycharm": {
     "name": "#%% Education\n"
    }
   }
  },
  {
   "cell_type": "markdown",
   "source": [
    "Compared to the raw polling average of 0.54583, gender, party, and education seem to be fairly well representative of the population.\n",
    "However, we see significant discrepancies in age and race.\n",
    "They both indicate that Hillary Clinton is slightly over-represented at polls by certain demographics in these demographic categories."
   ],
   "metadata": {
    "collapsed": false,
    "pycharm": {
     "name": "#%% md\n"
    }
   }
  },
  {
   "cell_type": "markdown",
   "metadata": {
    "pycharm": {
     "name": "#%% md\n"
    }
   },
   "source": [
    "### 2-dimensional joint distribution weighting"
   ]
  },
  {
   "cell_type": "markdown",
   "metadata": {},
   "source": [
    "<font color='blue'>Now, for each pair of demographic types in dfdemographic, do the same -- weight the poll by that pair of demographic types, in accordance to the given joint distributions, and briefly (at most 3 sentences) describe what you observe"
   ]
  },
  {
   "cell_type": "code",
   "execution_count": 598,
   "metadata": {},
   "outputs": [
    {
     "data": {
      "text/plain": "     Electoral_Proportion Poll_Proportion Demographic_Type_1  \\\n0                0.387927        0.358708              party   \n1                0.398788        0.272203              party   \n2                0.213285        0.348328              party   \n3                0.445928        0.491349             gender   \n4                0.554072        0.508651             gender   \n..                    ...             ...                ...   \n112              0.034216        0.068051               race   \n113              0.027588        0.084198               race   \n114              0.010929         0.00692               race   \n115              0.010570        0.014994               race   \n116              0.015142        0.023068               race   \n\n    Demographic_Type_2 Demographic_1 Demographic_2 Representation  \\\n0                  NaN      Democrat           NaN       1.081457   \n1                  NaN    Republican           NaN       1.465037   \n2                  NaN   Independent           NaN       0.612312   \n3                  NaN          Male           NaN       0.907558   \n4                  NaN        Female           NaN       1.089298   \n..                 ...           ...           ...            ...   \n112          education      Hispanic  Some College       0.502797   \n113          education      Hispanic       College       0.327657   \n114          education         Other   High School       1.579229   \n115          education         Other  Some College        0.70495   \n116          education         Other       College       0.656394   \n\n    Weighted_Result Hillary_Weighted  Marginal_Error  \n0                                                NaN  \n1                                                NaN  \n2                                                NaN  \n3                                                NaN  \n4                                                NaN  \n..              ...              ...             ...  \n112        1.676569         0.444804        0.132354  \n113        1.572527         0.358647        0.537573  \n114        0.054645         0.032787        0.254949  \n115        0.105702          0.02114        0.035349  \n116        0.227126         0.075709        0.208693  \n\n[117 rows x 10 columns]",
      "text/html": "<div>\n<style scoped>\n    .dataframe tbody tr th:only-of-type {\n        vertical-align: middle;\n    }\n\n    .dataframe tbody tr th {\n        vertical-align: top;\n    }\n\n    .dataframe thead th {\n        text-align: right;\n    }\n</style>\n<table border=\"1\" class=\"dataframe\">\n  <thead>\n    <tr style=\"text-align: right;\">\n      <th></th>\n      <th>Electoral_Proportion</th>\n      <th>Poll_Proportion</th>\n      <th>Demographic_Type_1</th>\n      <th>Demographic_Type_2</th>\n      <th>Demographic_1</th>\n      <th>Demographic_2</th>\n      <th>Representation</th>\n      <th>Weighted_Result</th>\n      <th>Hillary_Weighted</th>\n      <th>Marginal_Error</th>\n    </tr>\n  </thead>\n  <tbody>\n    <tr>\n      <th>0</th>\n      <td>0.387927</td>\n      <td>0.358708</td>\n      <td>party</td>\n      <td>NaN</td>\n      <td>Democrat</td>\n      <td>NaN</td>\n      <td>1.081457</td>\n      <td></td>\n      <td></td>\n      <td>NaN</td>\n    </tr>\n    <tr>\n      <th>1</th>\n      <td>0.398788</td>\n      <td>0.272203</td>\n      <td>party</td>\n      <td>NaN</td>\n      <td>Republican</td>\n      <td>NaN</td>\n      <td>1.465037</td>\n      <td></td>\n      <td></td>\n      <td>NaN</td>\n    </tr>\n    <tr>\n      <th>2</th>\n      <td>0.213285</td>\n      <td>0.348328</td>\n      <td>party</td>\n      <td>NaN</td>\n      <td>Independent</td>\n      <td>NaN</td>\n      <td>0.612312</td>\n      <td></td>\n      <td></td>\n      <td>NaN</td>\n    </tr>\n    <tr>\n      <th>3</th>\n      <td>0.445928</td>\n      <td>0.491349</td>\n      <td>gender</td>\n      <td>NaN</td>\n      <td>Male</td>\n      <td>NaN</td>\n      <td>0.907558</td>\n      <td></td>\n      <td></td>\n      <td>NaN</td>\n    </tr>\n    <tr>\n      <th>4</th>\n      <td>0.554072</td>\n      <td>0.508651</td>\n      <td>gender</td>\n      <td>NaN</td>\n      <td>Female</td>\n      <td>NaN</td>\n      <td>1.089298</td>\n      <td></td>\n      <td></td>\n      <td>NaN</td>\n    </tr>\n    <tr>\n      <th>...</th>\n      <td>...</td>\n      <td>...</td>\n      <td>...</td>\n      <td>...</td>\n      <td>...</td>\n      <td>...</td>\n      <td>...</td>\n      <td>...</td>\n      <td>...</td>\n      <td>...</td>\n    </tr>\n    <tr>\n      <th>112</th>\n      <td>0.034216</td>\n      <td>0.068051</td>\n      <td>race</td>\n      <td>education</td>\n      <td>Hispanic</td>\n      <td>Some College</td>\n      <td>0.502797</td>\n      <td>1.676569</td>\n      <td>0.444804</td>\n      <td>0.132354</td>\n    </tr>\n    <tr>\n      <th>113</th>\n      <td>0.027588</td>\n      <td>0.084198</td>\n      <td>race</td>\n      <td>education</td>\n      <td>Hispanic</td>\n      <td>College</td>\n      <td>0.327657</td>\n      <td>1.572527</td>\n      <td>0.358647</td>\n      <td>0.537573</td>\n    </tr>\n    <tr>\n      <th>114</th>\n      <td>0.010929</td>\n      <td>0.00692</td>\n      <td>race</td>\n      <td>education</td>\n      <td>Other</td>\n      <td>High School</td>\n      <td>1.579229</td>\n      <td>0.054645</td>\n      <td>0.032787</td>\n      <td>0.254949</td>\n    </tr>\n    <tr>\n      <th>115</th>\n      <td>0.010570</td>\n      <td>0.014994</td>\n      <td>race</td>\n      <td>education</td>\n      <td>Other</td>\n      <td>Some College</td>\n      <td>0.70495</td>\n      <td>0.105702</td>\n      <td>0.02114</td>\n      <td>0.035349</td>\n    </tr>\n    <tr>\n      <th>116</th>\n      <td>0.015142</td>\n      <td>0.023068</td>\n      <td>race</td>\n      <td>education</td>\n      <td>Other</td>\n      <td>College</td>\n      <td>0.656394</td>\n      <td>0.227126</td>\n      <td>0.075709</td>\n      <td>0.208693</td>\n    </tr>\n  </tbody>\n</table>\n<p>117 rows × 10 columns</p>\n</div>"
     },
     "execution_count": 598,
     "metadata": {},
     "output_type": "execute_result"
    }
   ],
   "source": [
    "dfdemographic['Weighted_Result'] = \"\"\n",
    "dfdemographic['Hillary_Weighted'] = \"\"\n",
    "for index, row in dfdemographic.iterrows():\n",
    "    type_list = dfdemographic[['Demographic_Type_1', 'Demographic_Type_2']].iloc[index].values.tolist()\n",
    "    type_list.insert(0,'candidate')\n",
    "    group_list = dfdemographic[['Demographic_1', 'Demographic_2']].iloc[index].values.tolist()\n",
    "    if pd.isna(type_list[1]) or pd.isna(type_list[2]):\n",
    "        continue\n",
    "    else:\n",
    "        # print(type_list)\n",
    "        df_group = dfpoll.groupby(type_list)[type_list[1]].count().reset_index(name ='count')\n",
    "\n",
    "        if 'Refused' in df_group[(df_group[type_list[1]] == group_list[0]) &\n",
    "                     (df_group[type_list[2]] == group_list[1])][type_list[1:2]].iloc[0]:\n",
    "            weight_factor = 0\n",
    "        else:\n",
    "            weight_factor = dfdemographic['Electoral_Proportion'].iloc[index]\n",
    "\n",
    "        # df_group['weighted_count'] = df_group['count'].iloc[index] * weight_factor\n",
    "        dfdemographic['Weighted_Result'].iloc[index] = df_group[(df_group[type_list[1]] == group_list[0]) &\n",
    "                     (df_group[type_list[2]] == group_list[1]) & (df_group['candidate'].isin(['Hillary Clinton','Donald Trump']))]['count'].sum() \\\n",
    "                                                       * weight_factor\n",
    "\n",
    "        if (df_group[(df_group[type_list[1]] == group_list[0]) &\n",
    "                     (df_group[type_list[2]] == group_list[1]) &\n",
    "                     (df_group['candidate'] == 'Hillary Clinton')])['count'].empty:\n",
    "            dfdemographic['Hillary_Weighted'].iloc[index] = 0\n",
    "        else:\n",
    "            dfdemographic['Hillary_Weighted'].iloc[index] = (df_group.loc[(df_group[type_list[1]] == group_list[0]) &\n",
    "                     (df_group[type_list[2]] == group_list[1]) & (df_group['candidate'] == 'Hillary Clinton')])['count'].iloc[0] \\\n",
    "                                                            * weight_factor\n",
    "dfdemographic"
   ]
  },
  {
   "cell_type": "code",
   "execution_count": 549,
   "outputs": [
    {
     "data": {
      "text/plain": "59"
     },
     "execution_count": 549,
     "metadata": {},
     "output_type": "execute_result"
    }
   ],
   "source": [
    "# group_test = dfpoll.groupby(['candidate','race','education'])['race'].count().reset_index(name ='count')\n",
    "# group_test.loc[(group_test['race'] == 'Hispanic') &\n",
    "#                (group_test['education'] == 'Some College')]['count'].sum()"
   ],
   "metadata": {
    "collapsed": false,
    "pycharm": {
     "name": "#%%\n"
    }
   }
  },
  {
   "cell_type": "code",
   "execution_count": 599,
   "outputs": [],
   "source": [
    "weighted_2d_grouped = dfdemographic.groupby(['Demographic_Type_1', 'Demographic_Type_2'])['Weighted_Result'].sum().reset_index(name ='sum')\n",
    "weighted_2d_grouped['Hillary_sum'] = \"\"\n",
    "weighted_2d_grouped['Hillary_sum'] = dfdemographic.groupby(['Demographic_Type_1', 'Demographic_Type_2'])['Hillary_Weighted'].sum().reset_index(name ='sum')['sum']\n",
    "weighted_2d_grouped['Hillary_proportion'] = \"\"\n",
    "weighted_2d_grouped['Hillary_proportion'] = weighted_2d_grouped['Hillary_sum']/weighted_2d_grouped['sum']\n",
    "weighted_2d_grouped"
   ],
   "metadata": {
    "collapsed": false,
    "pycharm": {
     "name": "#%%\n"
    }
   }
  },
  {
   "cell_type": "markdown",
   "source": [
    "It is obvious to us from the above grouped table that Hillary's numbers were quite overrepresented at polling - I also tried doing it for Trump, and his numbers increased substantially.\n",
    "Weighting by the pairs of demographic types yields quite a bit lower numbers - 10 - 20% lower than the raw polling result.\n",
    "This tells us that the joint distributions, most significantly with party and race - had an over-representation in their demographic groups during polling for Hillary Clinton."
   ],
   "metadata": {
    "collapsed": false,
    "pycharm": {
     "name": "#%% md\n"
    }
   }
  },
  {
   "cell_type": "markdown",
   "metadata": {},
   "source": [
    "### 3) 2-dimensional marginal "
   ]
  },
  {
   "cell_type": "markdown",
   "metadata": {
    "ExecuteTime": {
     "end_time": "2021-09-01T18:25:18.040978Z",
     "start_time": "2021-09-01T18:25:18.016981Z"
    }
   },
   "source": [
    "<font color='blue'>We don't always have access to joint distributions across the population -- for example, it may be hard to estimate from past exit polls (surveys done as people are leaving the polling station) what the joint distribution of education and gender is, for example. However, access to marginal distributions are often available. \n",
    "\n",
    "As discussed in class, one strategy when you don't have access to joint distributions -- only marginals -- is to _multiply_ the marginal distributions. For example, if 50% of your population is Democratic and 50% is a woman, then pretend that 50% times 50% = 25% of your population is a Democratic women. Clearly this technique is not perfect, but it is sometimes a useful heuristic.   \n",
    "\n",
    "For the following pairs of Demographic types, report the weighting results if you use the joint distributions in dfdemographic versus if you approximate the joint distribution using the marginals. Briefly (at most 3 sentences) describe what you observe.\n",
    "\n",
    "(party, gender)\n",
    "\n",
    "(race, gender)"
   ]
  },
  {
   "cell_type": "code",
   "execution_count": 553,
   "outputs": [
    {
     "name": "stderr",
     "output_type": "stream",
     "text": [
      "c:\\users\\marti\\pycharmprojects\\uncertainty-projects\\venv\\lib\\site-packages\\pandas\\core\\indexing.py:1732: SettingWithCopyWarning: \n",
      "A value is trying to be set on a copy of a slice from a DataFrame\n",
      "\n",
      "See the caveats in the documentation: https://pandas.pydata.org/pandas-docs/stable/user_guide/indexing.html#returning-a-view-versus-a-copy\n",
      "  self._setitem_single_block(indexer, value, name)\n"
     ]
    },
    {
     "data": {
      "text/plain": "     Electoral_Proportion Poll_Proportion Demographic_Type_1  \\\n0                0.387927        0.358708              party   \n1                0.398788        0.272203              party   \n2                0.213285        0.348328              party   \n3                0.445928        0.491349             gender   \n4                0.554072        0.508651             gender   \n..                    ...             ...                ...   \n112              0.034216        0.068051               race   \n113              0.027588        0.084198               race   \n114              0.010929         0.00692               race   \n115              0.010570        0.014994               race   \n116              0.015142        0.023068               race   \n\n    Demographic_Type_2 Demographic_1 Demographic_2 Representation  \\\n0                  NaN      Democrat           NaN       1.081457   \n1                  NaN    Republican           NaN       1.465037   \n2                  NaN   Independent           NaN       0.612312   \n3                  NaN          Male           NaN       0.907558   \n4                  NaN        Female           NaN       1.089298   \n..                 ...           ...           ...            ...   \n112          education      Hispanic  Some College       0.502797   \n113          education      Hispanic       College       0.327657   \n114          education         Other   High School       1.579229   \n115          education         Other  Some College        0.70495   \n116          education         Other       College       0.656394   \n\n    Weighted_Result Hillary_Weighted Marginal_Error  \n0                                                    \n1                                                    \n2                                                    \n3                                                    \n4                                                    \n..              ...              ...            ...  \n112        1.676569         1.231765       0.132354  \n113        1.572527         1.213881       0.537573  \n114        0.054645         0.021858       0.254949  \n115        0.105702         0.084561       0.035349  \n116        0.227126         0.151417       0.208693  \n\n[117 rows x 10 columns]",
      "text/html": "<div>\n<style scoped>\n    .dataframe tbody tr th:only-of-type {\n        vertical-align: middle;\n    }\n\n    .dataframe tbody tr th {\n        vertical-align: top;\n    }\n\n    .dataframe thead th {\n        text-align: right;\n    }\n</style>\n<table border=\"1\" class=\"dataframe\">\n  <thead>\n    <tr style=\"text-align: right;\">\n      <th></th>\n      <th>Electoral_Proportion</th>\n      <th>Poll_Proportion</th>\n      <th>Demographic_Type_1</th>\n      <th>Demographic_Type_2</th>\n      <th>Demographic_1</th>\n      <th>Demographic_2</th>\n      <th>Representation</th>\n      <th>Weighted_Result</th>\n      <th>Hillary_Weighted</th>\n      <th>Marginal_Error</th>\n    </tr>\n  </thead>\n  <tbody>\n    <tr>\n      <th>0</th>\n      <td>0.387927</td>\n      <td>0.358708</td>\n      <td>party</td>\n      <td>NaN</td>\n      <td>Democrat</td>\n      <td>NaN</td>\n      <td>1.081457</td>\n      <td></td>\n      <td></td>\n      <td></td>\n    </tr>\n    <tr>\n      <th>1</th>\n      <td>0.398788</td>\n      <td>0.272203</td>\n      <td>party</td>\n      <td>NaN</td>\n      <td>Republican</td>\n      <td>NaN</td>\n      <td>1.465037</td>\n      <td></td>\n      <td></td>\n      <td></td>\n    </tr>\n    <tr>\n      <th>2</th>\n      <td>0.213285</td>\n      <td>0.348328</td>\n      <td>party</td>\n      <td>NaN</td>\n      <td>Independent</td>\n      <td>NaN</td>\n      <td>0.612312</td>\n      <td></td>\n      <td></td>\n      <td></td>\n    </tr>\n    <tr>\n      <th>3</th>\n      <td>0.445928</td>\n      <td>0.491349</td>\n      <td>gender</td>\n      <td>NaN</td>\n      <td>Male</td>\n      <td>NaN</td>\n      <td>0.907558</td>\n      <td></td>\n      <td></td>\n      <td></td>\n    </tr>\n    <tr>\n      <th>4</th>\n      <td>0.554072</td>\n      <td>0.508651</td>\n      <td>gender</td>\n      <td>NaN</td>\n      <td>Female</td>\n      <td>NaN</td>\n      <td>1.089298</td>\n      <td></td>\n      <td></td>\n      <td></td>\n    </tr>\n    <tr>\n      <th>...</th>\n      <td>...</td>\n      <td>...</td>\n      <td>...</td>\n      <td>...</td>\n      <td>...</td>\n      <td>...</td>\n      <td>...</td>\n      <td>...</td>\n      <td>...</td>\n      <td>...</td>\n    </tr>\n    <tr>\n      <th>112</th>\n      <td>0.034216</td>\n      <td>0.068051</td>\n      <td>race</td>\n      <td>education</td>\n      <td>Hispanic</td>\n      <td>Some College</td>\n      <td>0.502797</td>\n      <td>1.676569</td>\n      <td>1.231765</td>\n      <td>0.132354</td>\n    </tr>\n    <tr>\n      <th>113</th>\n      <td>0.027588</td>\n      <td>0.084198</td>\n      <td>race</td>\n      <td>education</td>\n      <td>Hispanic</td>\n      <td>College</td>\n      <td>0.327657</td>\n      <td>1.572527</td>\n      <td>1.213881</td>\n      <td>0.537573</td>\n    </tr>\n    <tr>\n      <th>114</th>\n      <td>0.010929</td>\n      <td>0.00692</td>\n      <td>race</td>\n      <td>education</td>\n      <td>Other</td>\n      <td>High School</td>\n      <td>1.579229</td>\n      <td>0.054645</td>\n      <td>0.021858</td>\n      <td>0.254949</td>\n    </tr>\n    <tr>\n      <th>115</th>\n      <td>0.010570</td>\n      <td>0.014994</td>\n      <td>race</td>\n      <td>education</td>\n      <td>Other</td>\n      <td>Some College</td>\n      <td>0.70495</td>\n      <td>0.105702</td>\n      <td>0.084561</td>\n      <td>0.035349</td>\n    </tr>\n    <tr>\n      <th>116</th>\n      <td>0.015142</td>\n      <td>0.023068</td>\n      <td>race</td>\n      <td>education</td>\n      <td>Other</td>\n      <td>College</td>\n      <td>0.656394</td>\n      <td>0.227126</td>\n      <td>0.151417</td>\n      <td>0.208693</td>\n    </tr>\n  </tbody>\n</table>\n<p>117 rows × 10 columns</p>\n</div>"
     },
     "execution_count": 553,
     "metadata": {},
     "output_type": "execute_result"
    }
   ],
   "source": [
    "dfdemographic[\"Marginal_Error\"] = \"\"\n",
    "\n",
    "for i, rows in dfdemographic.iterrows():\n",
    "    if pd.isna(dfdemographic['Demographic_Type_2'].iloc[i]):\n",
    "        continue\n",
    "    else:\n",
    "        d1 = dfdemographic['Demographic_1'].iloc[i]\n",
    "        d2 = dfdemographic['Demographic_2'].iloc[i]\n",
    "        estimate1 = dfdemographic[(dfdemographic['Demographic_1'] == d1) & (pd.isnull(dfdemographic['Demographic_2']))]['Electoral_Proportion'].iloc[0]\n",
    "        estimate2 = dfdemographic[(dfdemographic['Demographic_1'] == d2) & (pd.isnull(dfdemographic['Demographic_2']))]['Electoral_Proportion'].iloc[0]\n",
    "        product = estimate1 * estimate2\n",
    "        error = abs(product-dfdemographic['Electoral_Proportion'].iloc[i])/dfdemographic['Electoral_Proportion'].iloc[i]\n",
    "        dfdemographic[\"Marginal_Error\"].iloc[i] = error\n",
    "dfdemographic"
   ],
   "metadata": {
    "collapsed": false,
    "pycharm": {
     "name": "#%%\n"
    }
   }
  },
  {
   "cell_type": "code",
   "execution_count": 554,
   "outputs": [
    {
     "name": "stdout",
     "output_type": "stream",
     "text": [
      "<class 'pandas.core.frame.DataFrame'>\n",
      "RangeIndex: 117 entries, 0 to 116\n",
      "Data columns (total 10 columns):\n",
      " #   Column                Non-Null Count  Dtype  \n",
      "---  ------                --------------  -----  \n",
      " 0   Electoral_Proportion  117 non-null    float64\n",
      " 1   Poll_Proportion       117 non-null    object \n",
      " 2   Demographic_Type_1    117 non-null    object \n",
      " 3   Demographic_Type_2    101 non-null    object \n",
      " 4   Demographic_1         117 non-null    object \n",
      " 5   Demographic_2         101 non-null    object \n",
      " 6   Representation        117 non-null    object \n",
      " 7   Weighted_Result       117 non-null    object \n",
      " 8   Hillary_Weighted      117 non-null    object \n",
      " 9   Marginal_Error        117 non-null    object \n",
      "dtypes: float64(1), object(9)\n",
      "memory usage: 9.3+ KB\n"
     ]
    }
   ],
   "source": [
    "dfdemographic.info()"
   ],
   "metadata": {
    "collapsed": false,
    "pycharm": {
     "name": "#%%\n"
    }
   }
  },
  {
   "cell_type": "code",
   "execution_count": 555,
   "outputs": [
    {
     "data": {
      "text/plain": "    Electoral_Proportion Poll_Proportion Demographic_Type_1  \\\n70              0.020309        0.026528             gender   \n66              0.016331        0.018454             gender   \n85              0.263813        0.192618                age   \n54              0.069670        0.152249              party   \n59              0.060688        0.110727             gender   \n..                   ...             ...                ...   \n11              0.129719        0.202999               race   \n12              0.036641        0.044983               race   \n13              0.374316        0.197232          education   \n14              0.298679        0.352941          education   \n15              0.327006        0.435986          education   \n\n   Demographic_Type_2 Demographic_1 Demographic_2 Representation  \\\n70               race        Female         Other       0.765579   \n66               race          Male         Other       0.884956   \n85               race         45-64         White       1.369615   \n54          education   Independent       College       0.457608   \n59                age        Female         18-29       0.548091   \n..                ...           ...           ...            ...   \n11                NaN      Hispanic           NaN       0.639013   \n12                NaN         Other           NaN       0.814554   \n13                NaN   High School           NaN       1.897846   \n14                NaN  Some College           NaN       0.846256   \n15                NaN       College           NaN       0.750037   \n\n   Weighted_Result Hillary_Weighted  Marginal_Error  \n70        0.345261         0.223404        0.000384  \n66        0.212308         0.146982        0.000478  \n85       39.308098        14.509701        0.000536  \n54        6.479354         3.204842        0.001076  \n59         4.49093           3.0951        0.001791  \n..             ...              ...             ...  \n11                                              NaN  \n12                                              NaN  \n13                                              NaN  \n14                                              NaN  \n15                                              NaN  \n\n[117 rows x 10 columns]",
      "text/html": "<div>\n<style scoped>\n    .dataframe tbody tr th:only-of-type {\n        vertical-align: middle;\n    }\n\n    .dataframe tbody tr th {\n        vertical-align: top;\n    }\n\n    .dataframe thead th {\n        text-align: right;\n    }\n</style>\n<table border=\"1\" class=\"dataframe\">\n  <thead>\n    <tr style=\"text-align: right;\">\n      <th></th>\n      <th>Electoral_Proportion</th>\n      <th>Poll_Proportion</th>\n      <th>Demographic_Type_1</th>\n      <th>Demographic_Type_2</th>\n      <th>Demographic_1</th>\n      <th>Demographic_2</th>\n      <th>Representation</th>\n      <th>Weighted_Result</th>\n      <th>Hillary_Weighted</th>\n      <th>Marginal_Error</th>\n    </tr>\n  </thead>\n  <tbody>\n    <tr>\n      <th>70</th>\n      <td>0.020309</td>\n      <td>0.026528</td>\n      <td>gender</td>\n      <td>race</td>\n      <td>Female</td>\n      <td>Other</td>\n      <td>0.765579</td>\n      <td>0.345261</td>\n      <td>0.223404</td>\n      <td>0.000384</td>\n    </tr>\n    <tr>\n      <th>66</th>\n      <td>0.016331</td>\n      <td>0.018454</td>\n      <td>gender</td>\n      <td>race</td>\n      <td>Male</td>\n      <td>Other</td>\n      <td>0.884956</td>\n      <td>0.212308</td>\n      <td>0.146982</td>\n      <td>0.000478</td>\n    </tr>\n    <tr>\n      <th>85</th>\n      <td>0.263813</td>\n      <td>0.192618</td>\n      <td>age</td>\n      <td>race</td>\n      <td>45-64</td>\n      <td>White</td>\n      <td>1.369615</td>\n      <td>39.308098</td>\n      <td>14.509701</td>\n      <td>0.000536</td>\n    </tr>\n    <tr>\n      <th>54</th>\n      <td>0.069670</td>\n      <td>0.152249</td>\n      <td>party</td>\n      <td>education</td>\n      <td>Independent</td>\n      <td>College</td>\n      <td>0.457608</td>\n      <td>6.479354</td>\n      <td>3.204842</td>\n      <td>0.001076</td>\n    </tr>\n    <tr>\n      <th>59</th>\n      <td>0.060688</td>\n      <td>0.110727</td>\n      <td>gender</td>\n      <td>age</td>\n      <td>Female</td>\n      <td>18-29</td>\n      <td>0.548091</td>\n      <td>4.49093</td>\n      <td>3.0951</td>\n      <td>0.001791</td>\n    </tr>\n    <tr>\n      <th>...</th>\n      <td>...</td>\n      <td>...</td>\n      <td>...</td>\n      <td>...</td>\n      <td>...</td>\n      <td>...</td>\n      <td>...</td>\n      <td>...</td>\n      <td>...</td>\n      <td>...</td>\n    </tr>\n    <tr>\n      <th>11</th>\n      <td>0.129719</td>\n      <td>0.202999</td>\n      <td>race</td>\n      <td>NaN</td>\n      <td>Hispanic</td>\n      <td>NaN</td>\n      <td>0.639013</td>\n      <td></td>\n      <td></td>\n      <td>NaN</td>\n    </tr>\n    <tr>\n      <th>12</th>\n      <td>0.036641</td>\n      <td>0.044983</td>\n      <td>race</td>\n      <td>NaN</td>\n      <td>Other</td>\n      <td>NaN</td>\n      <td>0.814554</td>\n      <td></td>\n      <td></td>\n      <td>NaN</td>\n    </tr>\n    <tr>\n      <th>13</th>\n      <td>0.374316</td>\n      <td>0.197232</td>\n      <td>education</td>\n      <td>NaN</td>\n      <td>High School</td>\n      <td>NaN</td>\n      <td>1.897846</td>\n      <td></td>\n      <td></td>\n      <td>NaN</td>\n    </tr>\n    <tr>\n      <th>14</th>\n      <td>0.298679</td>\n      <td>0.352941</td>\n      <td>education</td>\n      <td>NaN</td>\n      <td>Some College</td>\n      <td>NaN</td>\n      <td>0.846256</td>\n      <td></td>\n      <td></td>\n      <td>NaN</td>\n    </tr>\n    <tr>\n      <th>15</th>\n      <td>0.327006</td>\n      <td>0.435986</td>\n      <td>education</td>\n      <td>NaN</td>\n      <td>College</td>\n      <td>NaN</td>\n      <td>0.750037</td>\n      <td></td>\n      <td></td>\n      <td>NaN</td>\n    </tr>\n  </tbody>\n</table>\n<p>117 rows × 10 columns</p>\n</div>"
     },
     "execution_count": 555,
     "metadata": {},
     "output_type": "execute_result"
    }
   ],
   "source": [
    "dfdemographic['Marginal_Error'] = pd.to_numeric(dfdemographic['Marginal_Error'], downcast=\"float\")\n",
    "dfdemographic.sort_values(by=['Marginal_Error'])"
   ],
   "metadata": {
    "collapsed": false,
    "pycharm": {
     "name": "#%%\n"
    }
   }
  },
  {
   "cell_type": "code",
   "execution_count": 556,
   "outputs": [
    {
     "data": {
      "text/plain": "     Electoral_Proportion Poll_Proportion Demographic_Type_1  \\\n39               0.004338        0.002307              party   \n43               0.016807        0.031142              party   \n90               0.026436        0.020761                age   \n35               0.114527        0.081892              party   \n113              0.027588        0.084198               race   \n..                    ...             ...                ...   \n11               0.129719        0.202999               race   \n12               0.036641        0.044983               race   \n13               0.374316        0.197232          education   \n14               0.298679        0.352941          education   \n15               0.327006        0.435986          education   \n\n    Demographic_Type_2 Demographic_1 Demographic_2 Representation  \\\n39                race    Republican         Black       1.880704   \n43                race   Independent         Black       0.539676   \n90                race           65+         Black       1.273354   \n35                race      Democrat         Black       1.398518   \n113          education      Hispanic       College       0.327657   \n..                 ...           ...           ...            ...   \n11                 NaN      Hispanic           NaN       0.639013   \n12                 NaN         Other           NaN       0.814554   \n13                 NaN   High School           NaN       1.897846   \n14                 NaN  Some College           NaN       0.846256   \n15                 NaN       College           NaN       0.750037   \n\n    Weighted_Result Hillary_Weighted  Marginal_Error  \n39         0.008677         0.004338       11.470963  \n43         0.268904         0.218485        0.721758  \n90         0.449419         0.422983        0.692940  \n35         7.215194         7.100667        0.540450  \n113        1.572527         1.213881        0.537573  \n..              ...              ...             ...  \n11                                               NaN  \n12                                               NaN  \n13                                               NaN  \n14                                               NaN  \n15                                               NaN  \n\n[117 rows x 10 columns]",
      "text/html": "<div>\n<style scoped>\n    .dataframe tbody tr th:only-of-type {\n        vertical-align: middle;\n    }\n\n    .dataframe tbody tr th {\n        vertical-align: top;\n    }\n\n    .dataframe thead th {\n        text-align: right;\n    }\n</style>\n<table border=\"1\" class=\"dataframe\">\n  <thead>\n    <tr style=\"text-align: right;\">\n      <th></th>\n      <th>Electoral_Proportion</th>\n      <th>Poll_Proportion</th>\n      <th>Demographic_Type_1</th>\n      <th>Demographic_Type_2</th>\n      <th>Demographic_1</th>\n      <th>Demographic_2</th>\n      <th>Representation</th>\n      <th>Weighted_Result</th>\n      <th>Hillary_Weighted</th>\n      <th>Marginal_Error</th>\n    </tr>\n  </thead>\n  <tbody>\n    <tr>\n      <th>39</th>\n      <td>0.004338</td>\n      <td>0.002307</td>\n      <td>party</td>\n      <td>race</td>\n      <td>Republican</td>\n      <td>Black</td>\n      <td>1.880704</td>\n      <td>0.008677</td>\n      <td>0.004338</td>\n      <td>11.470963</td>\n    </tr>\n    <tr>\n      <th>43</th>\n      <td>0.016807</td>\n      <td>0.031142</td>\n      <td>party</td>\n      <td>race</td>\n      <td>Independent</td>\n      <td>Black</td>\n      <td>0.539676</td>\n      <td>0.268904</td>\n      <td>0.218485</td>\n      <td>0.721758</td>\n    </tr>\n    <tr>\n      <th>90</th>\n      <td>0.026436</td>\n      <td>0.020761</td>\n      <td>age</td>\n      <td>race</td>\n      <td>65+</td>\n      <td>Black</td>\n      <td>1.273354</td>\n      <td>0.449419</td>\n      <td>0.422983</td>\n      <td>0.692940</td>\n    </tr>\n    <tr>\n      <th>35</th>\n      <td>0.114527</td>\n      <td>0.081892</td>\n      <td>party</td>\n      <td>race</td>\n      <td>Democrat</td>\n      <td>Black</td>\n      <td>1.398518</td>\n      <td>7.215194</td>\n      <td>7.100667</td>\n      <td>0.540450</td>\n    </tr>\n    <tr>\n      <th>113</th>\n      <td>0.027588</td>\n      <td>0.084198</td>\n      <td>race</td>\n      <td>education</td>\n      <td>Hispanic</td>\n      <td>College</td>\n      <td>0.327657</td>\n      <td>1.572527</td>\n      <td>1.213881</td>\n      <td>0.537573</td>\n    </tr>\n    <tr>\n      <th>...</th>\n      <td>...</td>\n      <td>...</td>\n      <td>...</td>\n      <td>...</td>\n      <td>...</td>\n      <td>...</td>\n      <td>...</td>\n      <td>...</td>\n      <td>...</td>\n      <td>...</td>\n    </tr>\n    <tr>\n      <th>11</th>\n      <td>0.129719</td>\n      <td>0.202999</td>\n      <td>race</td>\n      <td>NaN</td>\n      <td>Hispanic</td>\n      <td>NaN</td>\n      <td>0.639013</td>\n      <td></td>\n      <td></td>\n      <td>NaN</td>\n    </tr>\n    <tr>\n      <th>12</th>\n      <td>0.036641</td>\n      <td>0.044983</td>\n      <td>race</td>\n      <td>NaN</td>\n      <td>Other</td>\n      <td>NaN</td>\n      <td>0.814554</td>\n      <td></td>\n      <td></td>\n      <td>NaN</td>\n    </tr>\n    <tr>\n      <th>13</th>\n      <td>0.374316</td>\n      <td>0.197232</td>\n      <td>education</td>\n      <td>NaN</td>\n      <td>High School</td>\n      <td>NaN</td>\n      <td>1.897846</td>\n      <td></td>\n      <td></td>\n      <td>NaN</td>\n    </tr>\n    <tr>\n      <th>14</th>\n      <td>0.298679</td>\n      <td>0.352941</td>\n      <td>education</td>\n      <td>NaN</td>\n      <td>Some College</td>\n      <td>NaN</td>\n      <td>0.846256</td>\n      <td></td>\n      <td></td>\n      <td>NaN</td>\n    </tr>\n    <tr>\n      <th>15</th>\n      <td>0.327006</td>\n      <td>0.435986</td>\n      <td>education</td>\n      <td>NaN</td>\n      <td>College</td>\n      <td>NaN</td>\n      <td>0.750037</td>\n      <td></td>\n      <td></td>\n      <td>NaN</td>\n    </tr>\n  </tbody>\n</table>\n<p>117 rows × 10 columns</p>\n</div>"
     },
     "execution_count": 556,
     "metadata": {},
     "output_type": "execute_result"
    }
   ],
   "source": [
    "dfdemographic.sort_values(by=['Marginal_Error'], ascending = False)"
   ],
   "metadata": {
    "collapsed": false,
    "pycharm": {
     "name": "#%%\n"
    }
   }
  },
  {
   "cell_type": "markdown",
   "source": [
    "The error in the compounded marginal distributions is very low for gender and race demographics.\n",
    "On the other hand, the approximation of party - race correlations is poor. This means that there are likely some external, higher order effects that\n",
    "changes a race demographic's opinion."
   ],
   "metadata": {
    "collapsed": false,
    "pycharm": {
     "name": "#%% md\n"
    }
   }
  },
  {
   "cell_type": "markdown",
   "metadata": {},
   "source": [
    "### 4) Bonus points (up to 6 points): Implement a \"cheap\" version of the MRP technique mentioned in class.\n",
    "\n",
    "<font color='blue'> The above techniques use the mean answer among people who share a demographic as the estimate for that demographic. But that wastes information _across_ demographics. For example, maybe people who only have \"Some College\" are similar enough to people who have \"High School\" as to provide some useful information. \n",
    "\n",
    "First, do the following: use a logistic regression (or your favorite prediction tool) to predict candidate choice, using the demographics. You might want to convert some demographics (like education) to ordered numeric (e.g., 1, 2, 3) as opposed to using discrete categories. \n",
    "\n",
    "Here, you will earn partial bonus points by just reporting the predictions and comparing them to the means of each covariate group in the raw polling data. Give a scatter-plot, where each point is one combination of full demographics (age, gender, party, race/ethnicity, education), the X axis is the raw polling average for that combination, and the Y axis is your regression prediction for that combination.   \n",
    "\n",
    "Then, once you have predictions for each set of covariates, \"post-stratify\" to get a single population estimate by plugging them into the above weighting techniques, where you use the predictions instead of the raw averages in that cell. Report the resulting estimates if you do the 2-dimensional joint weighting (on every pair).\n",
    "\n"
   ]
  },
  {
   "cell_type": "code",
   "execution_count": 556,
   "metadata": {},
   "outputs": [],
   "source": []
  },
  {
   "cell_type": "markdown",
   "metadata": {},
   "source": [
    "### 5) Bonus points (up to 3 points): Implement full \"raking\" using all the demographic covariates, i.e., match all the marginals without assuming independence, as opposed to just one or two marginal distributions.\n",
    "\n",
    "<font color='blue'> You may use existing python packages, such as [here](https://quantipy.readthedocs.io/en/staging-develop/sites/lib_doc/weights/01_background.html#the-statistical-problem). Another approach would be to use [rpy2](https://rpy2.github.io/doc/latest/html/introduction.html) to call `R`, as there are many well-maintained packages in `R` to analyze polling data. One example is [here](https://www.rdocumentation.org/packages/survey/versions/4.1-1/topics/rake). "
   ]
  },
  {
   "cell_type": "code",
   "execution_count": 556,
   "metadata": {},
   "outputs": [],
   "source": []
  },
  {
   "cell_type": "markdown",
   "metadata": {},
   "source": [
    "## Part C: Uncertainty analysis and choices"
   ]
  },
  {
   "cell_type": "markdown",
   "metadata": {},
   "source": [
    "### 1) Education weighting analysis and \"refused\" answers"
   ]
  },
  {
   "cell_type": "markdown",
   "metadata": {},
   "source": [
    "<font color='blue'> i. In Part B, you should notice a discrepancy from what we said in class and the data -- weighting by education does _not_ seem to help much in reducing the polling average from being pro-Clinton. Dig into the data to see why the methods we tried above might not be perfect, and what data you would want (such as demographic joint distribution) to do better. Discuss in 5 sentences or less. Especially convincing would be plots/calculations on what would happen under hypothetical data. \n",
    "\n",
    "Hint: Look at polling average broken up by just education, and then broken up by education and other covariates. Especially helpful may be the following pandas command:\n",
    "\n",
    "`dfpoll.groupby(['education', ...])['candidate'].value_counts(normalize = True)`\n",
    "\n",
    "where ... is replaced by other columns"
   ]
  },
  {
   "cell_type": "code",
   "execution_count": 589,
   "outputs": [
    {
     "data": {
      "text/plain": "education     candidate      \nCollege       Hillary Clinton    0.460317\n              Donald Trump       0.373016\n              Do not know        0.071429\n              Will not vote      0.060847\n              Someone else       0.034392\nHigh School   Hillary Clinton    0.456140\n              Donald Trump       0.397661\n              Do not know        0.105263\n              Will not vote      0.023392\n              Someone else       0.017544\nRefused       Do not know        0.416667\n              Donald Trump       0.250000\n              Hillary Clinton    0.166667\n              Someone else       0.083333\n              Will not vote      0.083333\nSome College  Hillary Clinton    0.454248\n              Donald Trump       0.375817\n              Do not know        0.091503\n              Someone else       0.042484\n              Will not vote      0.035948\nName: candidate, dtype: float64"
     },
     "execution_count": 589,
     "metadata": {},
     "output_type": "execute_result"
    }
   ],
   "source": [
    "dfpoll.groupby(['education'])['candidate'].value_counts(normalize = True)[0:20]"
   ],
   "metadata": {
    "collapsed": false,
    "pycharm": {
     "name": "#%%\n"
    }
   }
  },
  {
   "cell_type": "code",
   "execution_count": 587,
   "metadata": {},
   "outputs": [
    {
     "data": {
      "text/plain": "education    race      candidate      \nCollege      Black     Hillary Clinton    0.696970\n                       Do not know        0.151515\n                       Donald Trump       0.090909\n                       Will not vote      0.060606\n             Hispanic  Hillary Clinton    0.602740\n                       Donald Trump       0.178082\n                       Do not know        0.123288\n                       Will not vote      0.054795\n                       Someone else       0.041096\n             Other     Hillary Clinton    0.500000\n                       Donald Trump       0.250000\n                       Will not vote      0.200000\n                       Someone else       0.050000\n             Refused   Donald Trump       0.444444\n                       Hillary Clinton    0.444444\n                       Do not know        0.111111\n             White     Donald Trump       0.477366\n                       Hillary Clinton    0.382716\n                       Will not vote      0.053498\n                       Do not know        0.049383\n                       Someone else       0.037037\nHigh School  Black     Hillary Clinton    0.757576\n                       Do not know        0.090909\n                       Will not vote      0.090909\n                       Donald Trump       0.060606\n             Hispanic  Hillary Clinton    0.697674\n                       Donald Trump       0.139535\n                       Do not know        0.093023\n                       Someone else       0.069767\n             Other     Donald Trump       0.500000\n                       Hillary Clinton    0.333333\n                       Do not know        0.166667\n             Refused   Do not know        0.500000\n                       Donald Trump       0.500000\n             White     Donald Trump       0.643678\n                       Hillary Clinton    0.241379\n                       Do not know        0.103448\n                       Will not vote      0.011494\nRefused      Black     Do not know        0.500000\n                       Hillary Clinton    0.500000\n             Hispanic  Donald Trump       1.000000\n             Refused   Do not know        0.375000\n                       Donald Trump       0.250000\n                       Hillary Clinton    0.125000\n                       Someone else       0.125000\n                       Will not vote      0.125000\n             White     Do not know        1.000000\nName: candidate, dtype: float64"
     },
     "execution_count": 587,
     "metadata": {},
     "output_type": "execute_result"
    }
   ],
   "source": [
    "dfpoll.groupby(['education', 'race'])['candidate'].value_counts(normalize = True)[0:35]"
   ]
  },
  {
   "cell_type": "code",
   "execution_count": 590,
   "outputs": [
    {
     "data": {
      "text/plain": "education     gender  candidate      \nCollege       Female  Hillary Clinton    0.522222\n                      Donald Trump       0.327778\n                      Will not vote      0.066667\n                      Do not know        0.055556\n                      Someone else       0.027778\n              Male    Donald Trump       0.414141\n                      Hillary Clinton    0.404040\n                      Do not know        0.085859\n                      Will not vote      0.055556\n                      Someone else       0.040404\nHigh School   Female  Hillary Clinton    0.505376\n                      Donald Trump       0.354839\n                      Do not know        0.107527\n                      Someone else       0.021505\n                      Will not vote      0.010753\n              Male    Donald Trump       0.448718\n                      Hillary Clinton    0.397436\n                      Do not know        0.102564\n                      Will not vote      0.038462\n                      Someone else       0.012821\nRefused       Female  Do not know        0.428571\n                      Hillary Clinton    0.285714\n                      Donald Trump       0.142857\n                      Someone else       0.142857\n              Male    Do not know        0.400000\n                      Donald Trump       0.400000\n                      Will not vote      0.200000\nSome College  Female  Hillary Clinton    0.484472\n                      Donald Trump       0.354037\n                      Do not know        0.118012\n                      Someone else       0.024845\n                      Will not vote      0.018634\n              Male    Hillary Clinton    0.420690\n                      Donald Trump       0.400000\n                      Do not know        0.062069\n                      Someone else       0.062069\n                      Will not vote      0.055172\nName: candidate, dtype: float64"
     },
     "execution_count": 590,
     "metadata": {},
     "output_type": "execute_result"
    }
   ],
   "source": [
    "dfpoll.groupby(['education', 'gender'])['candidate'].value_counts(normalize = True)[0:35]"
   ],
   "metadata": {
    "collapsed": false,
    "pycharm": {
     "name": "#%%\n"
    }
   }
  },
  {
   "cell_type": "code",
   "execution_count": 605,
   "outputs": [
    {
     "data": {
      "text/plain": "                                          candidate\neducation    party       candidate                 \nCollege      Democrat    Hillary Clinton   0.859259\n                         Do not know       0.051852\n                         Donald Trump      0.051852\n                         Will not vote     0.029630\n                         Someone else      0.007407\n             Independent Donald Trump      0.356061\n                         Hillary Clinton   0.348485\n                         Do not know       0.106061\n                         Will not vote     0.106061\n                         Someone else      0.083333\n             Refused     Hillary Clinton   1.000000\n             Republican  Donald Trump      0.813084\n                         Hillary Clinton   0.074766\n                         Do not know       0.056075\n                         Will not vote     0.046729\n                         Someone else      0.009346\nHigh School  Democrat    Hillary Clinton   0.797101\n                         Do not know       0.086957\n                         Donald Trump      0.086957\n                         Someone else      0.014493\n                         Will not vote     0.014493\n             Independent Donald Trump      0.387755\n                         Hillary Clinton   0.367347\n                         Do not know       0.163265\n                         Someone else      0.040816\n                         Will not vote     0.040816\n             Refused     Hillary Clinton   0.600000\n                         Do not know       0.400000\n             Republican  Donald Trump      0.895833\n                         Do not know       0.041667\n                         Hillary Clinton   0.041667\n                         Will not vote     0.020833\nRefused      Democrat    Hillary Clinton   0.500000\n                         Do not know       0.250000\n                         Someone else      0.250000\n             Independent Do not know       0.666667\n                         Donald Trump      0.333333\n             Refused     Do not know       0.666667\n                         Will not vote     0.333333\n             Republican  Donald Trump      1.000000\nSome College Democrat    Hillary Clinton   0.873786\n                         Do not know       0.048544\n                         Donald Trump      0.038835\n                         Will not vote     0.029126\n                         Someone else      0.009709\n             Independent Donald Trump      0.364407\n                         Hillary Clinton   0.355932\n                         Do not know       0.135593\n                         Someone else      0.093220\n                         Will not vote     0.050847\n             Refused     Do not know       0.500000\n                         Donald Trump      0.166667\n                         Hillary Clinton   0.166667\n                         Will not vote     0.166667\n             Republican  Donald Trump      0.848101\n                         Hillary Clinton   0.075949\n                         Do not know       0.050633\n                         Someone else      0.012658\n                         Will not vote     0.012658",
      "text/html": "<div>\n<style scoped>\n    .dataframe tbody tr th:only-of-type {\n        vertical-align: middle;\n    }\n\n    .dataframe tbody tr th {\n        vertical-align: top;\n    }\n\n    .dataframe thead th {\n        text-align: right;\n    }\n</style>\n<table border=\"1\" class=\"dataframe\">\n  <thead>\n    <tr style=\"text-align: right;\">\n      <th></th>\n      <th></th>\n      <th></th>\n      <th>candidate</th>\n    </tr>\n    <tr>\n      <th>education</th>\n      <th>party</th>\n      <th>candidate</th>\n      <th></th>\n    </tr>\n  </thead>\n  <tbody>\n    <tr>\n      <th rowspan=\"16\" valign=\"top\">College</th>\n      <th rowspan=\"5\" valign=\"top\">Democrat</th>\n      <th>Hillary Clinton</th>\n      <td>0.859259</td>\n    </tr>\n    <tr>\n      <th>Do not know</th>\n      <td>0.051852</td>\n    </tr>\n    <tr>\n      <th>Donald Trump</th>\n      <td>0.051852</td>\n    </tr>\n    <tr>\n      <th>Will not vote</th>\n      <td>0.029630</td>\n    </tr>\n    <tr>\n      <th>Someone else</th>\n      <td>0.007407</td>\n    </tr>\n    <tr>\n      <th rowspan=\"5\" valign=\"top\">Independent</th>\n      <th>Donald Trump</th>\n      <td>0.356061</td>\n    </tr>\n    <tr>\n      <th>Hillary Clinton</th>\n      <td>0.348485</td>\n    </tr>\n    <tr>\n      <th>Do not know</th>\n      <td>0.106061</td>\n    </tr>\n    <tr>\n      <th>Will not vote</th>\n      <td>0.106061</td>\n    </tr>\n    <tr>\n      <th>Someone else</th>\n      <td>0.083333</td>\n    </tr>\n    <tr>\n      <th>Refused</th>\n      <th>Hillary Clinton</th>\n      <td>1.000000</td>\n    </tr>\n    <tr>\n      <th rowspan=\"5\" valign=\"top\">Republican</th>\n      <th>Donald Trump</th>\n      <td>0.813084</td>\n    </tr>\n    <tr>\n      <th>Hillary Clinton</th>\n      <td>0.074766</td>\n    </tr>\n    <tr>\n      <th>Do not know</th>\n      <td>0.056075</td>\n    </tr>\n    <tr>\n      <th>Will not vote</th>\n      <td>0.046729</td>\n    </tr>\n    <tr>\n      <th>Someone else</th>\n      <td>0.009346</td>\n    </tr>\n    <tr>\n      <th rowspan=\"16\" valign=\"top\">High School</th>\n      <th rowspan=\"5\" valign=\"top\">Democrat</th>\n      <th>Hillary Clinton</th>\n      <td>0.797101</td>\n    </tr>\n    <tr>\n      <th>Do not know</th>\n      <td>0.086957</td>\n    </tr>\n    <tr>\n      <th>Donald Trump</th>\n      <td>0.086957</td>\n    </tr>\n    <tr>\n      <th>Someone else</th>\n      <td>0.014493</td>\n    </tr>\n    <tr>\n      <th>Will not vote</th>\n      <td>0.014493</td>\n    </tr>\n    <tr>\n      <th rowspan=\"5\" valign=\"top\">Independent</th>\n      <th>Donald Trump</th>\n      <td>0.387755</td>\n    </tr>\n    <tr>\n      <th>Hillary Clinton</th>\n      <td>0.367347</td>\n    </tr>\n    <tr>\n      <th>Do not know</th>\n      <td>0.163265</td>\n    </tr>\n    <tr>\n      <th>Someone else</th>\n      <td>0.040816</td>\n    </tr>\n    <tr>\n      <th>Will not vote</th>\n      <td>0.040816</td>\n    </tr>\n    <tr>\n      <th rowspan=\"2\" valign=\"top\">Refused</th>\n      <th>Hillary Clinton</th>\n      <td>0.600000</td>\n    </tr>\n    <tr>\n      <th>Do not know</th>\n      <td>0.400000</td>\n    </tr>\n    <tr>\n      <th rowspan=\"4\" valign=\"top\">Republican</th>\n      <th>Donald Trump</th>\n      <td>0.895833</td>\n    </tr>\n    <tr>\n      <th>Do not know</th>\n      <td>0.041667</td>\n    </tr>\n    <tr>\n      <th>Hillary Clinton</th>\n      <td>0.041667</td>\n    </tr>\n    <tr>\n      <th>Will not vote</th>\n      <td>0.020833</td>\n    </tr>\n    <tr>\n      <th rowspan=\"8\" valign=\"top\">Refused</th>\n      <th rowspan=\"3\" valign=\"top\">Democrat</th>\n      <th>Hillary Clinton</th>\n      <td>0.500000</td>\n    </tr>\n    <tr>\n      <th>Do not know</th>\n      <td>0.250000</td>\n    </tr>\n    <tr>\n      <th>Someone else</th>\n      <td>0.250000</td>\n    </tr>\n    <tr>\n      <th rowspan=\"2\" valign=\"top\">Independent</th>\n      <th>Do not know</th>\n      <td>0.666667</td>\n    </tr>\n    <tr>\n      <th>Donald Trump</th>\n      <td>0.333333</td>\n    </tr>\n    <tr>\n      <th rowspan=\"2\" valign=\"top\">Refused</th>\n      <th>Do not know</th>\n      <td>0.666667</td>\n    </tr>\n    <tr>\n      <th>Will not vote</th>\n      <td>0.333333</td>\n    </tr>\n    <tr>\n      <th>Republican</th>\n      <th>Donald Trump</th>\n      <td>1.000000</td>\n    </tr>\n    <tr>\n      <th rowspan=\"19\" valign=\"top\">Some College</th>\n      <th rowspan=\"5\" valign=\"top\">Democrat</th>\n      <th>Hillary Clinton</th>\n      <td>0.873786</td>\n    </tr>\n    <tr>\n      <th>Do not know</th>\n      <td>0.048544</td>\n    </tr>\n    <tr>\n      <th>Donald Trump</th>\n      <td>0.038835</td>\n    </tr>\n    <tr>\n      <th>Will not vote</th>\n      <td>0.029126</td>\n    </tr>\n    <tr>\n      <th>Someone else</th>\n      <td>0.009709</td>\n    </tr>\n    <tr>\n      <th rowspan=\"5\" valign=\"top\">Independent</th>\n      <th>Donald Trump</th>\n      <td>0.364407</td>\n    </tr>\n    <tr>\n      <th>Hillary Clinton</th>\n      <td>0.355932</td>\n    </tr>\n    <tr>\n      <th>Do not know</th>\n      <td>0.135593</td>\n    </tr>\n    <tr>\n      <th>Someone else</th>\n      <td>0.093220</td>\n    </tr>\n    <tr>\n      <th>Will not vote</th>\n      <td>0.050847</td>\n    </tr>\n    <tr>\n      <th rowspan=\"4\" valign=\"top\">Refused</th>\n      <th>Do not know</th>\n      <td>0.500000</td>\n    </tr>\n    <tr>\n      <th>Donald Trump</th>\n      <td>0.166667</td>\n    </tr>\n    <tr>\n      <th>Hillary Clinton</th>\n      <td>0.166667</td>\n    </tr>\n    <tr>\n      <th>Will not vote</th>\n      <td>0.166667</td>\n    </tr>\n    <tr>\n      <th rowspan=\"5\" valign=\"top\">Republican</th>\n      <th>Donald Trump</th>\n      <td>0.848101</td>\n    </tr>\n    <tr>\n      <th>Hillary Clinton</th>\n      <td>0.075949</td>\n    </tr>\n    <tr>\n      <th>Do not know</th>\n      <td>0.050633</td>\n    </tr>\n    <tr>\n      <th>Someone else</th>\n      <td>0.012658</td>\n    </tr>\n    <tr>\n      <th>Will not vote</th>\n      <td>0.012658</td>\n    </tr>\n  </tbody>\n</table>\n</div>"
     },
     "execution_count": 605,
     "metadata": {},
     "output_type": "execute_result"
    }
   ],
   "source": [
    "dfpoll.groupby(['education', 'party'])['candidate'].value_counts(normalize = True).to_frame()"
   ],
   "metadata": {
    "collapsed": false,
    "pycharm": {
     "name": "#%%\n"
    }
   }
  },
  {
   "cell_type": "markdown",
   "source": [],
   "metadata": {
    "collapsed": false,
    "pycharm": {
     "name": "#%% md\n"
    }
   }
  },
  {
   "cell_type": "markdown",
   "metadata": {},
   "source": [
    "<font color='blue'> ii. You'll notice that there are many responses with \"refused,\" and that those people in particular are Trump-leaning. The weighting techniques we used above would ignore these people. How would you adjust your procedures/estimates above to take them into account? Especially convincing would be plots/calculations on what would happen under hypothetical data. Answer in at most 3 sentences."
   ]
  },
  {
   "cell_type": "code",
   "execution_count": 558,
   "metadata": {},
   "outputs": [],
   "source": []
  },
  {
   "cell_type": "markdown",
   "metadata": {},
   "source": [
    "<font color='blue'> None of the above techniques deal with selection biases/non-response on _un-measured_ covariates. Do you think that may be an important concern in this dataset? Why or why not? Respond in 3 or fewer sentences."
   ]
  },
  {
   "cell_type": "code",
   "execution_count": 558,
   "metadata": {},
   "outputs": [],
   "source": []
  },
  {
   "cell_type": "markdown",
   "metadata": {},
   "source": [
    "### 2) Final estimates"
   ]
  },
  {
   "cell_type": "markdown",
   "metadata": {},
   "source": [
    "<font color='blue'> Throughout this homework, you made many estimates of the same quantity -- the fraction of people who will vote for Clinton in Florida. Below, plot a histogram of all your estimates."
   ]
  },
  {
   "cell_type": "code",
   "execution_count": 558,
   "metadata": {},
   "outputs": [],
   "source": []
  },
  {
   "cell_type": "markdown",
   "metadata": {},
   "source": [
    "<font color='blue'> Given all your above analysis, if you were a pollster what would you report as your single estimate? "
   ]
  },
  {
   "cell_type": "code",
   "execution_count": 558,
   "metadata": {},
   "outputs": [],
   "source": []
  },
  {
   "cell_type": "markdown",
   "metadata": {},
   "source": [
    "<font color='blue'> Justify your choice, in at most 3 sentences"
   ]
  },
  {
   "cell_type": "code",
   "execution_count": 558,
   "metadata": {},
   "outputs": [],
   "source": []
  },
  {
   "cell_type": "markdown",
   "metadata": {},
   "source": [
    "<font color='blue'> Though we did not discuss how to calculate margin of error or standard errors with weighting in this course, what would you say if someone asked you how confident you are in your estimate? You may either qualitatively answer, or try to come up with a margin of error.  "
   ]
  },
  {
   "cell_type": "code",
   "execution_count": 558,
   "metadata": {},
   "outputs": [],
   "source": []
  }
 ],
 "metadata": {
  "kernelspec": {
   "display_name": "Python 3",
   "language": "python",
   "name": "python3"
  },
  "language_info": {
   "codemirror_mode": {
    "name": "ipython",
    "version": 3
   },
   "file_extension": ".py",
   "mimetype": "text/x-python",
   "name": "python",
   "nbconvert_exporter": "python",
   "pygments_lexer": "ipython3",
   "version": "3.6.7"
  },
  "varInspector": {
   "cols": {
    "lenName": 16,
    "lenType": 16,
    "lenVar": 40
   },
   "kernels_config": {
    "python": {
     "delete_cmd_postfix": "",
     "delete_cmd_prefix": "del ",
     "library": "var_list.py",
     "varRefreshCmd": "print(var_dic_list())"
    },
    "r": {
     "delete_cmd_postfix": ") ",
     "delete_cmd_prefix": "rm(",
     "library": "var_list.r",
     "varRefreshCmd": "cat(var_dic_list()) "
    }
   },
   "types_to_exclude": [
    "module",
    "function",
    "builtin_function_or_method",
    "instance",
    "_Feature"
   ],
   "window_display": false
  }
 },
 "nbformat": 4,
 "nbformat_minor": 2
}